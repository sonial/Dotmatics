{
 "cells": [
  {
   "cell_type": "markdown",
   "metadata": {},
   "source": [
    "#install the required libaries\n",
    "\n",
    "!pip install git+ssh://git@github.com/healx/healx-chem.git && pip install git+ssh://git@github.com/healx/healx-python.git#egg=healx && pip insyall healx[graphql]"
   ]
  },
  {
   "cell_type": "code",
   "execution_count": 1,
   "metadata": {},
   "outputs": [
    {
     "name": "stdout",
     "output_type": "stream",
     "text": [
      "2024-09-19 12:26:29 INFO: NumExpr defaulting to 8 threads. [numexpr.utils:161]\n"
     ]
    }
   ],
   "source": [
    "from healx.graphql_client import client\n",
    "from healx_chem import CompoundSpace\n",
    "import csv\n",
    "import pandas as pd\n",
    "import os\n",
    "from dotenv import load_dotenv\n",
    "#from pathlib import Path "
   ]
  },
  {
   "cell_type": "code",
   "execution_count": 2,
   "metadata": {},
   "outputs": [
    {
     "name": "stdout",
     "output_type": "stream",
     "text": [
      "2024-09-19 12:26:31 INFO: Python-dotenv could not find configuration file .env. [dotenv.main:77]\n"
     ]
    }
   ],
   "source": [
    "# Load the environment variables from the .env file\n",
    "load_dotenv(verbose = True)\n",
    "\n",
    "# Access the environment variables\n",
    "eee = os.getenv('GRAPHQL_API_URL')\n",
    "os.getenv('GRAPHQL_API_CLIENT')\n",
    "os.getenv('GRAPHQL_API_KEY')"
   ]
  },
  {
   "cell_type": "code",
   "execution_count": 3,
   "metadata": {},
   "outputs": [],
   "source": [
    "#get the tautomer parent SMILES for all compounds in KB\n",
    "def fetch_smiles_KB():\n",
    "    query = \"\"\"{\n",
    "      compounds{\n",
    "        name\n",
    "        primaryForm{\n",
    "          standardisedStructures{\n",
    "            tautomerParentSmiles\n",
    "          }\n",
    "        }\n",
    "      }\n",
    "    }\n",
    "\"\"\"\n",
    "    compounds = client(query)[\"compounds\"]\n",
    "    return compounds"
   ]
  },
  {
   "cell_type": "code",
   "execution_count": 4,
   "metadata": {},
   "outputs": [
    {
     "ename": "HTTPError",
     "evalue": "403 Client Error: FORBIDDEN for url: https://kb.healx.io/api/graphql",
     "output_type": "error",
     "traceback": [
      "\u001b[0;31m---------------------------------------------------------------------------\u001b[0m",
      "\u001b[0;31mHTTPError\u001b[0m                                 Traceback (most recent call last)",
      "Cell \u001b[0;32mIn[4], line 1\u001b[0m\n\u001b[0;32m----> 1\u001b[0m KBcompounds \u001b[38;5;241m=\u001b[39m \u001b[43mfetch_smiles_KB\u001b[49m\u001b[43m(\u001b[49m\u001b[43m)\u001b[49m\n",
      "Cell \u001b[0;32mIn[3], line 14\u001b[0m, in \u001b[0;36mfetch_smiles_KB\u001b[0;34m()\u001b[0m\n\u001b[1;32m      2\u001b[0m \u001b[38;5;28;01mdef\u001b[39;00m \u001b[38;5;21mfetch_smiles_KB\u001b[39m():\n\u001b[1;32m      3\u001b[0m     query \u001b[38;5;241m=\u001b[39m \u001b[38;5;124m\"\"\"\u001b[39m\u001b[38;5;124m{\u001b[39m\n\u001b[1;32m      4\u001b[0m \u001b[38;5;124m      compounds\u001b[39m\u001b[38;5;124m{\u001b[39m\n\u001b[1;32m      5\u001b[0m \u001b[38;5;124m        name\u001b[39m\n\u001b[0;32m   (...)\u001b[0m\n\u001b[1;32m     12\u001b[0m \u001b[38;5;124m    }\u001b[39m\n\u001b[1;32m     13\u001b[0m \u001b[38;5;124m\"\"\"\u001b[39m\n\u001b[0;32m---> 14\u001b[0m     compounds \u001b[38;5;241m=\u001b[39m \u001b[43mclient\u001b[49m\u001b[43m(\u001b[49m\u001b[43mquery\u001b[49m\u001b[43m)\u001b[49m[\u001b[38;5;124m\"\u001b[39m\u001b[38;5;124mcompounds\u001b[39m\u001b[38;5;124m\"\u001b[39m]\n\u001b[1;32m     15\u001b[0m     \u001b[38;5;28;01mreturn\u001b[39;00m compounds\n",
      "File \u001b[0;32m~/.pyenv/versions/3.9.11/envs/Dotmatics2KB/lib/python3.9/site-packages/healx/graphql_client.py:22\u001b[0m, in \u001b[0;36mclient\u001b[0;34m(query, variables, env_file)\u001b[0m\n\u001b[1;32m     18\u001b[0m     env_file \u001b[38;5;241m=\u001b[39m \u001b[38;5;124m\"\u001b[39m\u001b[38;5;124msettings.env\u001b[39m\u001b[38;5;124m\"\u001b[39m\n\u001b[1;32m     20\u001b[0m load_dotenv(env_file)\n\u001b[0;32m---> 22\u001b[0m \u001b[38;5;28;01mreturn\u001b[39;00m \u001b[43m_graphql\u001b[49m\u001b[43m(\u001b[49m\n\u001b[1;32m     23\u001b[0m \u001b[43m    \u001b[49m\u001b[43mquery\u001b[49m\u001b[43m,\u001b[49m\n\u001b[1;32m     24\u001b[0m \u001b[43m    \u001b[49m\u001b[43mvariables\u001b[49m\u001b[43m,\u001b[49m\n\u001b[1;32m     25\u001b[0m \u001b[43m    \u001b[49m\u001b[43murl\u001b[49m\u001b[38;5;241;43m=\u001b[39;49m\u001b[43mos\u001b[49m\u001b[38;5;241;43m.\u001b[39;49m\u001b[43mgetenv\u001b[49m\u001b[43m(\u001b[49m\u001b[38;5;124;43m\"\u001b[39;49m\u001b[38;5;124;43mGRAPHQL_API_URL\u001b[39;49m\u001b[38;5;124;43m\"\u001b[39;49m\u001b[43m,\u001b[49m\u001b[43m \u001b[49m\u001b[38;5;28;43;01mNone\u001b[39;49;00m\u001b[43m)\u001b[49m\u001b[43m,\u001b[49m\n\u001b[1;32m     26\u001b[0m \u001b[43m    \u001b[49m\u001b[43mapi_client\u001b[49m\u001b[38;5;241;43m=\u001b[39;49m\u001b[43mos\u001b[49m\u001b[38;5;241;43m.\u001b[39;49m\u001b[43mgetenv\u001b[49m\u001b[43m(\u001b[49m\u001b[38;5;124;43m\"\u001b[39;49m\u001b[38;5;124;43mGRAPHQL_API_CLIENT\u001b[39;49m\u001b[38;5;124;43m\"\u001b[39;49m\u001b[43m,\u001b[49m\u001b[43m \u001b[49m\u001b[38;5;28;43;01mNone\u001b[39;49;00m\u001b[43m)\u001b[49m\u001b[43m,\u001b[49m\n\u001b[1;32m     27\u001b[0m \u001b[43m    \u001b[49m\u001b[43mapi_key\u001b[49m\u001b[38;5;241;43m=\u001b[39;49m\u001b[43mos\u001b[49m\u001b[38;5;241;43m.\u001b[39;49m\u001b[43mgetenv\u001b[49m\u001b[43m(\u001b[49m\u001b[38;5;124;43m\"\u001b[39;49m\u001b[38;5;124;43mGRAPHQL_API_KEY\u001b[39;49m\u001b[38;5;124;43m\"\u001b[39;49m\u001b[43m,\u001b[49m\u001b[43m \u001b[49m\u001b[38;5;28;43;01mNone\u001b[39;49;00m\u001b[43m)\u001b[49m\u001b[43m,\u001b[49m\n\u001b[1;32m     28\u001b[0m \u001b[43m\u001b[49m\u001b[43m)\u001b[49m\n",
      "File \u001b[0;32m~/.pyenv/versions/3.9.11/envs/Dotmatics2KB/lib/python3.9/site-packages/healx/graphql_client.py:47\u001b[0m, in \u001b[0;36m_graphql\u001b[0;34m(query, variables, url, api_client, api_key)\u001b[0m\n\u001b[1;32m     39\u001b[0m _logger\u001b[38;5;241m.\u001b[39mdebug(\u001b[38;5;124m\"\u001b[39m\u001b[38;5;124mvariables:\u001b[39m\u001b[38;5;130;01m\\n\u001b[39;00m\u001b[38;5;132;01m%s\u001b[39;00m\u001b[38;5;124m\"\u001b[39m, variables)\n\u001b[1;32m     41\u001b[0m response \u001b[38;5;241m=\u001b[39m requests\u001b[38;5;241m.\u001b[39mpost(\n\u001b[1;32m     42\u001b[0m     url\u001b[38;5;241m=\u001b[39murl,\n\u001b[1;32m     43\u001b[0m     auth\u001b[38;5;241m=\u001b[39m(api_client, api_key),\n\u001b[1;32m     44\u001b[0m     json\u001b[38;5;241m=\u001b[39m{\u001b[38;5;124m\"\u001b[39m\u001b[38;5;124mquery\u001b[39m\u001b[38;5;124m\"\u001b[39m: query, \u001b[38;5;124m\"\u001b[39m\u001b[38;5;124mvariables\u001b[39m\u001b[38;5;124m\"\u001b[39m: variables},\n\u001b[1;32m     45\u001b[0m     headers\u001b[38;5;241m=\u001b[39m{\u001b[38;5;124m\"\u001b[39m\u001b[38;5;124mAccept\u001b[39m\u001b[38;5;124m\"\u001b[39m: \u001b[38;5;124m\"\u001b[39m\u001b[38;5;124mapplication/json\u001b[39m\u001b[38;5;124m\"\u001b[39m},\n\u001b[1;32m     46\u001b[0m )\n\u001b[0;32m---> 47\u001b[0m \u001b[43mresponse\u001b[49m\u001b[38;5;241;43m.\u001b[39;49m\u001b[43mraise_for_status\u001b[49m\u001b[43m(\u001b[49m\u001b[43m)\u001b[49m\n\u001b[1;32m     49\u001b[0m response_body \u001b[38;5;241m=\u001b[39m response\u001b[38;5;241m.\u001b[39mjson()\n\u001b[1;32m     50\u001b[0m errors \u001b[38;5;241m=\u001b[39m response_body\u001b[38;5;241m.\u001b[39mget(\u001b[38;5;124m\"\u001b[39m\u001b[38;5;124merrors\u001b[39m\u001b[38;5;124m\"\u001b[39m)\n",
      "File \u001b[0;32m~/.pyenv/versions/3.9.11/envs/Dotmatics2KB/lib/python3.9/site-packages/requests/models.py:1024\u001b[0m, in \u001b[0;36mResponse.raise_for_status\u001b[0;34m(self)\u001b[0m\n\u001b[1;32m   1019\u001b[0m     http_error_msg \u001b[38;5;241m=\u001b[39m (\n\u001b[1;32m   1020\u001b[0m         \u001b[38;5;124mf\u001b[39m\u001b[38;5;124m\"\u001b[39m\u001b[38;5;132;01m{\u001b[39;00m\u001b[38;5;28mself\u001b[39m\u001b[38;5;241m.\u001b[39mstatus_code\u001b[38;5;132;01m}\u001b[39;00m\u001b[38;5;124m Server Error: \u001b[39m\u001b[38;5;132;01m{\u001b[39;00mreason\u001b[38;5;132;01m}\u001b[39;00m\u001b[38;5;124m for url: \u001b[39m\u001b[38;5;132;01m{\u001b[39;00m\u001b[38;5;28mself\u001b[39m\u001b[38;5;241m.\u001b[39murl\u001b[38;5;132;01m}\u001b[39;00m\u001b[38;5;124m\"\u001b[39m\n\u001b[1;32m   1021\u001b[0m     )\n\u001b[1;32m   1023\u001b[0m \u001b[38;5;28;01mif\u001b[39;00m http_error_msg:\n\u001b[0;32m-> 1024\u001b[0m     \u001b[38;5;28;01mraise\u001b[39;00m HTTPError(http_error_msg, response\u001b[38;5;241m=\u001b[39m\u001b[38;5;28mself\u001b[39m)\n",
      "\u001b[0;31mHTTPError\u001b[0m: 403 Client Error: FORBIDDEN for url: https://kb.healx.io/api/graphql"
     ]
    }
   ],
   "source": [
    "KBcompounds = fetch_smiles_KB()"
   ]
  },
  {
   "cell_type": "code",
   "execution_count": 16,
   "metadata": {},
   "outputs": [
    {
     "data": {
      "text/plain": [
       "[{'name': 'PIFOXIME',\n",
       "  'primaryForm': {'standardisedStructures': [{'tautomerParentSmiles': 'C/C(=N\\\\O)c1ccc(OCC(=O)N2CCCCC2)cc1'}]}},\n",
       " {'name': 'CHEMBL2089269',\n",
       "  'primaryForm': {'standardisedStructures': [{'tautomerParentSmiles': 'Cn1c(Sc2ncnc3sccc23)nnc1C1CC1'},\n",
       "    {'tautomerParentSmiles': 'Cn1c(Sc2ncnc3sccc23)nnc1C1CC1'}]}},\n",
       " {'name': 'AD-204', 'primaryForm': {'standardisedStructures': []}},\n",
       " {'name': 'CA-01X', 'primaryForm': {'standardisedStructures': []}},\n",
       " {'name': 'JCP2022_093453',\n",
       "  'primaryForm': {'standardisedStructures': [{'tautomerParentSmiles': 'CN(C)CC1CN(S(C)(=O)=O)CC1NC(=O)c1cscn1'}]}},\n",
       " {'name': 'JCP2022_093454',\n",
       "  'primaryForm': {'standardisedStructures': [{'tautomerParentSmiles': 'O=c1cc(CN2CCCC2CC(O)c2ccccc2)nc2ccccn12'}]}},\n",
       " {'name': 'MURODERMIN', 'primaryForm': {'standardisedStructures': []}},\n",
       " {'name': 'FASINUMAB', 'primaryForm': {'standardisedStructures': []}},\n",
       " {'name': 'RUNX1/CBF beta inhibitors, Interprotein',\n",
       "  'primaryForm': {'standardisedStructures': []}},\n",
       " {'name': 'JCP2022_093456',\n",
       "  'primaryForm': {'standardisedStructures': [{'tautomerParentSmiles': 'CCC1C(=O)NCCN1C(=O)NCc1cnn(C(C)C)c1'}]}}]"
      ]
     },
     "execution_count": 16,
     "metadata": {},
     "output_type": "execute_result"
    }
   ],
   "source": [
    "KBcompounds[:10]"
   ]
  },
  {
   "cell_type": "code",
   "execution_count": 17,
   "metadata": {},
   "outputs": [
    {
     "name": "stdout",
     "output_type": "stream",
     "text": [
      "58824\n"
     ]
    },
    {
     "data": {
      "text/plain": [
       "{'CHEMBL2089269': 'Cn1c(Sc2ncnc3sccc23)nnc1C1CC1',\n",
       " 'CHEMBL2359269': 'COc1ccc(CCC(=O)NCc2ccc3c(c2)CCN3C(=O)c2ccccc2)cc1',\n",
       " 'CHEMBL1453901': 'O=C(c1ccccc1)N(Cc1ccccc1)Cc1ccccc1',\n",
       " 'CHEMBL3451805': 'CCC(CC)c1cc(C(=O)N2CCN(C(C)C(N)=O)CC2)on1',\n",
       " 'EPINEPHRINE': 'CNC[C@H](O)c1ccc(O)c(O)c1',\n",
       " 'HERNIARIN': 'COc1ccc2ccc(=O)oc2c1',\n",
       " 'CHEMBL56835': 'CC(=O)NC1(c2ccccc2)CCN(CCC(CN(C)C(=O)c2ccccc2)c2ccc(Cl)c(Cl)c2)CC1',\n",
       " '6-THIOGUANYLIC ACID': 'Nc1nc(=S)c2ncn([C@@H]3O[C@H](COP(=O)(O)O)[C@@H](O)[C@H]3O)c2[nH]1',\n",
       " 'DEXAMETHASONE PHOSPHORIC ACID': 'C[C@@H]1C[C@H]2[C@@H]3CC=C4CC(=O)C=C[C@]4(C)[C@@]3(F)[C@@H](O)C[C@]2(C)[C@@]1(O)C(=O)COP(=O)(O)O',\n",
       " 'CLORPRENALINE': 'CC(C)NCC(O)c1ccccc1Cl',\n",
       " 'TRIBROMSALAN': 'O=C(Nc1ccc(Br)cc1)c1cc(Br)cc(Br)c1O',\n",
       " 'CHEMBL1388161': 'COc1ccc(S(=O)(=O)NCCOc2ccccc2)cc1C',\n",
       " 'CHEMBL1518888': 'O=C(COC(=O)c1cc(-c2ccco2)nc2ccccc12)NCc1ccccc1',\n",
       " 'PIPENZOLATE (ChEMBL CHEMBL1619528)': 'CC[N+]1(C)CCCC(OC(=O)C(O)(c2ccccc2)c2ccccc2)C1',\n",
       " 'AMPHOMYCIN': 'CCC(C)CCCCC/C=C/CC(=O)NC(CC(=O)O)C(=O)NC(C(=O)NC(CC(=O)O)C(=O)NCC(=O)NC(CC(=O)O)C(=O)NCC(=O)NC(C(=O)NC(C(=O)N1CCCC1C(=O)NC(C)C1CC(=O)C2CNCCN2C1=O)C(C)C)C(C)N)C(C)C(=O)O',\n",
       " 'CHEMBL1467277': 'CCCn1c(NCc2cccc(OC)c2O)nc2ccccc21',\n",
       " 'AZAPETINE': 'C=CCN1Cc2ccccc2-c2ccccc2C1',\n",
       " 'AZIDAMFENICOL (ChEMBL CHEMBL3989525)': '[N-]=[N+]=NCC(=O)N[C@H](CO)[C@H](O)c1ccc([N+](=O)[O-])cc1',\n",
       " 'BENZILONIUM': 'CC[N+]1(CC)CCC(OC(=O)C(O)(c2ccccc2)c2ccccc2)C1',\n",
       " 'BENZTHIAZIDE': 'NS(=O)(=O)c1cc2c(cc1Cl)N=C(CSCc1ccccc1)NS2(=O)=O',\n",
       " '1,6-Fructose Diphosphate (Linear Form)': 'O=C(C(O)C(O)COP(=O)(O)O)[C@H](O)COP(=O)(O)O',\n",
       " 'CHEMBL4924838': 'OC(COCc1ccccc1)CN1CCCC1c1nnc2ccccn12',\n",
       " 'CHEMBL1412760': 'O=C(c1ccc(C(=O)N2CCCCCC2)cc1)N1CCCCCC1',\n",
       " 'ARGLABIN': 'C=C1C(=O)O[C@@H]2[C@H]3C(C)=CC[C@@]34O[C@@]4(C)CC[C@@H]12',\n",
       " 'CHEMBL1389308': 'Cc1ccc(CC(=O)N2CCN(c3cccc(C(F)(F)F)c3)CC2)cc1',\n",
       " 'Reserpic acid': 'COc1ccc2c3c([nH]c2c1)[C@H]1C[C@H]2[C@H](C[C@@H](O)[C@H](OC)[C@H]2C(=O)O)CN1CC3',\n",
       " 'CHEMBL1530234': 'O=c1c2c([nH]c3ccccc13)CCCCC2',\n",
       " 'CHEMBL1517514': 'Cc1cc(C)nc(SCCS(=O)(=O)Cc2ccccc2)n1',\n",
       " 'Kaolin (DrugBank DB01575)': 'O[Si](O)(O)O[Si](O)(O)O',\n",
       " 'CHEMBL4927986': 'O=C(N1CCOCC1)N1CC(Oc2cccnc2)C1',\n",
       " 'CHEMBL1413744': 'O=C(C1CCCO1)N(Cc1ccccc1)c1ccccc1',\n",
       " 'CHEMBL1559484': 'Cc1cc(Cl)c(Cl)cc1S(=O)(=O)NCCCn1ccnc1',\n",
       " 'CHEMBL3288034': 'O=c1[nH]c(=O)c2cc(S(=O)(=O)Nc3ccc(Oc4cccnc4)cc3)ccc2[nH]1',\n",
       " 'CHEMBL1453406': 'COc1ccc(CNC(=O)Cn2ncn3c(cc4ccccc43)c2=O)cc1',\n",
       " 'ELANTRINE': 'CN(C)CCC=C1c2ccccc2CN(C)c2ccccc21',\n",
       " 'SULFAMETHOXAZOLE': 'Cc1cc(NS(=O)(=O)c2ccc(N)cc2)no1',\n",
       " 'BROQUINALDOL': 'Cc1ccc2c(Br)cc(Br)c(O)c2n1',\n",
       " 'BRIVARACETAM': 'CCC[C@@H]1CC(=O)N([C@@H](CC)C(N)=O)C1',\n",
       " 'DINACICLIB': 'CCc1cnn2c(NCc3ccc[n+]([O-])c3)cc(N3CCCC[C@H]3CCO)nc12',\n",
       " 'PD-146176': 'c1ccc2c(c1)SCc1c-2[nH]c2ccccc12',\n",
       " 'CHEMBL242255': 'O=C(NC1CCCCC1)NC12CC3CC(CC(C3)C1)C2',\n",
       " '2-(2-Amino-1,3-thiazol-4-yl)cyclohexane-1,3-dione': 'Nc1nc(C2C(=O)CCCC2=O)cs1',\n",
       " 'MEMANTINE (ChEMBL CHEMBL807)': 'CC12CC3CC(C)(C1)CC(N)(C3)C2',\n",
       " 'CHEMBL1432619': 'Cc1cc(C)n2ncc(C(=O)NC3CCCCC3)c2n1',\n",
       " 'L 371257': 'COc1cc(OC2CCN(C(C)=O)CC2)ccc1C(=O)N1CCC(N2C(=O)OCc3ccccc32)CC1',\n",
       " 'CHEMBL1444768': 'O=C(Nc1ccn(Cc2ccccc2)n1)c1cccc(F)c1',\n",
       " 'ST50269096': 'CCOC(=O)C=NC(=O)CCc1ccc2c(c1)OCO2',\n",
       " '3-(2-Quinolinyl)acrylic acid': 'O=C(O)/C=C/c1ccc2ccccc2n1',\n",
       " 'LY-3372689': 'CC(=O)Nc1nc(F)c(CN2CC[C@H](OCc3noc(C)n3)C[C@@H]2C)s1',\n",
       " 'GLYBUZOLE': 'CC(C)(C)c1nnc(NS(=O)(=O)c2ccccc2)s1',\n",
       " 'CHEMBL2141746': 'CCCNC(=O)CSc1ccc(S(=O)(=O)N2CCCC2)cn1',\n",
       " 'SMR000002958': 'O=c1[nH]c2cc3c(cc2cc1C(c1nnnn1CC1CCCO1)N1CCCC1)OCO3',\n",
       " 'ABT-107': 'c1cc2cc(-c3ccc(O[C@H]4CN5CCC4CC5)nn3)ccc2[nH]1',\n",
       " 'CHEMBL1509212': 'CCc1ccc(NC(=O)CSc2ccccn2)cc1',\n",
       " 'T0519-1750': 'Cc1ccc(NC(=O)/C(C#N)=C/c2ccsc2)c(C)c1',\n",
       " 'DOVITINIB': 'CN1CCN(c2ccc3[nH]c(-c4c(N)c5c(F)cccc5[nH]c4=O)nc3c2)CC1',\n",
       " 'CHEMBL3491149': 'CC(C)c1ncc2c(n1)CN(Cc1noc(-c3ccccc3)n1)CC2',\n",
       " 'CHEMBL1716612': 'Cc1ccc2ncnc(NCc3ccco3)c2c1',\n",
       " 'CHEMBL1573758': 'CCC(C(=O)Nc1c(C)cc(C)cc1C)N1CCCCCC1',\n",
       " 'CHEMBL1400626': 'Cc1ccc(-c2[nH]c(=O)nc3ccc(Br)cc23)cc1',\n",
       " 'CHEMBL1435789': 'CC(C)C(=O)Nc1ccc2nc(SCC(=O)N3CCc4ccccc43)sc2c1',\n",
       " 'CARAMIPHEN': 'CCN(CC)CCOC(=O)C1(c2ccccc2)CCCC1',\n",
       " 'E927A': 'NC(=O)/N=N/C(N)=O',\n",
       " 'BENZARONE': 'CCc1oc2ccccc2c1C(=O)c1ccc(O)cc1',\n",
       " 'CHEMBL1702371': 'COc1ccc(-c2nc3c4ccccc4n(CC(=O)Nc4ccc(C(C)=O)cc4)c(=O)n3n2)cc1',\n",
       " 'CHEMBL4469558': 'Cc1nnc(C)n1-c1ccccc1C(=O)O',\n",
       " 'BIOCHANIN': 'COc1ccc(-c2coc3cc(O)cc(O)c3c2=O)cc1',\n",
       " 'NIFURPIRINOL': 'O=[N+]([O-])c1ccc(/C=C/c2cccc(CO)n2)o1',\n",
       " 'ISOFLURANE': 'FC(F)OC(Cl)C(F)(F)F',\n",
       " 'PIRENOXINE': 'O=C(O)c1cc(=O)c2c3nc4ccccc4oc-3cc(=O)c2[nH]1',\n",
       " 'BUFOTALIN': 'CC(=O)O[C@H]1C[C@]2(O)[C@@H]3CC[C@@H]4C[C@@H](O)CC[C@]4(C)[C@H]3CC[C@]2(C)[C@H]1c1ccc(=O)oc1',\n",
       " 'SB415286': 'O=C1NC(=O)C(c2ccccc2[N+](=O)[O-])C1=Nc1ccc(O)c(Cl)c1',\n",
       " 'CLOMACRAN': 'CN(C)CCCC1c2ccccc2Nc2ccc(Cl)cc21',\n",
       " 'MLS000565407': 'COc1ccc2c(C=Nc3c(C)n(C)n(-c4ccccc4)c3=O)c(=O)n(Cc3ccco3)c(O)c2c1',\n",
       " 'CRESOTAMIDE': 'Cc1cccc(C(N)=O)c1O',\n",
       " 'CHEMBL1331032': 'COC(=O)CSc1nnc(-c2cccnc2)n1C',\n",
       " 'EFLUCIMIBE': 'CCCCCCCCCCCCS[C@H](C(=O)Nc1cc(C)c(O)c(C)c1C)c1ccccc1',\n",
       " 'BOPINDOLOL': 'Cc1cc2c(OCC(CNC(C)(C)C)OC(=O)c3ccccc3)cccc2[nH]1',\n",
       " 'TRICHLORFON': 'COP(=O)(OC)C(O)C(Cl)(Cl)Cl',\n",
       " 'RS-86': 'CCN1C(=O)CC2(CCN(C)CC2)C1=O',\n",
       " 'UMECLIDINIUM': 'OC(c1ccccc1)(c1ccccc1)C12CC[N+](CCOCc3ccccc3)(CC1)CC2',\n",
       " 'CHEMBL1342602': 'CCCOC(=O)c1ccc(NC(=O)c2ccoc2C)cc1',\n",
       " 'CHEMBL1466556': 'Cc1ccc(C(=O)COC(=O)c2ccncc2)cc1[N+](=O)[O-]',\n",
       " 'CHEMBL1456163': 'COc1ccc(NC(=O)c2sc3[nH]cnc(=O)c3c2C)cc1',\n",
       " 'Decyl(dimethyl)phosphine oxide': 'CCCCCCCCCCP(C)(C)=O',\n",
       " 'CHEMBL1326721': 'CSc1nnc2c(n1)OC=Nc1ccc(Br)cc1-2',\n",
       " 'CHEMBL112030': 'CC(=O)NC1C(O)CC(O)(C(=O)O)OC1C(O)C(O)CO',\n",
       " 'LOSARTAN CARBOXALDEHYDE': 'CCCCc1nc(Cl)c(C=O)n1Cc1ccc(-c2ccccc2-c2nn[nH]n2)cc1',\n",
       " 'CHEMBL1498329': 'CCOc1cc(C2c3c(-c4ccccc4)n[nH]c3OC(=N)C2C#N)ccc1O',\n",
       " 'M-XYLENE': 'Cc1cccc(C)c1',\n",
       " 'GLESATINIB': 'COCCNCc1ccc(-c2cc3nccc(Oc4ccc(NC(=S)NC(=O)Cc5ccc(F)cc5)cc4F)c3s2)nc1',\n",
       " 'CHEMBL1495766': 'CCOc1ccc(C2CC(c3ccc(F)cc3)n3ncnc3N2)cc1',\n",
       " 'CETYLPYRIDINIUM': 'CCCCCCCCCCCCCCCC[n+]1ccccc1',\n",
       " 'CHEMBL1476136': 'COc1cc(CN(C(=O)c2cccc(Cl)c2)c2ccccn2)cc(OC)c1OC',\n",
       " 'CHEMBL4955727': 'O=C(NCCc1csc(-c2ccccc2)n1)C1CCN(C(=O)c2ccc(F)c(Cl)c2)CC1',\n",
       " 'DELPARANTAG': 'COc1ccc(NC(=O)[C@H](CCCCN)NC(=O)c2cc(NC(=O)[C@H](CCCCN)NC(=O)c3cc(NC(=O)[C@H](CCCCN)NC(=O)c4cc(NC(=O)[C@@H](N)CCCCN)ccc4OC)ccc3OC)ccc2OC)cc1C(N)=O',\n",
       " 'MLS000850076': 'COC(=O)c1sc(-c2ccc(C(C)(C)C)cc2)cc1NC(=O)CSCC(=O)O',\n",
       " '4-Methyl-4H-thieno[3,2-b]pyrrole-5-carboxylic acid cyclohexyl-methyl-amide': 'CN(C(=O)c1cc2sccc2n1C)C1CCCCC1',\n",
       " 'SMR000013396': 'COc1ccc(CCNc2oc(COc3ccccc3F)nc2C#N)cc1OC',\n",
       " 'SMR000005224': 'COCCNC(=O)C(c1cccs1)N(C(=O)Cn1nnc2ccccc21)c1ccc2c(c1)OCO2',\n",
       " 'RESVERATROL': 'Oc1ccc(/C=C/c2cc(O)cc(O)c2)cc1',\n",
       " 'TECALCET': 'COc1cccc([C@@H](C)NCCCc2ccccc2Cl)c1',\n",
       " 'AMITRIPTYLINE': 'CN(C)CCC=C1c2ccccc2CCc2ccccc21',\n",
       " 'CHEMBL2361739': 'Cc1cc(C(=O)Nc2ccc3c(c2)C(=O)N(C)[C@@H]2CC[C@@H](CC(=O)NCc4ccc(-c5ccccc5)cc4)O[C@H]2CO3)no1',\n",
       " 'CHEMBL1309735': 'O=S(=O)(c1cccc(-c2nnc(SC(F)F)n2-c2ccccc2)c1)N1CCCCC1',\n",
       " 'CARBINOXAMINE': 'CN(C)CCOC(c1ccc(Cl)cc1)c1ccccn1',\n",
       " 'CHEMBL2362103': 'COc1ccccc1NC(=O)N[C@@H]1CC[C@H](CC(=O)N[C@H](C)c2ccccc2)O[C@@H]1CO',\n",
       " '4-CHLOROANILINE': 'Nc1ccc(Cl)cc1',\n",
       " 'CHEMBL1358318': 'COc1cccc(NC(=O)C2CCN(C(=O)N3CC(C)Oc4ccccc43)CC2)c1',\n",
       " 'CHLOROPYRAMINE': 'CN(C)CCN(Cc1ccc(Cl)cc1)c1ccccn1',\n",
       " 'CHEMBL2414215': 'O=C1CSC(c2ccccc2)N1c1ccccc1',\n",
       " 'CINTAZONE': 'CCCCCc1c(O)n2c3ccccc3c(-c3ccccc3)cn2c1=O',\n",
       " 'CHEMBL1313548': 'CCCc1ccc(-c2ccc(C(=O)O)cc2)nc1',\n",
       " 'CHEMBL1353362': 'Cc1cccc(NC(=O)Nc2cc(C)cc(C)n2)c1',\n",
       " 'TEROFENAMATE': 'CCOCOC(=O)c1ccccc1Nc1c(Cl)ccc(C)c1Cl',\n",
       " 'CHEMBL1329366': 'S=C1NC2(CCCCC2)NN1c1ccccc1',\n",
       " 'CLESACOSTAT': 'COc1cc(C(=O)N2CCC3(CC2)CC(=O)c2c(cnn2C(C)C)C3)cc(-c2ccc(C(=O)O)cc2)n1',\n",
       " 'CYCLOBENZAPRINE': 'CN(C)CCC=C1c2ccccc2C=Cc2ccccc21',\n",
       " 'CYTISINICLINE': 'O=c1cccc2n1C[C@@H]1CNC[C@H]2C1',\n",
       " 'CHEMBL1333143': 'CC(=O)c1cccc(NC(=O)C2CCCN(S(=O)(=O)c3ccccc3)C2)c1',\n",
       " 'CHEMBL1404276': 'Cc1c(Br)c([N+](=O)[O-])nn1CC(=O)N1CCN(Cc2ccccc2)CC1',\n",
       " 'DIAPAMIDE': 'CNC(=O)c1ccc(Cl)c(S(=O)(=O)NC)c1',\n",
       " 'BRD-K34096870': 'C[C@@H]1CN([C@H](C)CO)S(=O)(=O)c2ccc(C3=CCCCC3)cc2O[C@H]1CN(C)C(=O)Cc1ccncc1',\n",
       " 'SMR000064751': 'c1ccc(OCCOc2nc3ccccc3nc2N2CCOCC2)cc1',\n",
       " 'CHEMBL3809595': 'FC(F)(F)Oc1ccc(-c2ccc3nnc(C(F)(F)F)n3c2)cc1',\n",
       " 'CHEMBL1351266': 'COc1ccc(N(C)C(=O)CCC(=O)Nc2ccc3nc(N4CCOCC4)cc(C)c3c2)c(OC)c1',\n",
       " '2,4-DICHLOROPHENOL': 'Oc1ccc(Cl)cc1Cl',\n",
       " \"5'-Guanylylmethylenebisphosphonate\": 'Nc1nc(=O)c2ncn([C@@H]3O[C@H](COP(=O)(O)OP(=O)(O)CP(=O)(O)O)[C@@H](O)[C@H]3O)c2[nH]1',\n",
       " 'CHEMBL1596746': 'CCC(=O)NC(NC(=S)Nc1cccc2cccnc12)C(Cl)(Cl)Cl',\n",
       " 'CN-105': 'CC(=O)N[C@H](C(=O)N[C@@H](CO)C(=O)N[C@@H](CCCN=C(N)N)C(=O)N[C@@H](CCCN=C(N)N)C(=O)N[C@@H](CCCN=C(N)N)C(N)=O)C(C)C',\n",
       " 'RODORUBICIN': 'CC[C@@]1(O)C[C@H](O[C@H]2C[C@H](N(C)C)[C@H](O[C@H]3C[C@@H]4O[C@H]5CC(=O)[C@H](C)O[C@H]5O[C@@H]4[C@H](C)O3)[C@H](C)O2)C2=C(C(=O)c3c(c(O)c4c(O)cccc4c3O)C2=O)[C@H]1O[C@H]1C[C@H](N(C)C)[C@H](O)[C@H](C)O1',\n",
       " 'FLAZALONE': 'CN1CCC(O)(c2ccc(F)cc2)C(C(=O)c2ccc(F)cc2)C1',\n",
       " 'DIOXATION': 'CCOP(=S)(OCC)SC1OCCOC1SP(=S)(OCC)OCC',\n",
       " 'CHEMBL1551609': 'COc1ccc(Cl)cc1NC(=O)CCn1c(=O)c2cccn2c2ccccc21',\n",
       " 'OCIMARIN': 'Cc1c(CCO)c(=O)oc2cc(O)ccc12',\n",
       " 'CHEMBL1360276': 'Cc1cc(NS(=O)(=O)c2ccc(NC(=O)Cc3cccs3)cc2)no1',\n",
       " \"N,N'-DIPHENYL-P-PHENYLENEDIAMINE\": 'c1ccc(Nc2ccc(Nc3ccccc3)cc2)cc1',\n",
       " 'DIMOXYLINE': 'CCOc1ccc(Cc2nc(C)cc3cc(OC)c(OC)cc23)cc1OC',\n",
       " 'VIGABATRIN': 'C=CC(N)CCC(=O)O',\n",
       " '1-(2,3-Dihydro-1,4-benzodioxin-6-yl)-2-(4,6-dimethylpyrimidin-2-yl)guanidine': 'Cc1cc(C)[nH]c(=NC(=N)Nc2ccc3c(c2)OCCO3)n1',\n",
       " 'CHEMBL1447834': 'Cc1ccc(S(=O)(=O)c2nc(-c3ccccc3)oc2N2CCC(C(N)=O)CC2)cc1',\n",
       " 'SUBATHIZONE': 'CCS(=O)(=O)c1ccc(/C=N/NC(N)=S)cc1',\n",
       " 'CHEMBL4934289': 'CC(C)Oc1c(Cl)cccc1NC(=O)C1CC1c1cnn(C)c1',\n",
       " 'CHEMBL4560658': 'CCN(c1ccccc1)S(=O)(=O)c1ccc(C(=O)NC2CCCc3ccccc32)cc1',\n",
       " 'CHEMBL4937608': 'CN1CCN(c2cc(O)n(-c3ccc4c(c3)OCCO4)c2O)CC1',\n",
       " 'MK-912': 'CN1CC[C@]2(CCN3CCc4c(oc5ccccc45)[C@@H]3C2)N(C)C1=O',\n",
       " 'CHEMBL1530690': 'O=C(Nc1ccon1)c1csc2c1CCCC2',\n",
       " 'CHEMBL244693': 'CCn1c2ccc(CC(=O)O)cc2c2cc(CC(=O)O)ccc21',\n",
       " 'INDIMITECAN': 'COc1cc2c3c(n(CCCn4ccnc4)c(=O)c2cc1OC)-c1cc2c(cc1C3=O)OCO2',\n",
       " 'CHEMBL1459142': 'CCOc1ccccc1CN1CCN(Cc2nc3c(s2)CCCC3)CC1CCO',\n",
       " '3-PHTHALIMIDOPROPIONIC ACID': 'O=C(O)CCN1C(=O)c2ccccc2C1=O',\n",
       " 'CHEMBL1544764': 'CCN(CC)c1ccc(NC(=O)c2cnn(CC)c2)cc1',\n",
       " 'TEGOPRAZAN': 'Cc1nc2c(O[C@H]3CCOc4cc(F)cc(F)c43)cc(C(=O)N(C)C)cc2[nH]1',\n",
       " 'ALLOSAMIZOLINE': 'CN(C)C1=N[C@@H]2[C@@H](O)[C@H](O)[C@@H](CO)[C@@H]2O1',\n",
       " 'CENISERTIB (ChEMBL CHEMBL1614709)': 'Cc1cc(Nc2ncc(F)c(N[C@H]3[C@@H](C(N)=O)[C@@H]4C=C[C@H]3C4)n2)ccc1N1CCN(C)CC1',\n",
       " 'DANAZOL': 'C#C[C@]1(O)CC[C@H]2[C@@H]3CCC4=Cc5oncc5C[C@]4(C)[C@H]3CC[C@@]21C',\n",
       " 'INDOLAPRIL': 'CCOC(=O)[C@H](CCc1ccccc1)N[C@@H](C)C(=O)N1[C@H](C(=O)O)C[C@@H]2CCCC[C@@H]21',\n",
       " 'CHEMBL1559471': 'CCOc1ccc2nc(N3CCN(C(=O)c4ccc5c(c4)CCCC5)CC3)sc2c1',\n",
       " 'CHEMBL1604659': 'Cc1ccc(NC(=O)CNc2ccc(OC(C)C)cc2)cc1',\n",
       " \"N-(1,1-Dimethylprop-2-ynyl)-2'-fluoro[1,1'-biphenyl]-4-carboxamide\": 'C#CC(C)(C)NC(=O)c1ccc(-c2ccccc2F)cc1',\n",
       " 'NAPHTHYLOXYACETIC ACID': 'O=C(O)COc1cccc2ccccc12',\n",
       " 'CHEMBL1451836': 'CCOc1cc(C(c2c(C)[nH][nH]c2=O)c2c(C)[nH][nH]c2=O)ccc1O',\n",
       " 'CHEMBL1466622': 'CC(C)(C)CC(=O)Nc1ccc(S(=O)(=O)N2CCCC2)cc1',\n",
       " 'CHEMBL1466935': 'O=C(CCS(=O)(=O)c1ccccc1)NC1CCCC1',\n",
       " 'STK093549': 'COc1cc(OC)cc(C(=O)NC(=S)Nc2ccc(Cl)c(C(=O)O)c2)c1',\n",
       " 'MLS000061449': 'O=C(Nc1nccs1)c1cccc(S(=O)(=O)N2CCCCC2)c1',\n",
       " 'CHEMBL1477815': 'COc1ccc(Cn2ccc3nc(C)c(C(=O)N4CCN(c5ccccc5F)CC4)cc3c2=O)cc1',\n",
       " 'CHEMBL1397030': 'Cc1c(Cl)cccc1NC(=O)Nc1ccc2snnc2c1',\n",
       " 'CHEMBL1611130': 'Cc1ccc(Nc2ncc3c(n2)CC(c2ccco2)CC3=O)c(C)c1',\n",
       " 'CHEMBL1499741': 'COCCn1c(SC(C)C(=O)Nc2ccc3c(c2)OCCO3)nc2ccccc2c1=O',\n",
       " 'CHEMBL1503013': 'COC(=O)C1CN(C(=O)COc2ccc(C)cc2)c2ccccc2O1',\n",
       " 'CHEMBL1428831': 'CCCn1c(CNS(=O)(=O)c2ccc(C)cc2)nc2ccccc21',\n",
       " 'PHTHALIC ANHYDRIDE': 'O=C1OC(=O)c2ccccc21',\n",
       " 'KETOPROFEN': 'CC(C(=O)O)c1cccc(C(=O)c2ccccc2)c1',\n",
       " 'MLS000730126': 'CCOc1ccc(-n2cc(-c3ccc(OC)c(OC)c3)[nH]c2=S)cc1',\n",
       " 'Necrosulfonamide': 'COc1nccnc1NS(=O)(=O)c1ccc(NC(=O)/C=C/c2ccc([N+](=O)[O-])s2)cc1',\n",
       " 'ETHOHEXADIOL': 'CCCC(O)C(CC)CO',\n",
       " 'S-55746': 'O=C(c1cc(-c2cc3c(cc2C(=O)N2Cc4ccccc4C[C@H]2CN2CCOCC2)OCO3)n2c1CCCC2)N(c1ccccc1)c1ccc(O)cc1',\n",
       " 'GUANADREL': 'N=C(N)NCC1COC2(CCCCC2)O1',\n",
       " 'CHEMBL1569751': 'CC(C)(C)N1C(=O)c2ccc(C(=O)Nc3nccs3)cc2C1=O',\n",
       " 'FIDRISERTIB': 'CCOC1(c2ccc(-c3cc4c(N5CCN(C(=O)O[C@@H]6CCOC6)CC5)ccnn4c3)nc2)CCN(C(C)C)CC1',\n",
       " 'CHEMBL4907388': 'CCc1nc(C(=O)NC2CCN(Cc3cnc(C)s3)CC2C)c[nH]1',\n",
       " 'HEXYLCAINE': 'CC(CNC1CCCCC1)OC(=O)c1ccccc1',\n",
       " 'CHEMBL1378345': 'c1csc(-n2nc3ccccc3n2)c1',\n",
       " 'CHEMBL4933565': 'OC1CC2CCC(C1)N2c1cnc2ccccc2n1',\n",
       " 'MLS003129112': 'Cc1cccc(S(=O)(=O)N(C)C[C@@H]2OCc3cnnn3CCCC(=O)N([C@H](C)CO)C[C@@H]2C)c1',\n",
       " 'BENZOQUINONIUM': 'CC[N+](CC)(CCCNC1=CC(=O)C(NCCC[N+](CC)(CC)Cc2ccccc2)=CC1=O)Cc1ccccc1',\n",
       " 'CHEMBL1407068': 'COC(=O)c1ccc(NC(=O)CCN2CCN(Cc3ccccc3)CC2)cc1',\n",
       " 'MLS003128748': 'CC(C)NC(=O)N(C)C[C@H]1OCCCC[C@@H](C)Oc2ccc(N(C)C)cc2C(=O)N([C@H](C)CO)C[C@@H]1C',\n",
       " 'FENPENTADIOL': 'CC(C)(O)CC(C)(O)c1ccc(Cl)cc1',\n",
       " 'CHEMBL250347': 'CCc1nc2ccccc2n1C1CCN(C(=O)c2cc3cc(OC)ccc3[nH]2)CC1',\n",
       " 'CHEMBL4932613': 'Cc1nc(-c2c(O)cn(-c3ccc4c(c3)OCCO4)c2N)sc1C',\n",
       " 'FLUOMETURON': 'CN(C)C(=O)Nc1cccc(C(F)(F)F)c1',\n",
       " 'DIMENOXADOL': 'CCOC(C(=O)OCCN(C)C)(c1ccccc1)c1ccccc1',\n",
       " 'CHEMBL1433653': 'COc1cc2c(cc1OC)C(COc1ccc(F)cc1)N(C(=O)Cc1ccc(F)cc1)CC2',\n",
       " 'CHEMBL1441399': 'Cc1nn(Cc2cccc(Oc3ccccc3)c2)c(C)c1NC(=O)NC12CC3CC(CC(C3)C1)C2',\n",
       " 'TROPANTIOL': 'CN1[C@H]2CC[C@@H]1[C@@H](CN(CCS)CCNCCS)[C@@H](c1ccc(Cl)cc1)C2',\n",
       " 'CETYL ALCOHOL': 'CCCCCCCCCCCCCCCCO',\n",
       " 'CHEMBL1350361': 'Cc1ccc(SCc2cc(=O)n3ccsc3n2)c(C)c1',\n",
       " 'CHEMBL1398381': 'Cc1c(CNC2CCC(C)CC2)c(C(=O)O)c(C)n1Cc1ccc(Cl)cc1',\n",
       " 'CLOFLUCARBAN': 'O=C(Nc1ccc(Cl)cc1)Nc1ccc(Cl)c(C(F)(F)F)c1',\n",
       " 'CHEMBL1453094': 'O=S(=O)(c1cccs1)n1nnc2ccccc21',\n",
       " 'CHEMBL1427509': 'C=C(C)c1cccc(C(C)(C)NC(=O)Nc2nnc(C(C)C)s2)c1',\n",
       " 'CHEMBL1466331': 'Cc1ccc(S(=O)(=O)N2CCN(C(=O)CN3C(=O)NC4(CCOc5ccccc54)C3=O)CC2)cc1',\n",
       " 'MEBEVERINE': 'CCN(CCCCOC(=O)c1ccc(OC)c(OC)c1)C(C)Cc1ccc(OC)cc1',\n",
       " 'MEPENZOLATE': 'C[N+]1(C)CCCC(OC(=O)C(O)(c2ccccc2)c2ccccc2)C1',\n",
       " 'CHEMBL1487608': 'S=C(NCc1ccc2c(c1)OCO2)NC1CC1',\n",
       " 'DIMYRISTOYLPHOSPHATIDYLCHOLINE': 'CCCCCCCCCCCCCC(=O)OC[C@H](COP(=O)([O-])OCC[N+](C)(C)C)OC(=O)CCCCCCCCCCCCC',\n",
       " 'OROTIRELIN': 'NC(=O)[C@@H]1CCCN1C(=O)[C@H](Cc1c[nH]cn1)NC(=O)c1cc(=O)[nH]c(=O)[nH]1',\n",
       " 'HARMOL': 'Cc1[nH]ccc2c1[nH]c1cc(=O)ccc12',\n",
       " '12-Hydroxydodecanoic Acid': 'O=C(O)CCCCCCCCCCCO',\n",
       " 'CHEMBL1322617': 'O=C(NC1CC2CCC1C2)c1ccc(CN2CCOCC2)cc1',\n",
       " 'TEZACITABINE (ChEMBL CHEMBL2105467)': 'Nc1ccn([C@@H]2O[C@H](CO)[C@@H](O)/C2=C\\\\F)c(=O)n1',\n",
       " '3-AMINOBENZAMIDE': 'NC(=O)c1cccc(N)c1',\n",
       " 'SMR000206475': 'Cc1nc2c3ccccc3nc(NNC(=O)CCC(=O)NC(C)C)n2n1',\n",
       " 'DOXENITOIN': 'O=C1NCNC1(c1ccccc1)c1ccccc1',\n",
       " '4-(3-PHENYLPROPYL)PYRIDINE': 'c1ccc(CCCc2ccncc2)cc1',\n",
       " 'NAVITOCLAX': 'CC1(C)CCC(c2ccc(Cl)cc2)=C(CN2CCN(c3ccc(C(=O)NS(=O)(=O)c4ccc(N[C@H](CCN5CCOCC5)CSc5ccccc5)c(S(=O)(=O)C(F)(F)F)c4)cc3)CC2)C1',\n",
       " 'MLS000730626': 'Cc1cccc(-n2nc([N+](=O)[O-])c(NC3CCN(Cc4ccccc4)CC3)[n+]2[O-])c1',\n",
       " 'PHTHALIC ACID': 'O=C(O)c1ccccc1C(=O)O',\n",
       " '1-(4-Chlorophenyl)guanidine': 'N=C(N)Nc1ccc(Cl)cc1',\n",
       " 'BATOPRAZINE': 'O=c1ccc2cccc(N3CCNCC3)c2o1',\n",
       " 'OXALIPLATIN': 'O=C1O[Pt]2(N[C@@H]3CCCC[C@H]3N2)OC1=O',\n",
       " 'NERACORVIR': 'Cc1cc2n(c1)S(=O)(=O)c1ccc(C(=O)NCC[C@H]3COCCO3)cc1NC2=O',\n",
       " 'BUDESONIDE (ChEMBL CHEMBL1370)': 'CCCC1O[C@@H]2C[C@H]3[C@@H]4CC=C5CC(=O)C=C[C@]5(C)[C@H]4[C@@H](O)C[C@]3(C)[C@]2(C(=O)CO)O1',\n",
       " 'F0039-0201': 'COc1ccc(-[n+]2c(-c3ccc(Cl)cc3)cn3c2CCCCC3)cc1',\n",
       " 'CHEMBL1486086': 'O=[N+]([O-])c1cccc(S(=O)(=O)N2CCCCC2c2cccnc2)c1',\n",
       " 'TALMAPIMOD': 'C[C@@H]1CN(Cc2ccc(F)cc2)[C@@H](C)CN1C(=O)c1cc2c(C(=O)C(=O)N(C)C)cn(C)c2cc1Cl',\n",
       " 'FENTANYL': 'CCC(=O)N(c1ccccc1)C1CCN(CCc2ccccc2)CC1',\n",
       " 'CHEMBL1520476': 'Cc1nn(-c2nc(-c3ccc(F)cc3)cc(C(F)(F)F)n2)c(C)c1Br',\n",
       " 'F2016-0680': 'CC(C)N(C(=O)Cn1cc(SCC(=O)N2CCCC2)c2ccccc21)C(C)C',\n",
       " 'CHEMBL1359419': 'COc1ccc(OC)c(C(C)NC(=O)Nc2cccc(C(C)=O)c2)c1',\n",
       " 'T5250763': 'CC1c2cccn2CCN1CC(O)COCC1=CCC2CC1C2(C)C',\n",
       " 'OXOLINIC ACID': 'CCn1cc(C(=O)O)c(=O)c2cc3c(cc21)OCO3',\n",
       " 'CHEMBL1893343': 'CS(=O)(=O)c1ccc(Cl)c(NC(=O)Cc2ccsc2)c1',\n",
       " '(S)-PROXYPHYLLINE': 'CC(O)Cn1cnc2c1c(=O)n(C)c(=O)n2C',\n",
       " 'ST50073235': 'CCN1C(=O)c2cccc3c(S(=O)(=O)NCCCN4CCOCC4)ccc1c23',\n",
       " 'METHOXYPHENAMINE': 'CNC(C)Cc1ccccc1OC',\n",
       " 'CHEMBL1537366': 'CC(NS(=O)(=O)c1ccc2c(c1)oc(=O)n2C)c1ccccc1',\n",
       " 'STK126859': 'COC(=O)COc1ccc(S(=O)(=O)NCc2ccncc2)cc1',\n",
       " 'ALTERNARIOL': 'Cc1cc(O)cc2oc(=O)c3c(O)cc(O)cc3c12',\n",
       " 'EP-217609': 'COc1cc(C)c(S(=O)(=O)N[C@@H](CC(=O)NCCCC(=O)N[C@@H](CCCCNC(=O)CCCC[C@@H]2SC[C@@H]3NC(=O)N[C@@H]32)C(=O)NCCOCCOCCOCCO[C@H]2[C@H](OC)[C@@H](OC)[C@@H](O[C@H]3[C@H](OC)[C@@H](OC)[C@H](O[C@H]4[C@H](OS(=O)(=O)O)[C@@H](OS(=O)(=O)O)[C@@H](O[C@H]5[C@H](OC)[C@@H](OC)[C@H](O[C@H]6[C@H](OC)[C@@H](OS(=O)(=O)O)[C@@H](OC)O[C@@H]6COS(=O)(=O)O)O[C@H]5C(=O)O)O[C@@H]4COS(=O)(=O)O)O[C@@H]3C(=O)O)O[C@@H]2COS(=O)(=O)O)C(=O)N[C@H](Cc2ccc(C(=N)N)cc2)C(=O)N2CCCCC2)c(C)c1C',\n",
       " 'MOPERONE': 'Cc1ccc(C2(O)CCN(CCCC(=O)c3ccc(F)cc3)CC2)cc1',\n",
       " 'METHITURAL': 'CCCC(C)C1(CCSC)C(=O)NC(=S)NC1=O',\n",
       " 'KHELLIN': 'COc1c2occc2c(OC)c2c(=O)cc(C)oc12',\n",
       " 'TETRAZEPAM': 'CN1C(=O)C=NC(=C2CCCCC2)c2cc(Cl)ccc21',\n",
       " 'CHEMBL1704643': 'O=C(CC1Oc2ccccc2NC1=O)NCCCN1CCN(Cc2ccccc2)CC1',\n",
       " 'MLN-977': 'NC(=O)N(O)CCC#C[C@@H]1CC[C@@H](COc2ccc(F)cc2)O1',\n",
       " 'PIRIDRONIC ACID': 'O=P(O)(O)C(Cc1ccccn1)P(=O)(O)O',\n",
       " 'ETHYLGALLATE': 'CCOC(=O)c1cc(O)c(O)c(O)c1',\n",
       " 'NAFTAZONE': 'NC(=O)N=Nc1ccc2ccccc2c1O',\n",
       " 'CHEMBL1823951': 'Cc1cc(Cl)ccc1OCCCC(=O)NC1CCSC1=O',\n",
       " '168279-54-7': 'CCOC(=O)c1sc(SC)c2c1CCCC2=O',\n",
       " 'CHEMBL422164': 'Cc1cc(C)nc(NC(=O)c2cccc([N+](=O)[O-])c2)c1',\n",
       " 'ACETARSONE': 'CC(=O)Nc1cc([As](=O)(O)O)ccc1O',\n",
       " 'CHLORFENSON': 'O=S(=O)(Oc1ccc(Cl)cc1)c1ccc(Cl)cc1',\n",
       " 'OXAFLUMAZINE': 'FC(F)(F)c1ccc2c(c1)N(CCCN1CCN(CCC3OCCCO3)CC1)c1ccccc1S2',\n",
       " 'CHEMBL196605': 'Cc1ccc(S(=O)(=O)Nc2nc3ccccc3s2)cc1',\n",
       " 'Fludeoxyglucose (18F)': 'O=C[C@H]([18F])[C@@H](O)[C@H](O)[C@H](O)CO',\n",
       " 'Loteprednol (DrugBank DB00873)': 'C[C@]12C=CC(=O)C=C1CC[C@@H]1[C@@H]2[C@@H](O)C[C@@]2(C)[C@H]1CC[C@]2(O)C(=O)OCCl',\n",
       " 'VINYLSULFONIC ACID': 'C=CS(=O)(=O)O',\n",
       " '1-Benzyl-3-(tert-butyl)-n-{5-[(dimethylamino)sulfonyl]-2-methylphenyl}-1H-pyrazole-5-carboxamide': 'Cc1ccc(S(=O)(=O)N(C)C)cc1NC(=O)c1cc(C(C)(C)C)nn1Cc1ccccc1',\n",
       " 'OXYRIDAZINE': 'COc1ccc2c(c1)N(CCC1CCCCN1C)c1ccccc1S2',\n",
       " 'CHEMBL1405173': 'Cc1cc(C)c(NC(=O)C2CCCN2CCO)c(C)c1',\n",
       " 'DL-Methylephedrine': 'C[C@@H]([C@H](O)c1ccccc1)N(C)C',\n",
       " 'BALOXAVIR': 'O=C1c2c(O)c(=O)ccn2N([C@@H]2c3ccccc3SCc3c2ccc(F)c3F)[C@@H]2COCCN12',\n",
       " 'VU0414833-2': 'CC(C)(C)CCN1CCC[C@H](NC(=O)COc2ccc(F)c(Cl)c2)C1',\n",
       " 'CHEMBL1411154': 'CC(C)CCN1NC2(CCCC(C)C2)NC1=S',\n",
       " 'LAURYL GLUCOSIDE (UNII 76LN7P7UCU)': 'CCCCCCCCCCCCO[C@@H]1O[C@H](CO)[C@@H](O)[C@H](O)[C@H]1O',\n",
       " 'CANERTINIB': 'C=CC(=O)Nc1cc2c(Nc3ccc(F)c(Cl)c3)ncnc2cc1OCCCN1CCOCC1',\n",
       " '2-chloro-4,5-dimethylphenol': 'Cc1cc(O)c(Cl)cc1C',\n",
       " 'SISUNATOVIR': 'NCc1ccc2c(c1)nc(CN1C(=O)C3(CC3)c3ccc(F)cc31)n2CCCC(F)(F)F',\n",
       " 'Helveticoside': 'C[C@H]1O[C@@H](O[C@H]2CC[C@]3(C=O)[C@H]4CC[C@]5(C)[C@@H](C6=CC(=O)OC6)CC[C@]5(O)[C@@H]4CC[C@]3(O)C2)C[C@H](O)[C@@H]1O',\n",
       " 'DOTAMTATE PB-212': 'C[C@@H](O)[C@@H]1N=C(O)[C@H](CCCCN)N=C(O)[C@@H](Cc2c[nH]c3ccccc23)N=C(O)[C@H](Cc2ccc(O)cc2)NC(=O)[C@@H](NC(=O)[C@@H](Cc2ccccc2)NC(=O)CN2CCN(CC(N)=O)CCN(CC(N)=O)CCN(CC(N)=O)CC2)CSSC[C@@H](C(=O)N[C@H](C(=O)O)[C@@H](C)O)NC1=O',\n",
       " 'TENOFOVIR DISOPROXIL': 'CC(C)OC(=O)OCOP(=O)(CO[C@H](C)Cn1cnc2c(N)ncnc21)OCOC(=O)OC(C)C',\n",
       " 'CHEMBL1091860': 'O=C1CN(C(=O)C23CC4CC(CC(C4)C2)C3)CC2c3ccccc3CCN12',\n",
       " 'CHEMBL1328760': 'Cc1ccc(Nc2nc(N)nc(CN3CCN(Cc4ccc5c(c4)OCO5)CC3)n2)c(C)c1',\n",
       " 'CHEMBL1531998': 'CCN(CC)C(=O)C1CC(c2ccc(OC)cc2)=NO1',\n",
       " 'BRD-K62368279': 'COc1cccc(-c2ccc([C@@H]3[C@@H]4CN(Cc5ccccn5)C[C@H]3N4)cc2)c1',\n",
       " 'SMR000001939': 'Cn1c(-c2ccc(F)cc2)cnc1SCC(=O)N1CCCCC1',\n",
       " 'CHEMBL1872160': 'CCOc1ccc(C(=O)NCc2nc3cccnc3n2Cc2cccc(OC)c2)cc1',\n",
       " 'CHEMBL2141430': 'C[C@H](CO)N1C[C@H](C)[C@H](CN(C)Cc2ccc3c(c2)OCO3)Oc2ccc(NC(=O)NC3CCCCC3)cc2C1=O',\n",
       " 'Fobrepodacin': 'CCNC(=O)Nc1nc2c([C@H]3CCCO3)c(F)c(-c3cnc(C(C)(C)OP(=O)(O)O)nc3)cc2[nH]1',\n",
       " 'CHEMBL2144310': 'C/C=C/c1ccc2c(c1)O[C@H](CN(C)C(=O)Nc1cccc(F)c1)[C@H](C)CN([C@@H](C)CO)S2(=O)=O',\n",
       " 'AC1MRA7L': 'CC(=O)NN=C(C)c1ccc(NC(=O)C2CC2)cc1',\n",
       " 'SMR000204251': 'CCOC(=O)NN1C(=O)c2ccccc2NC1c1ccc(OC)cc1',\n",
       " 'MLS003128759': 'C[C@@H]1CCCCO[C@@H](CN(C)S(=O)(=O)c2cn(C)cn2)[C@@H](C)CN([C@H](C)CO)C(=O)c2cc(N(C)C)ccc2O1',\n",
       " 'L-694247': 'CS(=O)(=O)Nc1ccc(Cc2noc(-c3ccc4[nH]cc(CCN)c4c3)n2)cc1',\n",
       " 'FOSIGOTIFATOR': 'O=C(COc1ccc(Cl)c(F)c1)NC12CCC(NC(=O)COc3ccc(Cl)c(F)c3)(CC1)[C@@H](OCOP(=O)(O)O)C2',\n",
       " 'CHEMBL3325832': 'Nc1ccc(Cc2nc3ccccc3[nH]2)cc1',\n",
       " 'alpha-CYANO-3-HYDROXYCINNAMIC ACID': 'N#C/C(=C\\\\c1cccc(O)c1)C(=O)O',\n",
       " 'MLS000066371': 'CCCn1cnc2cc(NCc3cccc(OC)c3)ccc21',\n",
       " 'CHEMBL1330821': 'CCOC(=O)c1c(C)c(C(=O)N2CCN(c3ccccc3)CC2)c(C)n1C',\n",
       " 'CHEMBL1311555': 'CCOC(=O)N1CCC(NC(=O)C2CCCN(S(C)(=O)=O)C2)CC1',\n",
       " 'CHEMBL216408': 'O=C(O)c1c[nH]c2ccc(Cl)cc2c1=O',\n",
       " 'LEVOTHYROXINE': 'N[C@@H](Cc1cc(I)c(Oc2cc(I)c(O)c(I)c2)c(I)c1)C(=O)O',\n",
       " 'CHEMBL1351935': 'O=C(NCc1ccc(Cl)cc1)c1cc(-c2cccs2)on1',\n",
       " 'MLS000594926': 'O=C(CSc1nnc(SCc2ccccc2)s1)NNC(=S)Nc1ccccc1',\n",
       " 'CHEMBL1360376': 'FC(F)(F)c1cc(-c2ccccc2)nc(N2CCCCCC2)n1',\n",
       " 'TOPIRAMATE': 'CC1(C)O[C@@H]2[C@@H](CO[C@@]3(COS(N)(=O)=O)OC(C)(C)O[C@@H]23)O1',\n",
       " 'CHEMBL1376623': 'CN(CC(=O)NC1(C)CCS(=O)(=O)C1)S(=O)(=O)c1ccc(Cl)cc1',\n",
       " 'CHEMBL1430793': 'CCCc1cc(C(=O)Nc2sc3c(c2C(=O)OCC)CCCC3)no1',\n",
       " 'CHEMBL1420985': 'O=C(Cc1c(Cl)cccc1Cl)OCC(=O)N1CCc2ccccc2C1',\n",
       " 'BAY-117821': 'Cc1ccc(S(=O)(=O)/C=C/C#N)cc1',\n",
       " 'ZINC02252571': 'O=C(Nc1ccc(Cl)cc1)Nc1nnc(SCc2ccc(Cl)cc2)s1',\n",
       " 'CHEMBL1584730': 'Nc1c(-c2nc3ccccc3[nH]2)c(O)cn1-c1ccc(CC(=O)O)cc1',\n",
       " 'CHEMBL1599334': 'COc1ccc(Nc2cc(C(=O)NCCCN3CCN(C)CC3)c3ccccc3n2)cc1',\n",
       " 'NALMEXONE': 'CC(C)=CCN1CC[C@]23c4c5ccc(O)c4O[C@H]2C(=O)CC[C@@]3(O)[C@H]1C5',\n",
       " 'NORNICOTINE': 'c1cncc(C2CCCN2)c1',\n",
       " 'TRAMAZOLINE': 'c1cc2c(c(NC3=NCCN3)c1)CCCC2',\n",
       " 'CHEMBL1939366': 'c1cncc(-c2nsc(-c3cccnc3)n2)c1',\n",
       " 'CHEMBL3187437': 'COC(=O)C[C@@H]1C[C@H]2c3cc(NC(=O)Nc4ccc(C(F)(F)F)cc4)ccc3O[C@H]2[C@H](CO)O1',\n",
       " 'PARAROSANILINE': 'N=C1C=CC(=C(c2ccc(N)cc2)c2ccc(N)cc2)C=C1',\n",
       " 'PALMITINE': 'COc1cc2c(cc1OC)-c1cc3ccc(OC)c(OC)c3c[n+]1CC2',\n",
       " 'PHENGLUTARIMIDE': 'CCN(CC)CCC1(c2ccccc2)CCC(=O)NC1=O',\n",
       " 'TRIPHENYL PHOSPHATE': 'O=P(Oc1ccccc1)(Oc1ccccc1)Oc1ccccc1',\n",
       " 'PHOSPHORYLETHANOLAMINE': 'NCCOP(=O)(O)O',\n",
       " 'ALPHA-PINENE': 'CC1=CCC2CC1C2(C)C',\n",
       " 'PIPERAZINE': 'C1CNCCN1',\n",
       " 'PIPERONYLIC ACID': 'O=C(O)c1ccc2c(c1)OCO2',\n",
       " 'METHYL ISOBUTYL KETONE': 'CC(=O)CC(C)C',\n",
       " '3-(1H-PYRROL-1-YLMETHYL)PYRIDINE': 'c1cncc(Cn2cccc2)c1',\n",
       " 'OXELADIN': 'CCN(CC)CCOCCOC(=O)C(CC)(CC)c1ccccc1',\n",
       " 'CHEMBL1519469': 'O=C(CCCN1C(=O)c2cccc3cccc(c23)C1=O)Nc1ccon1',\n",
       " 'Ribose': 'O=C(C(O)CO)[C@@H](O)CO',\n",
       " 'AC1O99F6': 'CCOc1cc(-c2cc(-c3ccc(NC(C)=O)cc3)nc(N)c2C#N)ccc1O',\n",
       " 'CHEMBL1463836': 'COc1ccc(CCC(=O)N=CC(=O)N2CCC(N(C)CCN3CCOCC3)CC2)cc1OC',\n",
       " 'CHEMBL1470651': 'COc1cc(C(=O)OCC(=O)N2CCCC2)cc(OC)c1OC',\n",
       " 'PRECLAMOL': 'CCCN1CCC[C@@H](c2cccc(O)c2)C1',\n",
       " 'CHEMBL1700211': 'O=S(=O)(NCc1cccc(C(F)(F)F)c1)NCc1ccccc1F',\n",
       " 'TIFENAZOXIDE': 'CC1(NC2=NS(=O)(=O)c3sc(Cl)cc3N2)CC1',\n",
       " 'ASN 05114318': 'O=C(Nc1ccc(F)cc1)N(Cc1cccs1)Cc1cc2cc3c(cc2[nH]c1=O)OCO3',\n",
       " 'L 734217': 'C[C@H](CC(=O)O)NC(=O)CN1CCC[C@@H](CCC2CCNCC2)C1=O',\n",
       " 'CHEMBL1482090': 'O=C(Nc1cccc(N2CCOCC2)c1)c1cccs1',\n",
       " 'ALILUSEM': 'Cc1ccccc1C(=O)N1CC/C(=N\\\\OS(=O)(=O)O)c2ccc(Cl)cc21',\n",
       " 'CHEMBL1864778': 'C=CCN1C(=O)c2ccccc2C1(O)Cc1ccccc1',\n",
       " 'JOSAMYCIN (ChEMBL CHEMBL224436)': 'CO[C@@H]1[C@@H](O[C@@H]2O[C@H](C)[C@@H](O[C@H]3C[C@@](C)(O)[C@@H](OC(=O)CC(C)C)[C@H](C)O3)[C@H](N(C)C)[C@H]2O)[C@@H](CC=O)C[C@@H](C)[C@@H](O)/C=C/C=C/C[C@@H](C)OC(=O)C[C@H]1OC(C)=O',\n",
       " 'CHEMBL1898856': 'O=S(=O)(NCCOc1ccccc1Cl)c1ccc2oc3ccccc3c2c1',\n",
       " 'ZD-6169': 'C[C@](O)(C(=O)Nc1ccc(C(=O)c2ccccc2)cc1)C(F)(F)F',\n",
       " 'MLS000519828': 'FC(F)(F)c1cc(-c2ccco2)nc(NCc2ccc(Cl)cc2)n1',\n",
       " 'CHEMBL1437101': 'Cc1cccc2sc(N(CCN(C)C)C(=O)c3ccc4c(c3)OCCO4)nc12',\n",
       " 'CHEMBL1334958': 'COc1cccc(Nc2ncccc2C(=O)Nc2ccccc2)c1',\n",
       " 'L-755507': 'CCCCCCNC(=O)Nc1ccc(S(=O)(=O)Nc2ccc(CCNC[C@H](O)COc3ccc(O)cc3)cc2)cc1',\n",
       " 'EPROSARTAN (ChEMBL CHEMBL813)': 'CCCC=c1ncc(=CC(Cc2cccs2)C(=O)O)n1Cc1ccc(C(=O)O)cc1',\n",
       " 'CHEMBL1557875': 'COc1cc(Cl)c(C)cc1NC(=O)c1cnc(N2CCOCC2)c2ccccc12',\n",
       " 'OMEPRAZOLE SULFONE': 'COc1ccc2[nH]c(S(=O)(=O)Cc3ncc(C)c(OC)c3C)nc2c1',\n",
       " 'CFT-8634': 'COc1cc(-c2cn(C)c(=O)c(C)c2C)cc(OC)c1CN1CC[C@H](N2CCN(c3ccc(N[C@H]4CCC(=O)NC4=O)cc3F)CC2)C(F)(F)C1',\n",
       " 'CHEMBL1621637': 'CCOC(=O)C1(CC)CC(CSc2nc3ccccc3[nH]2)OC1=O',\n",
       " 'CHEMBL1770391': 'Cc1cc(C)c(CN2C(=O)C(=O)c3ccccc32)cc1CN1C(=O)C(=O)c2ccccc21',\n",
       " 'CHEMBL1546295': 'O=c1c(-c2ccnn2-c2ccccc2F)cnc2n1CCS2',\n",
       " 'CHEMBL1734602': 'COc1ccc(N2CCN(CCNC(=O)CCCn3c(=O)[nH]c4cc(Cl)ccc4c3=O)CC2)cc1',\n",
       " 'DEACETYLSPIRONOLACTONE': 'C[C@]12CCC(=O)C=C1C[C@@H](S)[C@@H]1[C@@H]2CC[C@@]2(C)[C@H]1CC[C@@]21CCC(=O)O1',\n",
       " 'CHEMBL1477511': 'CCN(CC)c1ccc(NC(=O)CCc2c(C)nc3ncnn3c2C)c(C)c1',\n",
       " '1,3-Bis(3-chlorophenyl)urea': 'O=C(Nc1cccc(Cl)c1)Nc1cccc(Cl)c1',\n",
       " 'CHEMBL1874700': 'COC(=O)C1Cc2ccccc2CN1S(=O)(=O)c1ccc(C)cc1',\n",
       " 'KIO-301': 'CCN(Cc1ccccc1)c1ccc(/N=N/c2ccc(NC(=O)C[N+](CC)(CC)CC)cc2)cc1',\n",
       " 'CHEMBL1424043': 'O=C1c2ccccc2NC(c2cccc(O)c2)N1NS(=O)(=O)c1ccccc1',\n",
       " 'BENORTERONE': 'C[C@]12CCC(=O)C=C1C[C@@H]1[C@@H]2CC[C@@]2(C)[C@H]1CC[C@]2(C)O',\n",
       " 'OXENDOLONE': 'CC[C@H]1C[C@H]2[C@@H]3CC=C4CC(=O)CC[C@@H]4[C@H]3CC[C@]2(C)[C@H]1O',\n",
       " 'SANGIVAMYCIN': 'NC(=O)c1cn([C@@H]2O[C@H](CO)[C@@H](O)[C@H]2O)c2ncnc(N)c12',\n",
       " 'FENPIVERINIUM': 'C[N+]1(CCC(C(N)=O)(c2ccccc2)c2ccccc2)CCCCC1',\n",
       " 'NARMAFOTINIB': 'COc1cc(C2CCN(C)CC2)ccc1Nc1ncc(C(F)(F)F)c(CCc2ccccc2CC(N)=O)n1',\n",
       " 'CHEMBL5174726': 'CN1CCN(c2ccc3[nH]c(-c4ccc5[nH]c(-c6cccc(OCCCC(=O)NCCCN=[N+]=[N-])c6)nc5c4)nc3c2)CC1',\n",
       " 'SPIROXEPIN': 'CN(C)CC1COC2(O1)c1ccccc1COc1ccccc12',\n",
       " 'DESOMORPHINE': 'CN1CC[C@]23c4c5ccc(O)c4O[C@H]2CCC[C@H]3[C@H]1C5',\n",
       " 'ST50903327': 'O=C(COc1ccccc1Br)NCc1ccccn1',\n",
       " 'CHEMBL1427019': 'CN1CCN(c2nc(-c3cccs3)nc3ccccc23)CC1',\n",
       " 'RODATRISTAT ETHYL': 'CCOC(=O)[C@@H]1CC2(CCN(c3cc(O[C@H](c4ccc(Cl)cc4-c4ccccc4)C(F)(F)F)nc(N)n3)CC2)CN1',\n",
       " 'NORKETOTIFEN': 'O=C1Cc2ccccc2C(=C2CCNCC2)c2ccsc21',\n",
       " 'AMINOGLUTETHIMIDE': 'CCC1(c2ccc(N)cc2)CCC(=O)NC1=O',\n",
       " 'ABACAVIR': 'Nc1nc(NC2CC2)c2ncn([C@H]3C=C[C@@H](CO)C3)c2n1',\n",
       " 'CHEMBL1329472': 'COc1ccc(CSc2cccc3cccnc23)cc1[N+](=O)[O-]',\n",
       " 'ASN 04456685': 'CCOc1cc(NC(=S)NCc2ccco2)c(OCC)cc1NC(=O)c1ccco1',\n",
       " 'RODATRISTAT': 'Nc1nc(O[C@H](c2ccc(Cl)cc2-c2ccccc2)C(F)(F)F)cc(N2CCC3(CC2)CN[C@H](C(=O)O)C3)n1',\n",
       " 'MLS000730812': 'CCCCNC(=O)c1ccc(/C=C2\\\\Oc3ccccc3N(C)C2=O)cc1',\n",
       " 'Inhibitor of P38 Kinase': 'c1ccc2c(CCc3ccncc3)c[nH]c2c1',\n",
       " 'DIPROQUALONE': 'Cc1nc2ccccc2c(=O)n1CC(O)CO',\n",
       " 'RUXOLITINIB': 'N#CC[C@H](C1CCCC1)n1cc(-c2ncnc3[nH]ccc23)cn1',\n",
       " '2-(2-Ethoxyphenyl)-8-oxo-9-phenyl-8,9-dihydro-7H-purine-6-carboxamide': 'CCOc1ccccc1-c1nc(C(N)=O)c2[nH]c(=O)n(-c3ccccc3)c2n1',\n",
       " 'SUNVOZERTINIB': 'C=CC(=O)Nc1cc(Nc2nccc(Nc3cc(Cl)c(F)cc3C(C)(C)O)n2)c(OC)cc1N1CC[C@@H](N(C)C)C1',\n",
       " 'AC1M2FBD': 'CC(=O)N1C(=S)NC(=O)/C1=C1/C(=O)N(CC(=O)Nc2cccc(C)c2)c2ccccc21',\n",
       " 'CHEMBL3145194': 'Cc1c(-c2cc(O)n(-c3ccccc3)c2O)[nH]n(-c2ccccc2)c1=O',\n",
       " 'BRD-K99344911': 'Cc1ccccc1S(=O)(=O)N1[C@H](C#N)[C@@H](c2ccc(C#CC3CC3)cc2)[C@@H]1CO',\n",
       " 'CHEMBL1582531': 'COc1ccc(CN(C(=O)c2cccs2)c2ccccc2C(=O)O)cc1',\n",
       " 'CP-601927': 'FC(F)(F)c1ccc2c(c1)[C@H]1CNC[C@@H]2C1',\n",
       " 'NALMEFENE': 'C=C1CC[C@@]2(O)[C@H]3Cc4ccc(O)c5c4[C@@]2(CCN3CC2CC2)[C@H]1O5',\n",
       " 'CHEMBL3890942': 'CSc1cc(C)nc(SC)c1NC(=O)CN1CCN(CCSc2nc3ccccc3[nH]2)CC1',\n",
       " 'CHEMBL4592922': 'CCCCN1C(=O)C(=O)c2cc(Br)cc(C)c21',\n",
       " 'SMR000032275': 'O=C(CN1C(=O)COc2ccccc21)NCCCN1CCc2ccccc2C1',\n",
       " 'BRD-K38292946': 'CC[C@@H]1C(=O)N(C)c2cnc(Nc3ccc(C(=O)NC4CCN(C)CC4)cc3OC3CCCC3)nc2N1C1CCCC1',\n",
       " 'MLS000807185': 'Cc1nnc(NC(=O)c2ccc3ccccc3n2)s1',\n",
       " 'GALLIC ACID METHYL ESTER': 'COC(=O)c1cc(O)c(O)c(O)c1',\n",
       " 'CHEMBL1509112': 'CCC(=O)Oc1ccc(-c2cnc3ccccc3n2)cc1',\n",
       " 'tropine': 'CN1C2CCC1CC(O)C2',\n",
       " '3-ACETYLCOUMARIN': 'CC(=O)c1cc2ccccc2oc1=O',\n",
       " 'SMR000003653': 'COCCCn1c(Cc2csc(Nc3cccc(Cl)c3)n2)nnc1SCC(=O)OC',\n",
       " 'STK266418': 'CC(=O)Oc1ccc(NC(=O)C2CCCCC2)c(C(=O)O)c1',\n",
       " 'CHEMBL1380695': 'Cc1ccc(C2CC(C(F)(F)F)n3nc(C(=O)NCc4ccco4)cc3N2)cc1',\n",
       " 'SULFACLOMIDE': 'Cc1nc(C)c(Cl)c(NS(=O)(=O)c2ccc(N)cc2)n1',\n",
       " '3,5-Bis(4-methylbenzylidene)piperidin-4-one (LINCS LSM-2827)': 'Cc1ccc(C=C2CNCC(=Cc3ccc(C)cc3)C2=O)cc1',\n",
       " 'CHEMBL1310925': 'CCOC(=O)CC(NC(=O)Cc1cccs1)c1ccccc1Cl',\n",
       " 'TROPIRINE': 'CN1[C@@H]2CC[C@H]1C[C@@H](OC1c3ccccc3C=Cc3ncccc31)C2',\n",
       " 'OMPENACLID': 'N=C(N)NCCC(=O)O',\n",
       " 'TRIBUTYRIN': 'CCCC(=O)OCC(COC(=O)CCC)OC(=O)CCC',\n",
       " 'TISOPURINE': 'S=c1[nH]cnc2[nH]ncc12',\n",
       " 'DIOXADROL': 'c1ccc(C2(c3ccccc3)OCC(C3CCCCN3)O2)cc1',\n",
       " 'CHEMBL1344907': 'Cc1nn(-c2ccc(Cl)c(Cl)c2)c(=O)c2ccccc12',\n",
       " 'TRINITROPHENOL': 'O=[N+]([O-])c1cc([N+](=O)[O-])c(O)c([N+](=O)[O-])c1',\n",
       " 'TRIPALMITIN': 'CCCCCCCCCCCCCCCC(=O)OCC(COC(=O)CCCCCCCCCCCCCCC)OC(=O)CCCCCCCCCCCCCCC',\n",
       " 'TROXONIUM': 'CC[N+](CC)(CC)CCOC(=O)c1cc(OC)c(OC)c(OC)c1',\n",
       " 'PHOLEDRINE': 'CNC(C)Cc1ccc(O)cc1',\n",
       " 'RASAGILINE': 'C#CCN[C@@H]1CCc2ccccc21',\n",
       " 'CHEMBL3484145': 'CCCc1nnc(N2CCC3(CC2)CN(C)C(=O)O3)o1',\n",
       " 'ELENESTINIB': 'C[C@](N)(c1ccc(F)cc1)c1cnc(N2CCN(c3ncnn4cc(-c5cnn(CCO)c5)cc34)CC2)nc1',\n",
       " 'PIPERACETAZINE': 'CC(=O)c1ccc2c(c1)N(CCCN1CCC(CCO)CC1)c1ccccc1S2',\n",
       " 'LIMONIN': 'CC1(C)O[C@H]2CC(=O)OC[C@]23[C@H]2CC[C@@]4(C)[C@H](c5ccoc5)OC(=O)[C@H]5O[C@]54[C@]2(C)C(=O)C[C@@H]13',\n",
       " 'METRONIDAZOLE BENZOATE': 'Cc1ncc([N+](=O)[O-])n1CCOC(=O)c1ccccc1',\n",
       " 'AC1LS3SF': 'COc1ccc(C(=O)ON=C(C)c2nccs2)cc1',\n",
       " 'BAMALUZOLE': 'Cn1cnc2c(OCc3ccccc3Cl)nccc21',\n",
       " 'RX-518': 'C=CC(=O)Nc1cccc(-c2cccc3cnc(Nc4ccc(N5CCN(CCO)CC5)c(F)c4F)nc23)c1',\n",
       " 'CEFAZEDONE': 'Cc1nnc(SCC2=C(C(=O)O)N3C(=O)[C@@H](NC(=O)Cn4cc(Cl)c(=O)c(Cl)c4)[C@H]3SC2)s1',\n",
       " 'CHEMBL1447452': 'Cc1ccc2c(c1)N(S(=O)(=O)c1ccc(CN3C(=O)c4cccnc4C3=O)s1)CCO2',\n",
       " 'CHEMBL5000143': 'CS(=O)(=O)c1cccc(-c2nnc(C3(c4cccc(Cl)c4)CCOCC3)o2)c1',\n",
       " 'PROBICROMIL': 'CCCc1c2oc(C(=O)O)cc(=O)c2cc2c(=O)cc(C(=O)O)oc12',\n",
       " 'CHEMBL1467716': 'CCN(CC)C(=O)Cn1cc(C(=O)C(=O)N2CCN(Cc3ccccc3)CC2)c2ccccc21',\n",
       " 'CHEMBL1446868': 'COc1ccc(N2CCN(C(=O)Cc3coc4ccc(C)cc34)CC2)cc1',\n",
       " 'CHEMBL1873791': 'Cc1ccc(S(=O)(=O)N2CCN(c3ncccn3)CC2)cc1C',\n",
       " '2-(3-Oxo-1,2,3,4-tetrahydroquinoxalin-2-yl)-n-phenylacetamide': 'O=C(CC1Nc2ccccc2NC1=O)Nc1ccccc1',\n",
       " 'MLS000733108': 'Cc1ccc(CN2CCCC(CO)(Cc3ccccc3C)C2)s1',\n",
       " 'METHYLDOPA': 'C[C@](N)(Cc1ccc(O)c(O)c1)C(=O)O',\n",
       " 'CHEMBL4573046': 'CC(C)(C)c1n[nH]c2c(-c3nc4ccccc4s3)c(N)nn2c1=O',\n",
       " 'TCMDC-123629': 'N#Cc1cc(C(=O)c2cc(Br)ccc2O)cn(C2CCCCC2)c1=O',\n",
       " 'SMR000068358': 'CCn1c(CCC(=O)Nc2nc3c(s2)CCCC3)nc2cc(S(=O)(=O)N(C)C)ccc21',\n",
       " 'DICLOFENAC': 'O=C(O)Cc1ccccc1Nc1c(Cl)cccc1Cl',\n",
       " 'MLS000775691': 'O=C(/C=C/c1cccs1)N1CCN(c2ccc(O)cc2)CC1',\n",
       " 'SIRAMESINE': 'Fc1ccc(-n2cc(CCCCN3CCC4(CC3)OCc3ccccc34)c3ccccc32)cc1',\n",
       " 'KUS-121 free acid': 'Cc1cc(F)ccc1-c1ccc(/N=N/c2cc(S(=O)(=O)O)c3ccccc3c2N)cn1',\n",
       " 'TRIAMCINOLONE HEXACETONIDE': 'CC(C)(C)CC(=O)OCC(=O)[C@@]12OC(C)(C)O[C@@H]1C[C@H]1[C@@H]3CC=C4CC(=O)C=C[C@]4(C)[C@@]3(F)[C@@H](O)C[C@@]12C',\n",
       " \"[4-(6-Chloro-Naphthalene-2-Sulfonyl)-Piperazin-1-Yl]-(3,4,5,6-Tetrahydro-2h-[1,4']Bipyridinyl-4-Yl)-Methanone\": 'O=C(C1CCN(c2ccncc2)CC1)N1CCN(S(=O)(=O)c2ccc3cc(Cl)ccc3c2)CC1',\n",
       " 'CBDIVE_007969': 'O=C(CCN1CCOCC1)Nc1ccc2c(c1)N(C(=O)CN1CCOCC1)c1ccccc1CC2',\n",
       " 'CHEMBL573514': 'COc1ccccc1N1C(N)=NC(N)=NC12CCCCC2',\n",
       " 'MLS000582933': 'Cc1nc(NC(=O)c2cccc(-c3cc4ccccc4oc3=O)c2)ccc1Br',\n",
       " 'Hydroxytyrosol (DrugBank DB12771)': 'OCCc1ccc(O)c(O)c1',\n",
       " 'FENOFIBRIC ACID': 'CC(C)(Oc1ccc(C(=O)c2ccc(Cl)cc2)cc1)C(=O)O',\n",
       " 'AC1LDG8L': 'CC(C)(C)NC(=O)C(c1ccncc1)N(C(=O)c1csnn1)C1CC1',\n",
       " 'BEFUNOLOL': 'CC(=O)c1cc2cccc(OCC(O)CNC(C)C)c2o1',\n",
       " 'CLOCOUMAROL': 'CCCC(c1ccc(CCCl)cc1)c1c(O)c2ccccc2oc1=O',\n",
       " 'CHEMBL527294': 'Cc1cccn2c(=O)c3cc(C(=O)NCCc4ccccc4)c(=N)n(CCCOC(C)C)c3nc12',\n",
       " 'PROPYLPARABEN': 'CCCOC(=O)c1ccc(O)cc1',\n",
       " 'CHEMBL1401729': 'CCN(CC)c1ccc(C2NCC(c3ccc([N+](=O)[O-])cc3)O2)cc1',\n",
       " 'Bornaprine (DrugBank DB13619)': 'CCN(CC)CCCOC(=O)C1(c2ccccc2)C[C@@H]2CC[C@H]1C2',\n",
       " 'MLS000121981': 'CCOC(=O)CN(C(=O)CNC(=O)c1cccs1)C(C(=O)NC1CCCCC1)c1cccs1',\n",
       " 'HISTIDINE': 'N[C@@H](Cc1c[nH]cn1)C(=O)O',\n",
       " 'CHEMBL1548222': 'COc1ccc(Nc2cc(O)[nH]c2O)cc1',\n",
       " 'CHEMBL1521315': 'Cc1ccc(C(=O)NCCCn2ccnc2)cc1[N+](=O)[O-]',\n",
       " 'FENTIAZAC': 'O=C(O)Cc1sc(-c2ccccc2)nc1-c1ccc(Cl)cc1',\n",
       " 'DEHYDROACETIC ACID': 'CC(=O)c1c(O)cc(C)oc1=O',\n",
       " 'BENTAZEPAM': 'O=C1CN=C(c2ccccc2)c2c(sc3c2CCCC3)N1',\n",
       " 'DESGLYMIDODRINE': 'COc1ccc(OC)c(C(O)CN)c1',\n",
       " 'CHEMBL1533524': 'COc1cccc(NS(=O)(=O)c2ccc3[nH]cc(C(=O)N(C)C4CCCCC4)c(=O)c3c2)c1',\n",
       " 'NADOXOLOL': 'N/C(CC(O)COc1cccc2ccccc12)=N/O',\n",
       " 'CHEMBL1558889': 'Cc1cc(Nc2ccc(C(C)C)cc2)nc(-n2nc(C)cc2C)n1',\n",
       " 'PHENOTHRIN': 'CC(C)=CC1C(C(=O)OCc2cccc(Oc3ccccc3)c2)C1(C)C',\n",
       " 'CHEMBL1559784': 'O=C(COc1ccc2c(c1)CCC2)NCc1ccccc1',\n",
       " 'FLUAZACORT': 'CC(=O)OCC(=O)[C@@]12N=C(C)O[C@@H]1C[C@H]1[C@@H]3CC=C4CC(=O)C=C[C@]4(C)[C@@]3(F)[C@@H](O)C[C@@]12C',\n",
       " 'CRINECERFONT': 'C#CCN(c1nc(-c2cc(C)c(OC)cc2Cl)c(C)s1)[C@@H](CC1CC1)c1ccc(C)c(F)c1',\n",
       " 'CHEMBL1397732': 'O=C(NCCCN1CCN(c2ccccc2F)CC1)c1sc2ncccc2c1-n1cccc1',\n",
       " 'HALOMETASONE': 'C[C@@H]1C[C@H]2[C@@H]3C[C@H](F)C4=CC(=O)C(Cl)=C[C@]4(C)[C@@]3(F)[C@@H](O)C[C@]2(C)[C@@]1(O)C(=O)CO',\n",
       " 'CHEMBL1415882': 'COc1ccc(C(=O)Nn2c(SCC(=O)c3ccc(Cl)cc3)nc3ccccc3c2=O)cc1',\n",
       " 'CHEMBL4061483': 'CCCC[S+]([O-])c1sc2nc(-c3cccs3)cc(-c3ccccc3)c2c1N',\n",
       " 'PRADIGASTAT (ChEMBL CHEMBL2364624)': 'O=C(O)C[C@H]1CC[C@H](c2ccc(-c3ccc(Nc4ccc(C(F)(F)F)nc4)cn3)cc2)CC1',\n",
       " 'FENIROFIBRATE (ChEMBL CHEMBL2106581)': 'CC(C)(Oc1ccc(C(O)c2ccc(Cl)cc2)cc1)C(=O)O',\n",
       " 'CHEMBL1441771': 'Cc1ccc(SCc2cc(=O)n3[nH]cnc3n2)cc1',\n",
       " 'COMBRETASTATIN A4': 'COc1ccc(/C=C\\\\c2cc(OC)c(OC)c(OC)c2)cc1O',\n",
       " 'HYZETIMIBE': 'O=C1[C@H](C/C=C(\\\\CO)c2ccc(F)cc2)[C@@H](c2ccc(O)cc2)N1c1ccc(F)cc1',\n",
       " '3-(N-morpholino)propanesulfonic acid': 'O=S(=O)(O)CCCN1CCOCC1',\n",
       " 'ORG-12962': 'FC(F)(F)c1ccc(N2CCNCC2)nc1Cl',\n",
       " 'ISOMETAMIDIUM': 'CC[n+]1c(-c2ccccc2)c2cc(N/N=N/c3cccc(C(=N)N)c3)ccc2c2ccc(N)cc21',\n",
       " 'CHEMBL1491710': 'CCOC(=O)CN1C(=O)Nc2ccc(Br)cc2C1c1ccccc1',\n",
       " 'MAVACOXIB': 'NS(=O)(=O)c1ccc(-n2nc(C(F)(F)F)cc2-c2ccc(F)cc2)cc1',\n",
       " 'CAMPTOTHECIN': 'CC[C@@]1(O)C(=O)OCc2c1cc1n(c2=O)Cc2cc3ccccc3nc2-1',\n",
       " 'CHEMBL1524788': 'CCOC(=O)c1c(N)sc(C(N)=O)c1C',\n",
       " 'HYDROXYNORKETAMINE, (2R,6R)': 'N[C@@]1(c2ccccc2Cl)CCCC(=O)C1O',\n",
       " 'CP 220629': 'CCc1nn(C2CCCC2)c2c1CCN(c1ccccc1C)C2=O',\n",
       " 'ATPGAMMAS': 'Nc1ncnc2c1ncn2[C@@H]1O[C@H](COP(=O)(O)OP(=O)(O)OP(O)(O)=S)[C@@H](O)[C@H]1O',\n",
       " 'BENZYLAMINE': 'NCc1ccccc1',\n",
       " 'SIGUAZODAN': 'CN/C(=N\\\\c1ccc(C2=NNC(=O)CC2C)cc1)NC#N',\n",
       " 'SCHEMBL13401107': 'COc1cc2c(cc1O)CCN1C[C@@H](CC(C)C)[C@H](O)C[C@H]21',\n",
       " 'CHEMBL1899121': 'CCOC(=O)c1ccc(NC(=O)c2oc(=O)c3ccccc3c2-c2ccccc2)cc1',\n",
       " 'MLS000543251': 'CC(=O)c1cc(NC(=O)c2cccc(C(F)(F)F)c2)c(=O)oc1/C=C/N(C)C',\n",
       " 'CHEMBL1306751': 'CCCOc1ccc(C(=O)NCC(c2ccco2)N(C)C)cc1',\n",
       " 'OCTREOTIDE': 'C[C@@H](O)[C@@H]1NC(=O)[C@H](CCCCN)NC(=O)[C@@H](Cc2c[nH]c3ccccc23)NC(=O)[C@H](Cc2ccccc2)NC(=O)[C@@H](NC(=O)[C@H](N)Cc2ccccc2)CSSC[C@@H](C(=O)N[C@H](CO)[C@@H](C)O)NC1=O',\n",
       " 'Methacrylonitrile': 'C=C(C)C#N',\n",
       " 'PHTHALYLSULFATHIAZOLE': 'O=C(O)c1ccccc1C(=O)Nc1ccc(S(=O)(=O)Nc2nccs2)cc1',\n",
       " 'VB-313': 'CCCCCc1cc(O[C@@H]2O[C@H](CO[C@@H]3O[C@H](CO)[C@@H](O)[C@H](O)[C@H]3O)[C@@H](O[C@@H]3O[C@H](CO)[C@@H](O)[C@H](O[C@@H]4O[C@H](CO)[C@@H](O)[C@H](O)[C@H]4O)[C@H]3O)[C@H](O)[C@H]2O)c2c(c1)OC(C)(C)[C@@H]1CCC(C)=C[C@@H]21',\n",
       " 'CHEBI:75126': 'CCCCCCCCCCCCCCCC(=O)N[C@H](CN1CCOCC1)[C@H](O)c1ccccc1',\n",
       " 'BRD-K38571893': 'C[C@H]1CCCCO[C@H](CN(C)S(=O)(=O)c2ccc(F)cc2)[C@@H](C)CN([C@@H](C)CO)C(=O)c2cc(N(C)C)ccc2O1',\n",
       " 'ST50317697': 'CCC(C)NC(=O)C1CC(=O)N(CCc2ccc(F)cc2)C1',\n",
       " 'CHEMBL1412831': 'O=C(Nc1cccnc1)c1ccc(COc2ccccc2Cl)o1',\n",
       " 'TEZAMPANEL ANHYDROUS': 'O=C(O)[C@@H]1C[C@H]2C[C@@H](CCc3nn[nH]n3)CC[C@H]2CN1',\n",
       " 'CHEMBL1389392': 'CC(C(=O)N1CCOCC1)n1cc([N+](=O)[O-])cn1',\n",
       " 'CLINOFIBRATE': 'CCC(C)(Oc1ccc(C2(c3ccc(OC(C)(CC)C(=O)O)cc3)CCCCC2)cc1)C(=O)O',\n",
       " 'CHEMBL1594847': 'Cn1nc(C(=O)N2CCCc3ccccc32)c2ccccc2c1=O',\n",
       " 'SINEFUNGIN': 'Nc1ncnc2c1ncn2[C@@H]1O[C@H](C[C@@H](N)CC[C@H](N)C(=O)O)[C@@H](O)[C@H]1O',\n",
       " 'ST056792': 'Cc1cc(Sc2nnc(C)s2)c2ccccc2n1',\n",
       " '1-(3-Chloro-phenyl)-3-(9-cyclopentyl-9-aza-bicyclo[3.3.1]non-3-yl)-thiourea': 'S=C(Nc1cccc(Cl)c1)NC1CC2CCCC(C1)N2C1CCCC1',\n",
       " 'HEXAPROFEN': 'CC(C(=O)O)c1ccc(C2CCCCC2)cc1',\n",
       " 'CHEMBL1375223': 'O=C(CC1SCCNC1=O)Nc1ccc(Cl)cc1',\n",
       " '4-[4-(4-Fluorophenoxy)butyl]morpholine': 'Fc1ccc(OCCCCN2CCOCC2)cc1',\n",
       " 'CHEMBL1518565': 'Cc1occc1C(=O)N1CCc2ccccc21',\n",
       " 'DICIRENONE': 'CC(C)OC(=O)[C@@H]1C=C2CC(=O)CC[C@]2(C)[C@H]2CC[C@@]3(C)[C@@H](CC[C@@]34CCC(=O)O4)[C@H]12',\n",
       " 'CHEMBL1720484': 'CCOC(=O)CN(C)Cc1cn(C)nc1-c1ccc(Oc2ccccc2)cc1',\n",
       " 'CHEMBL1727286': 'O=S(=O)(NCCN1CCOCC1)c1cc(Cl)ccc1Cl',\n",
       " 'CODACTIDE': 'CSCC[C@@H](NC(=O)[C@H](CO)NC(=O)C(Cc1ccc(O)cc1)NC(=O)[C@H](N)CO)C(=O)N[C@@H](CCC(=O)O)C(=O)N[C@H](Cc1c[nH]cn1)C(=O)N[C@H](Cc1ccccc1)C(=O)N[C@@H](CCCN=C(N)N)C(=O)N[C@@H](Cc1c[nH]c2ccccc12)C(=O)NCC(=O)N[C@H](CCCCN)C(=O)N1CCC[C@H]1C(=O)N[C@H](C(=O)NCC(=O)N[C@@H](CCCCN)C(=O)N[C@H](CCCCN)C(=O)N[C@@H](CCCCN)C(=O)N[C@H](CCCCN)C(N)=O)C(C)C',\n",
       " 'CHEMBL4984026': 'Cc1cc(=O)[nH]c(=O)n1-c1ccc2c(c1)OCO2',\n",
       " 'R-30490': 'CCC(=O)N(c1ccccc1)C1(COC)CCN(CCc2ccccc2)CC1',\n",
       " 'CHEMBL1534486': 'O=S(=O)(c1ccc(-c2ccno2)s1)N1CCCCC1',\n",
       " 'ACETERGAMINE': 'CC(=O)NC[C@@H]1C[C@@H]2c3cccc4[nH]cc(c34)C[C@H]2N(C)C1',\n",
       " 'CHEMBL4967275': 'COc1ccc(-c2noc(Cn3cnc4ccccc4c3=O)n2)cc1',\n",
       " 'ACETOHYDROXAMIC ACID': 'CC(O)=NO',\n",
       " 'THIOLUTIN': 'CC(=O)Nc1c2sscc-2n(C)c1=O',\n",
       " 'CHEMBL5009017': 'Cc1nc(-c2ccc(NC(=O)C(C)C)cc2)co1',\n",
       " 'CHEMBL1603931': 'CCOc1ccccc1CNC(=O)CCCn1ncn2c(cc3occc32)c1=O',\n",
       " 'N-Acetylmethionine': 'CSCC[C@H](NC(C)=O)C(=O)O',\n",
       " 'NSC167406': 'CC1CCC2(C(=O)O)CCC3(C)C(=CCC4C5(C)CCC(O)C(C)(C)C5CCC43C)C2C1C',\n",
       " 'ACETYLSEROTONIN': 'CC(=O)NCCc1c[nH]c2ccc(O)cc12',\n",
       " 'CHEMBL1623316': 'CCOc1cc(CNCc2cccs2)cc(Br)c1OC',\n",
       " 'HYDROXYSTENOZOLE': 'C[C@]12Cc3c[nH]nc3C=C1CC[C@@H]1[C@@H]2CC[C@@]2(C)[C@H]1CC[C@]2(C)O',\n",
       " 'CHEMBL1599962': 'Cc1c(NS(=O)(=O)c2ccc(N=NN(C)C)cc2)c(=O)n(-c2ccccc2)n1C',\n",
       " 'ALOIN': 'OCc1cc(O)c2c(O)c3c(O)cccc3c([C@@H]3O[C@H](CO)[C@@H](O)[C@H](O)[C@H]3O)c2c1',\n",
       " 'APROBARBITAL': 'C=CCC1(C(C)C)C(=O)NC(=O)NC1=O',\n",
       " 'CHEMBL4527543': 'CC(C(=O)NCC1CCCCC1)N1CCN(c2ccc(F)cc2)CC1',\n",
       " 'CHEMBL3770186': 'CCn1c(=O)c(-c2ccc(-c3cncc(C)n3)cc2Cl)cc2cnc(NCCC3CCN(C)CC3)nc21',\n",
       " 'OLMIDINE': 'N=C(N)C(O)c1ccc2c(c1)OCO2',\n",
       " 'CHEMBL3935992': 'ON=C(O)c1cnc(NC2(c3ccccc3)CCC(F)(F)CC2)nc1',\n",
       " '1-Phenylcyclohexylamine': 'NC1(c2ccccc2)CCCCC1',\n",
       " 'CHEMBL1583706': 'Cc1ccc(C(=O)COC(=O)c2ccc3c(c2)C(=O)N(c2cccc4ncccc24)C3=O)cc1',\n",
       " 'SULFISOMIDINE': 'Cc1cc(NS(=O)(=O)c2ccc(N)cc2)nc(C)n1',\n",
       " 'LY-295501': 'O=C(Nc1ccc(Cl)c(Cl)c1)NS(=O)(=O)c1ccc2c(c1)CCO2',\n",
       " 'SMR000033256': 'Cc1ccccc1OCc1nc(-c2ccc(NC(=O)c3ccco3)cc2)no1',\n",
       " 'CHEMBL1325151': 'COc1ccc(-n2nnnc2SCc2nc(N)nc(N3CCOCC3)n2)cc1',\n",
       " 'CHEMBL1448436': 'NC(=O)C1CCN(C(=O)CSc2nc3ccccc3s2)CC1',\n",
       " 'TALAMPANEL': 'CC(=O)N1N=C(c2ccc(N)cc2)c2cc3c(cc2C[C@H]1C)OCO3',\n",
       " 'CHEMBL1361094': 'O=C(O)c1ccc2c(c1)C(=O)N(CCCCCCCN1C(=O)c3ccc(C(=O)O)cc3C1=O)C2=O',\n",
       " 'CHEMBL1537002': 'O=C(NCc1cccnc1)c1ccc(COc2ccccc2Br)o1',\n",
       " '2,3-Bis-Benzo[1,3]Dioxol-5-Ylmethyl-Succinic Acid': 'O=C(O)[C@@H](Cc1ccc2c(c1)OCO2)[C@H](Cc1ccc2c(c1)OCO2)C(=O)O',\n",
       " 'AC1N9R4H': 'CC(C)c1n[nH]c(SCC(=O)Nc2ccc([N+](=O)[O-])cc2Br)n1',\n",
       " 'Benzoyl-tyrosine-alanine-fluoro-methyl ketone': 'C[C@H](NC(=O)[C@H](Cc1ccc(O)cc1)NC(=O)OCc1ccccc1)C(=O)CF',\n",
       " 'RUBOXISTAURIN': 'CN(C)C[C@@H]1CCn2cc(c3ccccc32)C2=C(C(=O)NC2=O)c2cn(c3ccccc23)CCO1',\n",
       " \"1-[4-Carboxy-2-(3-Pentylamino)Phenyl]-5,5'-Di(Hydroxymethyl)Pyrrolidin-2-One\": 'CCC(CC)Nc1cc(C(=O)O)ccc1N1C(=O)CCC1(CO)CO',\n",
       " 'ATROPINE (ChEMBL CHEMBL517712)': 'CN1[C@@H]2CC[C@H]1C[C@@H](OC(=O)C(CO)c1ccccc1)C2',\n",
       " 'SMR000154893': 'COCCn1c(SC(C)C(=O)Nc2ncc(Cl)cc2Cl)nc2ccccc21',\n",
       " 'STG-001': 'O=C(O)CCn1ccc(-c2cc(C(F)(F)F)cc(C(F)(F)F)c2)n1',\n",
       " 'ASN 03270243': 'COc1ccc(-c2csc(N(CCCN(C)C)C(=O)c3ccc(Br)cc3)n2)cc1',\n",
       " 'CHEMBL1530120': 'O=C(CCCOc1ccc(Cl)cc1Cl)n1nnc2ccccc21',\n",
       " 'VALINE, DL-': 'CC(C)C(N)C(=O)O',\n",
       " 'Lacidipine (DrugBank DB09236)': 'CCOC(=O)C1=C(C)N=C(C)C(C(=O)OCC)C1c1ccccc1/C=C/C(=O)OC(C)(C)C',\n",
       " 'N-(3-Bromo-4,5-diethoxybenzyl)-n-[4-(4-morpholinyl)phenyl]amine': 'CCOc1cc(CNc2ccc(N3CCOCC3)cc2)cc(Br)c1OCC',\n",
       " \"4,4'-METHYLENEBIS(2,6-DIISOPROPYLANILINE)\": 'CC(C)c1cc(Cc2cc(C(C)C)c(N)c(C(C)C)c2)cc(C(C)C)c1N',\n",
       " 'XERUBORBACTAM': 'O=C(O)c1c(F)ccc2c1OB(O)[C@@H]1C[C@H]21',\n",
       " '6-hydroxymethylpterin diphosphate': 'Nc1nc(=O)c2nc(CO[P@](=O)(O)OP(=O)(O)O)cnc2[nH]1',\n",
       " 'CHEMBL1303631': 'CC(C)Cc1nnc(NC(=O)c2cc(-c3ccccc3)nc3ccccc23)s1',\n",
       " 'MLS003130099': 'C[C@@H]1CN([C@H](C)CO)C(=O)c2cc(/C=C/c3ccccc3)cnc2O[C@H]1CN(C)C(=O)NC1CCCCC1',\n",
       " 'APROFENE': 'CCN(CC)CCOC(=O)C(C)(c1ccccc1)c1ccccc1',\n",
       " 'CHEMBL4552129': 'O=C(CN1CCN(Cc2csc(Nc3cccc(C(F)(F)F)c3)n2)CC1)N1CCCC1',\n",
       " 'PHENETHYLBORONIC ACID': 'OB(O)CCc1ccccc1',\n",
       " 'SB-224289': 'Cc1nc(-c2ccc(-c3ccc(C(=O)N4CCc5cc6c(cc54)C4(CCN(C)CC4)CO6)cc3)c(C)c2)no1',\n",
       " 'AZOMYCIN': 'O=[N+]([O-])c1ncc[nH]1',\n",
       " 'DWP05195': 'FC(F)(F)c1cccnc1-c1ccc(-c2nc3cc(Br)ccc3[nH]2)nc1',\n",
       " 'BAICALEIN': 'O=c1cc(-c2ccccc2)oc2cc(O)c(O)c(O)c12',\n",
       " '6-CHLORO-4-(CYCLOHEXYLOXY)-3-PROPYLQUINOLIN-2(1H)-ONE': 'CCCc1c(OC2CCCCC2)c2cc(Cl)ccc2[nH]c1=O',\n",
       " 'BAMIFYLLINE': 'CCN(CCO)CCn1c(Cc2ccccc2)nc2c1c(=O)n(C)c(=O)n2C',\n",
       " 'POCENBRODIB': 'COC(=O)N1c2ccc3c(nc([C@H](O)c4cc(F)ccc4OC)n3[C@@H]3CCC[C@@H](C(=O)O)C3)c2CC[C@@H]1C',\n",
       " 'BENZOHYDROXAMATE': 'ON=C(O)c1ccccc1',\n",
       " 'CHEMBL4299695': 'O=C(O)CC(O)CC(O)C=Cc1c(C2CC2)nc2ccccc2c1-c1ccc(F)cc1',\n",
       " '1-benzylpiperazine': 'c1ccc(CN2CCNCC2)cc1',\n",
       " 'CHEMBL1334987': 'COc1cc(Cl)ccc1S(=O)(=O)Nc1ccc2ccccc2c1',\n",
       " 'IODIPAMIDE': 'O=C(CCCCC(=O)Nc1c(I)cc(I)c(C(=O)O)c1I)Nc1c(I)cc(I)c(C(=O)O)c1I',\n",
       " 'BLUENSOMYCIN': 'CN[C@@H]1[C@H](O[C@H]2[C@H](O[C@H]3[C@H](O)[C@@H](O)[C@H](OC(N)=O)[C@@H](O)[C@@H]3N=C(N)N)O[C@@H](C)[C@]2(O)CO)O[C@@H](CO)[C@H](O)[C@H]1O',\n",
       " 'CARTEOLOL': 'CC(C)(C)NCC(O)COc1cccc2c1CCC(=O)N2',\n",
       " 'CHEMBL1342729': 'Cn1c(=O)oc2cc(S(=O)(=O)Nc3cccc([N+](=O)[O-])c3)ccc21',\n",
       " 'SINITRODIL': 'O=C1c2ccccc2OCN1CCO[N+](=O)[O-]',\n",
       " 'RETAGLIPTIN': 'COC(=O)c1nc(C(F)(F)F)n2c1CN(C(=O)C[C@H](N)Cc1cc(F)c(F)cc1F)CC2',\n",
       " 'Apomine': 'CC(C)OP(=O)(OC(C)C)C(Cc1cc(C(C)(C)C)c(O)c(C(C)(C)C)c1)P(=O)(OC(C)C)OC(C)C',\n",
       " 'ROVATIRELIN': 'C[C@@H]1OC(=O)N[C@@H]1C(=O)N[C@@H](Cc1cscn1)C(=O)N1CCC[C@H]1C',\n",
       " 'CHEMBL1474712': 'COc1ccc(OC)c(CNS(=O)(=O)c2ccc3[nH]c4c(c3c2)CCCCC4)c1',\n",
       " 'CHLORTHALIDONE': 'NS(=O)(=O)c1cc(C2(O)NC(=O)c3ccccc32)ccc1Cl',\n",
       " 'AC1ME6FR': 'COc1ccc(C(=O)C(CN2CCOCC2)c2ccccc2)cc1',\n",
       " 'ST50836699': 'C=CCNC(=S)N1CCC(Cc2ccccc2)CC1',\n",
       " 'CLIDINIUM (ChEMBL CHEMBL620)': 'C[N+]12CCC(CC1)C(OC(=O)C(O)(c1ccccc1)c1ccccc1)C2',\n",
       " 'CHEMBL1302130': 'CC(Nc1ncnc2sccc12)c1ccccc1',\n",
       " 'IPIDACRINE': 'Nc1c2c(nc3c1CCC3)CCCC2',\n",
       " 'CHEMBL4581226': 'COc1ccc(C(=O)CSc2nnc3c(=O)n(-c4ccc(F)cc4)ccn23)cc1',\n",
       " '(R)-PROXYPHYLLINE': 'C[C@@H](O)Cn1cnc2c1c(=O)n(C)c(=O)n2C',\n",
       " \"3,4-Dichloro-benzoic acid n'-(2,6-di-morpholin-4-yl-pyrimidin-4-yl)-hydrazide\": 'O=C(NNc1cc(N2CCOCC2)nc(N2CCOCC2)n1)c1ccc(Cl)c(Cl)c1',\n",
       " 'CHEMBL1314693': 'CC(C)OCCCNC(=O)CSc1c2c(nc3ccc(Cl)cc13)CCCC2',\n",
       " 'MLS000074409': 'C=CCNc1nnc(SCC(=O)N2CCCCC2)c2ccccc12',\n",
       " 'CHEMBL1730520': 'COC(=O)CNC(=O)C(Cc1c[nH]c2ccccc12)NC(=O)Oc1ccccc1',\n",
       " 'CHEMBL1446054': 'O=C(CSc1nc2ccncc2[nH]1)Nc1ccccc1C(F)(F)F',\n",
       " 'LAMIVUDINE': 'Nc1ccn([C@@H]2CS[C@H](CO)O2)c(=O)n1',\n",
       " 'LANOCONAZOLE': 'N#C/C(=C1/SCC(c2ccccc2Cl)S1)n1ccnc1',\n",
       " 'LANSOPRAZOLE (ChEMBL CHEMBL480)': 'Cc1c(OCC(F)(F)F)ccnc1C[S+]([O-])c1nc2ccccc2[nH]1',\n",
       " 'LECIMIBIDE': 'CCCCCCCN(CCCCCSc1nc(-c2ccccc2)c(-c2ccccc2)[nH]1)C(=O)Nc1ccc(F)cc1F',\n",
       " 'LEDAZEROL': 'OCc1cccc(Cc2c[nH]cn2)c1O',\n",
       " 'GNF-PF-747': 'COc1ccc2c(c1)C(C)=CC(C)(C)N2C(=O)CSc1nnc(-c2ccc(C)cc2)o1',\n",
       " 'CHEMBL18545': 'NCCC(=O)NC(Cc1c[nH]cn1)C(=O)O',\n",
       " '5-(4-Fluoro-phenyl)-oxazole-4-carboxylic acid (2-piperidin-1-yl-phenyl)-amide': 'O=C(Nc1ccccc1N1CCCCC1)c1ncoc1-c1ccc(F)cc1',\n",
       " 'LETEPRINIM': 'O=C(CCn1cnc2c(=O)[nH]cnc21)Nc1ccc(C(=O)O)cc1',\n",
       " 'AICA ribonucleotide': 'NC(=O)c1ncn([C@@H]2O[C@H](COP(=O)(O)O)[C@@H](O)[C@H]2O)c1N',\n",
       " 'CHEMBL1532798': 'O=C(COC(=O)c1cccs1)NC1CCCCC1',\n",
       " 'LEUPROLIDE': 'CCNC(=O)[C@@H]1CCCN1C(=O)[C@H](CCCN=C(N)N)NC(=O)[C@H](CC(C)C)NC(=O)[C@@H](CC(C)C)NC(=O)[C@H](Cc1ccc(O)cc1)NC(=O)[C@H](CO)NC(=O)[C@H](Cc1c[nH]c2ccccc12)NC(=O)[C@H](Cc1c[nH]cn1)NC(=O)[C@@H]1CCC(=O)N1',\n",
       " 'CHEMBL235927': 'CC(C)NS(=O)(=O)c1ccc(OCC(=O)N2CCOCC2)cc1',\n",
       " 'Sulfobutylether-beta-cyclodextrin': 'O=S(=O)(O)CCCCOCC1OC2OC3C(COCCCCS(=O)(=O)O)OC(OC4C(COCCCCS(=O)(=O)O)OC(OC5C(COCCCCS(=O)(=O)O)OC(OC6C(COCCCCS(=O)(=O)O)OC(OC7C(COCCCCS(=O)(=O)O)OC(OC8C(CO)OC(OC1C(O)C2O)C(O)C8O)C(O)C7O)C(O)C6O)C(O)C5O)C(O)C4O)C(O)C3O',\n",
       " 'CHEMBL170337': 'Nc1ccc(OCc2ccccc2)c(OCc2ccccc2)c1',\n",
       " 'AN-465/42246754': 'c1ccc(COc2ccc(CNCc3cccs3)cc2)cc1',\n",
       " 'CHEMBL1617973': 'CCCOC(=O)c1ccc(OCC(O)CN2CCN(C(=O)c3ccccc3)CC2)cc1',\n",
       " 'CYTOCHLOR': 'Nc1nc(=O)n([C@H]2C[C@H](O)[C@@H](CO)O2)cc1Cl',\n",
       " 'ATENOLOL': 'CC(C)NCC(O)COc1ccc(CC(N)=O)cc1',\n",
       " 'CHEMBL3696165': 'CCc1cc2c(N3CCN(Cc4ccccc4)CC3)ncnc2s1',\n",
       " 'BREFELDIN A (ChEMBL CHEMBL19980)': 'C[C@H]1CCC/C=C/[C@@H]2C[C@H](O)C[C@H]2[C@H](O)/C=C/C(=O)O1',\n",
       " 'CHEMBL1374091': 'COC(=O)c1sccc1NC(=O)Nc1ccc(C(C)=O)cc1',\n",
       " 'IRINOTECAN SUCROSOFATE': 'CCc1c2c(nc3ccc(OC(=O)N4CCC(N5CCCCC5)CC4)cc13)-c1cc3c(c(=O)n1C2)COC(=O)[C@]3(O)CC.CCc1c2c(nc3ccc(OC(=O)N4CCC(N5CCCCC5)CC4)cc13)-c1cc3c(c(=O)n1C2)COC(=O)[C@]3(O)CC.CCc1c2c(nc3ccc(OC(=O)N4CCC(N5CCCCC5)CC4)cc13)-c1cc3c(c(=O)n1C2)COC(=O)[C@]3(O)CC.CCc1c2c(nc3ccc(OC(=O)N4CCC(N5CCCCC5)CC4)cc13)-c1cc3c(c(=O)n1C2)COC(=O)[C@]3(O)CC.O=S(=O)(O)OC[C@H]1O[C@@](COS(=O)(=O)O)(O[C@H]2O[C@H](COS(=O)(=O)O)[C@@H](OS(=O)(=O)O)[C@H](OS(=O)(=O)O)[C@H]2OS(=O)(=O)O)[C@@H](OS(=O)(=O)O)[C@@H]1OS(=O)(=O)O',\n",
       " 'CHEMBL1485771': 'COCCCNC(=O)Cn1cc(C(=O)c2cccs2)c2ccccc21',\n",
       " 'IDARUBICIN': 'CC(=O)[C@]1(O)C=C2C(=O)c3c(c(O)c4ccccc4c3O)C(=O)C2[C@@H](O[C@H]2C[C@H](N)[C@H](O)[C@H](C)O2)C1',\n",
       " 'CHEMBL1509570': 'COc1ccc(S(=O)(=O)N(C)C2CCN(C)CC2)cc1',\n",
       " 'TRICARBALLYLIC ACID': 'O=C(O)CC(CC(=O)O)C(=O)O',\n",
       " 'CHEMBL1431634': 'O=C(Cc1ccccc1)NNC(=O)Nc1ccc(Cl)c(Cl)c1',\n",
       " 'CHEMBL1621217': 'Cc1ccc(-c2nnc(NCc3nc4ccccc4[nH]3)c3ccccc23)cc1S(=O)(=O)N1CCCCC1',\n",
       " 'NISBUTEROL': 'COc1ccc(C(=O)Oc2ccc(C(O)CNC(C)(C)C)cc2OC(C)=O)cc1',\n",
       " 'BQ-123 (DrugBank DB12054)': 'CC(C)C[C@@H]1NC(=O)[C@@H](C(C)C)NC(=O)[C@@H]2CCCN2C(=O)[C@@H](CC(=O)O)NC(=O)[C@@H](Cc2c[nH]c3ccccc23)NC1=O',\n",
       " 'GIREDESTRANT': 'C[C@@H]1Cc2c([nH]c3ccccc23)[C@@H](c2c(F)cc(NC3CN(CCCF)C3)cc2F)N1CC(F)(F)CO',\n",
       " 'MLS001012144': 'CCOc1ccc(NC(=S)NNC(=S)Nc2cccc(C(F)(F)F)c2)cc1',\n",
       " 'CHEMBL1483684': 'Cc1ccccc1C1CC(=O)Nc2ccc3ccccc3c21',\n",
       " 'MLS000552765': 'CCC(=O)N(C)/C=C1\\\\Sc2ccccc2C1=O',\n",
       " 'CHEMBL1493977': 'CCOC(=O)c1ccc(CNC(=O)Cn2nnc(-c3ccc(C)cc3)n2)o1',\n",
       " 'DNL-201': 'CNc1nc(Nc2cn(C(C)(C)C#N)nc2C)ncc1C(F)(F)F',\n",
       " 'CHEMBL3589010': 'C=c1c(=Cc2sc(=O)n(-c3ccccc3)c2O)cc(C)n1-c1cccnc1',\n",
       " 'BPH-608': 'O=P(O)(O)C(O)(Cc1cccc(-c2cccc(-c3ccccc3)c2)c1)P(=O)(O)O',\n",
       " 'ZANUBRUTINIB': 'C=CC(=O)N1CCC([C@@H]2CCNc3c(C(N)=O)c(-c4ccc(Oc5ccccc5)cc4)nn32)CC1',\n",
       " 'AZD-1152-HQPA': 'CCN(CCO)CCCOc1ccc2c(Nc3cc(CC(=O)Nc4cccc(F)c4)[nH]n3)ncnc2c1',\n",
       " 'BERBAMINE': 'COc1cc2c3cc1Oc1c(OC)c(OC)cc4c1[C@@H](Cc1ccc(O)c(c1)Oc1ccc(cc1)C[C@@H]3N(C)CC2)N(C)CC4',\n",
       " 'SIMPINICLINE': 'C(=C/[C@H]1CCNC1)\\\\c1cncnc1',\n",
       " '[1-(4-Ethoxy-phenyl)-2,5-dioxo-pyrrolidin-3-ylamino]-acetonitrile': 'CCOc1ccc(-n2c(O)cc(NCC#N)c2O)cc1',\n",
       " 'BAS 06901193': 'COC(=O)CSc1nc(C2CC2)cc(C(F)(F)F)c1C#N',\n",
       " 'CHEMBL4092510': 'Cc1cc(NC(=O)c2cc(-c3ccccc3)nc3ccccc23)no1',\n",
       " 'HYPOTHEMYCIN': 'COc1cc(O)c2c(c1)[C@H]1O[C@@H]1CC(=O)C(=O)C(O)CCC[C@H](C)OC2=O',\n",
       " 'LY-3381916': 'C[C@@H](NC(=O)c1ccc(F)cc1)c1ccc2c(c1)CCN2C(=O)C1CCOCC1',\n",
       " 'CHEMBL1515126': 'COc1cc(Cl)c(NC(=O)CN(C)S(=O)(=O)c2ccc3c(c2)CCCC(=O)N3)c(OC)c1',\n",
       " 'AC1OAYAW': 'CCOc1cc(/C=C2\\\\SC(=O)N=C2N)ccc1O',\n",
       " 'CHEMBL1376700': 'CC1(C)CC(NC(=S)NC2CC2)CC(C)(C)N1',\n",
       " 'DUBERMATINIB': 'CN1CCN(Cc2ccc(Nc3ncc(Cl)c(Nc4ccccc4S(=O)(=O)N(C)C)n3)cc2)CC1',\n",
       " '1-[6-(2-CHLORO-4-METHYXYPHENOXY)-HEXYL]-IMIDAZOLE': 'COc1ccc(OCCCCCCn2ccnc2)c(Cl)c1',\n",
       " 'SMR000149826': 'Cc1ccc(-n2c(-c3ccco3)nc3nc4ccccc4nc32)cc1',\n",
       " '2-AMINO-6-(3,5-DIMETHYLPHENYL)SULFONYLBENZONITRILE': 'Cc1cc(C)cc(S(=O)(=O)c2cccc(N)c2C#N)c1',\n",
       " '3-HYDROXYCOUMARIN': 'O=c1oc2ccccc2cc1O',\n",
       " 'CHEMBL1446026': 'COc1cc(-c2noc(CCCC(=O)NC3CCCCC3)n2)cc(OC)c1OC',\n",
       " 'ENTRECTINIB': 'CN1CCN(c2ccc(C(=O)Nc3[nH]nc4ccc(Cc5cc(F)cc(F)c5)cc34)c(NC3CCOCC3)c2)CC1',\n",
       " 'MLS000834655': 'O=C(NCc1ccccc1)c1nc[nH]c1C(=O)N[C@@H](Cc1ccccc1)C(=O)OCc1ccccc1',\n",
       " 'CHEMBL3550664': 'c1cc2nccc(CC3CCCN(Cc4c[nH]cn4)CC3)c2cn1',\n",
       " 'TRICLOBISONIUM': 'CC1CCCC(C)(C)C1CCC(C)[N+](C)(C)CCCCCC[N+](C)(C)C(C)CCC1C(C)CCCC1(C)C',\n",
       " 'AMZ30': 'N#C/C(=C\\\\c1cccn1S(=O)(=O)c1cccc([N+](=O)[O-])c1)S(=O)(=O)c1ccc(F)cc1',\n",
       " 'CHEMBL1562110': 'Cc1nc2sccn2c1-c1csc(NCc2ccccc2)n1',\n",
       " '6-METHYL-6H-INDOLO(2,3-B)QUINOXALINE': 'Cn1c2ccccc2c2nc3ccccc3nc21',\n",
       " 'DESFORMYLFLUSTRABROMINE': 'C=CC(C)(C)c1[nH]c2cc(Br)ccc2c1CCNC',\n",
       " 'CHEMBL4117515': 'CN1/C(=C/c2cc[n+](C)c3ccccc23)Sc2ccccc21',\n",
       " 'VECURONIUM': 'CC(=O)O[C@H]1C[C@@H]2CC[C@@H]3[C@H](CC[C@@]4(C)[C@H]3C[C@H]([N+]3(C)CCCCC3)[C@@H]4OC(C)=O)[C@@]2(C)C[C@@H]1N1CCCCC1',\n",
       " 'SARALASIN': 'CNCC(=O)N[C@@H](CCCN=C(N)N)C(=O)N[C@H](C(=O)N[C@@H](Cc1ccc(O)cc1)C(=O)N[C@H](C(=O)N[C@@H](Cc1c[nH]cn1)C(=O)N1CCC[C@H]1C(=O)N[C@@H](C)C(=O)O)C(C)C)C(C)C',\n",
       " 'VALPROIC ACID': 'CCCC(CCC)C(=O)O',\n",
       " 'EDELFOSINE': 'CCCCCCCCCCCCCCCCCCOCC(COP(=O)([O-])OCC[N+](C)(C)C)OC',\n",
       " 'COSTUNOLIDE': 'C=C1C(=O)O[C@@H]2/C=C(\\\\C)CC/C=C(\\\\C)CC[C@@H]12',\n",
       " 'CETHROMYCIN (ChEMBL CHEMBL133924)': 'CC[C@H]1OC(=O)[C@H](C)C(=O)[C@H](C)[C@@H](O[C@@H]2O[C@H](C)C[C@H](N(C)C)[C@H]2O)[C@](C)(OC/C=C/c2cnc3ccccc3c2)C[C@@H](C)C(=O)[C@H](C)[C@H]2NC(=O)O[C@@]21C',\n",
       " 'OXYFEDRINE': 'COc1cccc(C(=O)CCN[C@@H](C)[C@H](O)c2ccccc2)c1',\n",
       " 'CHEMBL1869343': 'O=C(NCC(=O)N(CC1CCCO1)C1(C(=O)NC2CCCC2)CCCCC1)c1ccccc1',\n",
       " 'HALOPERIDOL': 'O=C(CCCN1CCC(O)(c2ccc(Cl)cc2)CC1)c1ccc(F)cc1',\n",
       " 'MLS000072281': 'COc1cc(C(c2nnnn2C2CCCC2)N2CCc3ccccc3C2)ccc1O',\n",
       " 'N-[3-(Benzylamino)propyl]pyridine-2-carboxamide': 'O=C(NCCCNCc1ccccc1)c1ccccn1',\n",
       " 'CHEMBL1460371': 'CCn1cc(C(C)NC(=O)Nc2ccc3c(c2)OCO3)c(C)n1',\n",
       " 'AC1LQYPB': 'Cc1ccc(-c2c[n+](-c3ccc(OC(F)F)cc3)c3n2CCCCC3)cc1',\n",
       " 'TANDUTINIB': 'COc1cc2c(N3CCN(C(=O)Nc4ccc(OC(C)C)cc4)CC3)ncnc2cc1OCCCN1CCCCC1',\n",
       " 'CHEMBL3343660': 'c1cc2c(c3c1CC1c4cc5c(cc4CCN1C3)OCO5)OCO2',\n",
       " 'CHEMBL4554748': 'CC1CC(=O)CC2CCC3C4CCC(O)C4(C)CCC3C12C',\n",
       " '9-(1H-Indol-3-yl)acridine': 'c1ccc2c(-c3c[nH]c4ccccc34)c3ccccc3nc2c1',\n",
       " '(R)-N-(4-(4-Methyl-6-oxo-1,4,5,6-tetrahydropyridazin-3-yl)-2-nitrophenyl)acetamide': 'CC(=O)Nc1ccc(C2=NNC(=O)C[C@H]2C)cc1[N+](=O)[O-]',\n",
       " '1-(2-Chloro-phenyl)-3-(furan-2-carbonyl)-thiourea': 'O=C(NC(=S)Nc1ccccc1Cl)c1ccco1',\n",
       " 'MLS000535522': 'CCn1c(C)c(C(C)=O)c(N2CCN(c3ccc(F)cc3)CC2)nc1=S',\n",
       " 'AC1MMV4J': 'CC1=C/C(=C/N(C)c2ccccc2)C(=O)S1',\n",
       " 'Heptanoic acid (4-hydroxy-2-oxo-1,2-dihydro-quinolin-3-yl)-amide': 'CCCCCCC(=O)Nc1c(O)[nH]c2ccccc2c1=O',\n",
       " 'ABBV-744': 'CCNC(=O)c1cc2c(-c3cc(C(C)(C)O)ccc3Oc3c(C)cc(F)cc3C)cn(C)c(=O)c2[nH]1',\n",
       " 'CHEMDIV3_007370': 'CCN1CCN(C(c2cccnc2)c2ccc3cccnc3c2O)CC1',\n",
       " 'CHEMBL1429573': 'C#CC1(O)C=CC2C3CC=C4CC(=O)CCC4C3CCC21CC',\n",
       " 'CHEMBL1412714': 'Cc1ccc(NC(=O)C(=O)NCc2ccco2)c(C)c1',\n",
       " 'ISOKOBUSONE': 'C=C1CCC2C(CC2(C)C)C(=O)CCC1O',\n",
       " 'LX-7101': 'Cc1c[nH]c2ncnc(N3CCC(CN)(C(=O)Nc4cccc(OC(=O)N(C)C)c4)CC3)c12',\n",
       " 'CHEMBL1885850': 'O=C(N=C1NCCS1)c1ccccc1F',\n",
       " 'CHEMBL1537673': 'COc1cccc(C(C)NC(=O)c2c(F)cccc2Cl)c1',\n",
       " 'CHEMBL2064357': 'Cc1[nH]nc2c1C(c1cccc(O)c1)C(C#N)C(=N)O2',\n",
       " 'BENZO(B)THIOPHENE-4-ACETAMIDE, N-METHYL-N-((1S,2S)-2-(1-PYRROLIDINYL)CYCLOHEXYL)-': 'CN(C(=O)Cc1cccc2sccc12)[C@H]1CCCC[C@@H]1N1CCCC1',\n",
       " 'CHEMBL1329912': 'Cc1cc(NC(=O)CCSc2nc(-c3ccco3)cc(C(F)(F)F)n2)no1',\n",
       " 'CHEMBL1541060': 'O=C(O)c1cc(NCc2ccccc2C(F)(F)F)ccc1N1CCOCC1',\n",
       " 'MBX-2982': 'CCc1cnc(N2CCC(c3nc(COc4ccc(-n5cnnn5)cc4)cs3)CC2)nc1',\n",
       " '1-(4-Methyl-2-{[2-(4-methylphenoxy)ethyl]amino}-1,3-thiazol-5-yl)ethanone': 'CC(=O)c1sc(NCCOc2ccc(C)cc2)nc1C',\n",
       " 'CHEMBL1561211': 'COc1ccc(S(=O)(=O)N2CCC(=O)N2)cc1',\n",
       " 'CHEMBL1728625': 'CC(=O)c1cc(-c2ccccc2)n(CC(=O)NC(C)(C)C)c1C',\n",
       " 'AB00540134': 'O=C(NCc1ccccc1)c1cccc(-n2sc3ccccc3c2=O)c1',\n",
       " 'CHEMBL1576438': 'CCOCCn1c(-c2ccc(OC)cc2)nc2ccccc21',\n",
       " 'CHLOROPREDNISONE ACETATE': 'CC(=O)OCC(=O)[C@@]1(O)CC[C@H]2[C@@H]3C[C@H](Cl)C4=CC(=O)C=C[C@]4(C)[C@H]3C(=O)C[C@@]21C',\n",
       " 'ANAPRAZOLE': 'COCCCOc1cccc(C[S+]([O-])c2nc3cc4c(cc3[nH]2)CCO4)c1C',\n",
       " 'N-(1-Naphthyl)ethylenediamine': 'NCCNc1cccc2ccccc12',\n",
       " 'CHEMBL1426747': 'CN(C1CCCCC1)S(=O)(=O)Cc1ccccc1',\n",
       " 'AZD8529': 'Cc1cc(-c2nc(CN3CCNCC3)no2)cc2c1C(=O)N(Cc1ccc(OC(F)(F)F)cc1)C2',\n",
       " 'SPECTRUM2_000897': 'C[C@H]1OC(n2cc(F)c(=O)[nH]c2=O)C(O)[C@@H]1O',\n",
       " 'AZD9056': 'O=C(NCC12CC3CC(CC(C3)C1)C2)c1cc(CCCNCCCO)ccc1Cl',\n",
       " 'TERT-BUTYL FORMATE': 'CC(C)(C)OC=O',\n",
       " 'FEZOLINETANT': 'Cc1nsc(-c2nnc3n2CCN(C(=O)c2ccc(F)cc2)[C@@H]3C)n1',\n",
       " 'OPIPRAMOL': 'OCCN1CCN(CCCN2c3ccccc3C=Cc3ccccc32)CC1',\n",
       " 'CHEMBL1906948': 'CSC1=Nc2sc3c(c2C2=NCCN12)CC(C)(C)OC3',\n",
       " 'NICOTINE': 'CN1CCC[C@H]1c1cccnc1',\n",
       " 'CHEMBL430682': 'N#Cc1ccc(Cl)c(N)c1',\n",
       " 'LUMEFANTRINE (ChEMBL CHEMBL38827)': 'CCCCN(CCCC)CC(O)c1cc(Cl)cc2c1-c1ccc(Cl)cc1/C2=C/c1ccc(Cl)cc1',\n",
       " 'GEMOPATRILAT': 'CC1(C)CCC[C@H](NC(=O)[C@@H](S)Cc2ccccc2)C(=O)N1CC(=O)O',\n",
       " 'CHEMBL4543720': 'O=c1cc(Nc2ccc(F)cc2)c2ccccc2o1',\n",
       " 'CHEMBL1473167': 'O=C(c1ccc2c(c1)CCN2S(=O)(=O)c1ccc(Cl)cc1)N1CCN(c2ccc(F)cc2)CC1',\n",
       " 'CHEMBL1457676': 'O=C(O)c1ccc2c(c1)C1C=CCC1C(c1ccncc1)N2',\n",
       " 'TIPEPIDINE': 'CN1CCCC(=C(c2cccs2)c2cccs2)C1',\n",
       " 'MLS000533520': 'O=C(Nc1ccc2oc(-c3cccnc3)nc2c1)c1ccc(Br)o1',\n",
       " 'MLS000552808': 'Cc1ccn(C(=O)c2cc3c(C)nn(-c4ccccc4)c3s2)n1',\n",
       " 'PHENYL AMINOSALICYLATE': 'Nc1ccc(C(=O)Oc2ccccc2)c(O)c1',\n",
       " 'ASN 07185383': 'CCc1nnc(NC(=O)CSc2ccc(-c3nc4ccccc4[nH]3)cn2)s1',\n",
       " 'CHEMBL1351376': 'O=C(CCN1C(=O)c2ccccc2C1=O)N1CCN(c2ccccn2)CC1',\n",
       " 'SMR000044224': 'COc1cccc(OCc2nc3c4cnn(-c5ccccc5)c4ncn3n2)c1',\n",
       " 'N-Benzyl-2,3,4,5,6-pentafluorobenzamide': 'O=C(NCc1ccccc1)c1c(F)c(F)c(F)c(F)c1F',\n",
       " 'MLS000049235': 'O=C(Nc1nnc(COc2ccc(Cl)cc2)s1)c1cccs1',\n",
       " 'CHEMBL4518510': 'CCn1nc(C)cc1-c1nnc(SCc2ccccc2)n1-c1cccc(C(F)(F)F)c1',\n",
       " 'CHEMBL1595804': 'O=C(Nc1ccc(Cl)cc1)C1=Cc2ccccc2OC1',\n",
       " 'CHEMBL4290512': 'COc1cc(C(=O)Nc2ccnn2C2CCCC2)cc(OC)c1OC',\n",
       " 'CHEMBL1595878': 'CCOc1ccc2[nH]c(C)c(CN3CCN(C)CC3)c(=O)c2c1',\n",
       " 'Ro 70-0004': 'Cc1c[nH]c(=O)n(CCCN2CCN(c3ccc(F)cc3OCC(F)(F)F)CC2)c1=O',\n",
       " 'AZD-8835': 'CCn1nc(C2CCN(C(=O)CCO)CC2)nc1-c1cnc(N)c(-c2nnc(C(C)(C)C)o2)n1',\n",
       " 'CHEMBL281476': 'Nc1ncnc2c1ncn2C(C=O)OC(C=O)CO',\n",
       " 'THONZONIUM': 'CCCCCCCCCCCCCCCC[N+](C)(C)CCN(Cc1ccc(OC)cc1)c1ncccn1',\n",
       " 'DASOTRALINE': 'N[C@@H]1CC[C@@H](c2ccc(Cl)c(Cl)c2)c2ccccc21',\n",
       " 'CHEMBL1618778': 'O=C(CN=C1CCCN1)c1ccc(Cl)cc1',\n",
       " 'AZD2461': 'COC1CCN(C(=O)c2cc(Cc3n[nH]c(=O)c4ccccc34)ccc2F)CC1',\n",
       " 'CHEMBL1331654': 'COc1ccc(CNC(=O)c2cnc3n(c2=O)CCS3)cc1',\n",
       " 'CHEMBL1209363': 'CCN(CC)C(CNS(=O)(=O)c1ccc(Cl)cc1)c1ccccc1',\n",
       " 'CHEMBL1319886': 'COc1ccc(Cl)cc1NC(=O)N(C)Cc1c(C)nn(C)c1C',\n",
       " 'CHEMBL1873967': 'Cc1cc(=O)nc2c3ccccc3n(CC(=O)NCCCN3CCCC3=O)n12',\n",
       " 'MLS002276483': 'O=C(O)CN1C(=O)N=C(Cc2cccn2-c2ccc(P(=O)(O)O)cc2)C1=O',\n",
       " 'CHEMBL1724516': 'O=C(C1CC1)N1CCN(c2ccc([N+](=O)[O-])cc2)CC1',\n",
       " 'TAZAROTENIC ACID': 'CC1(C)CCSc2ccc(C#Cc3ccc(C(=O)O)cn3)cc21',\n",
       " 'FLESINOXAN': 'O=C(NCCN1CCN(c2cccc3c2OC[C@H](CO)O3)CC1)c1ccc(F)cc1',\n",
       " 'CHEMBL1426398': 'CCOCc1nnc(NC(=O)c2c(OC)cccc2OC)s1',\n",
       " 'TINOSTAMUSTINE': 'Cn1c(CCCCCCC(O)=NO)nc2cc(N(CCCl)CCCl)ccc21',\n",
       " 'CHEMBL1887751': 'CC(=O)Nc1sc2c(c1-c1nc3ccccc3s1)CCOC2',\n",
       " 'ADOPRAZINE': 'Fc1ccc(-c2cncc(CN3CCN(c4cccc5c4OCCO5)CC3)c2)cc1',\n",
       " 'TOLOCONIUM': 'CCCCCCCCCCCC(c1ccc(C)cc1)[N+](C)(C)C',\n",
       " '(5S,8R,9S,10S,13R,14S,17S)-13-{2-[(3,5-DIFLUOROBENZYL)OXY]ETHYL}-17-HYDROXY-10-METHYLHEXADECAHYDRO-3H-CYCLOPENTA[A]PHENANTHREN-3-ONE': 'C[C@]12CCC(=O)C[C@@H]1CC[C@@H]1[C@@H]2CC[C@]2(CCOCc3cc(F)cc(F)c3)[C@@H](O)CC[C@@H]12',\n",
       " 'PROTERGURIDE': 'CCCN1C[C@@H](NC(=O)N(CC)CC)C[C@@H]2c3cccc4[nH]cc(c34)C[C@H]21',\n",
       " '(3R)-3-(FLUOROMETHYL)-7-(THIOMORPHOLIN-4-YLSULFONYL)-1,2,3,4-TETRAHYDROISOQUINOLINE': 'O=S(=O)(c1ccc2c(c1)CN[C@@H](CF)C2)N1CCSCC1',\n",
       " '4-HYDROXYPHENYLPYRUVIC ACID': 'O=C(O)C(=O)Cc1ccc(O)cc1',\n",
       " 'MLS003129137': 'C[C@H]1CN([C@@H](C)CO)C(=O)CCCn2nncc2CO[C@H]1CN(C)C(=O)c1ccc2ccn(C)c2c1',\n",
       " 'CAMICINAL': 'C[C@H]1CN(Cc2ccc(CC(=O)N3CCC(Nc4cccc(F)c4)CC3)cc2)CCN1',\n",
       " 'CHEMBL2141747': 'Cc1ccc(Nc2n[nH]c(=S)s2)c(C)c1',\n",
       " 'METHYLERGONOVINE': 'CC[C@@H](CO)NC(=O)C1=CC2c3cccc4[nH]cc(c34)C[C@H]2N(C)C1',\n",
       " 'ANTIAROL': 'COc1cc(O)cc(OC)c1OC',\n",
       " 'METRIFUDIL': 'Cc1ccccc1CNc1ncnc2c1ncn2[C@@H]1O[C@H](CO)[C@@H](O)[C@H]1O',\n",
       " 'DOLASETRON (ChEMBL CHEMBL2368925)': 'O=C(O[C@@H]1C[C@@H]2C[C@H]3C[C@H](C1)N2CC3=O)c1c[nH]c2ccccc12',\n",
       " 'BEFURALINE': 'O=C(c1cc2ccccc2o1)N1CCN(Cc2ccccc2)CC1',\n",
       " '2-(3-Acetyl-indol-1-yl)-n-(2,4-dimethyl-phenyl)-acetamide': 'CC(=O)c1cn(CC(=O)Nc2ccc(C)cc2C)c2ccccc12',\n",
       " 'PYRVINIUM (ChEMBL CHEMBL1201303)': 'Cc1cc(/C=C/c2ccc3cc(N(C)C)ccc3[n+]2C)c(C)n1-c1ccccc1',\n",
       " 'CHEMBL3186319': 'Cc1ccccc1-c1ccc([C@H]2[C@@H](CO)N3CCCCN(S(=O)(=O)Cc4ccccc4)C[C@@H]23)cc1',\n",
       " 'BRD-K41908462': 'COc1ccc2c3c([nH]c2c1)[C@@H](CO)N(Cc1cc(F)ccc1F)CC31CCN(C(=O)C2CCC2)CC1',\n",
       " 'KB 130015': 'Cc1oc2ccccc2c1Cc1cc(I)c(OCC(=O)O)c(I)c1',\n",
       " 'HU-210': 'CCCCCCC(C)(C)c1cc(O)c2c(c1)OC(C)(C)[C@@H]1CC=C(CO)C[C@@H]21',\n",
       " 'ASN 05346196': 'CC1CCN(C(c2ccccc2)c2nnnn2C(C)(C)C)CC1',\n",
       " 'ROMIFENONE': 'O=C(CCN1CCOCC1)c1ccccc1O',\n",
       " 'MLS000094380': 'O=c1cc(N2CCN(c3cccc(Cl)c3)CC2)[nH]c(=O)n1C1CCCCC1',\n",
       " '2-[(2-Carbamoylsulfanylacetyl)amino]benzoic acid': 'NC(=O)SCC(=O)Nc1ccccc1C(=O)O',\n",
       " 'CHEMBL300226': 'COC(=O)C1C2CC[C@H](C[C@@H]1c1ccc(I)cc1)N2C',\n",
       " 'ATULIFLAPON': 'Cc1cc(-c2ccc(C(=O)[C@@H]3CCCC[C@H]3C(=O)Nc3cnn4c3C(=O)NCC4)cc2)[nH]n1',\n",
       " 'ASPACYTARABINE': 'N[C@@H](CC(=O)Nc1ccn([C@@H]2O[C@H](CO)[C@@H](O)[C@@H]2O)c(=O)n1)C(=O)O',\n",
       " 'CHEMBL1503392': 'CCOC(=O)c1cnc2ccc(C)cc2c1Nc1ccc(N2CCOCC2)cc1',\n",
       " 'NEVADENSIN': 'COc1ccc(-c2cc(=O)c3c(O)c(OC)c(O)c(OC)c3o2)cc1',\n",
       " 'MLS000090818': 'Oc1ccc(-c2nc3ncccn3c2Nc2ccc3c(c2)OCCO3)cc1',\n",
       " 'CHEMBL1623739': 'C=CCN1CCN(CCOC(=O)C(O)(c2ccccc2)c2ccccc2)CC1',\n",
       " 'CHEMBL1412556': 'O=C(NCCCN1CCN(Cc2ccccc2)CC1)C1CCN(c2nnc(-n3cccc3)s2)CC1',\n",
       " 'MLS000077465': 'OCCOCCNc1ncnc2c1cnn2-c1ccc(Cl)cc1',\n",
       " 'METHYLGLYOXAL': 'CC(=O)C=O',\n",
       " 'MLS003650000': 'COc1ccc(S(=O)(=O)N[C@@H]2C=C[C@@H](CC(=O)N3CCc4ccccc4C3)O[C@@H]2CO)cc1',\n",
       " 'T5263329': 'O=C(OCCCCN1C(=O)c2ccccc2C1=O)c1[nH]nc2ccccc12',\n",
       " 'SMR000145471': 'O=C1C(=NS(=O)(=O)c2cccs2)C(N2CCN(c3cccc(Cl)c3)CC2)C(=O)c2ccccc21',\n",
       " 'CITRIC ACID': 'O=C(O)CC(O)(CC(=O)O)C(=O)O',\n",
       " 'ESREBOXETINE': 'CCOc1ccccc1O[C@@H](c1ccccc1)[C@@H]1CNCCO1',\n",
       " 'CLORETHATE': 'O=C(OCC(Cl)(Cl)Cl)OCC(Cl)(Cl)Cl',\n",
       " 'DAPABUTAN': 'CCCCCCCCCCCCNCCCNC(C)CC(=O)O',\n",
       " 'DIMABEFYLLINE': 'CN(C)c1ccc(Cn2cnc3c2c(=O)n(C)c(=O)n3C)cc1',\n",
       " 'Butyrfentanyl': 'CCCC(=O)N(c1ccccc1)C1CCN(CCc2ccccc2)CC1',\n",
       " 'CEFAMANDOLE': 'Cn1nnnc1SCC1=C(C(=O)O)N2C(=O)[C@@H](NC(=O)[C@H](O)c3ccccc3)[C@H]2SC1',\n",
       " 'CHEMBL1550331': 'O=C1CCCc2c1nc(-c1ccccc1)n2O',\n",
       " 'ENCAINIDE': 'COc1ccc(C(=O)Nc2ccccc2CCC2CCCCN2C)cc1',\n",
       " 'CTK8H3236': 'CN(Cc1ccccc1)C(=O)C(Cc1ccc2ccccc2c1)NC(=O)C1CCCN1C(=O)Nc1ccccc1[N+](=O)[O-]',\n",
       " '4-(3,4-Dichlorophenyl)-5-(4-pyridinyl)-2-thiazolamine': 'Nc1nc(-c2ccc(Cl)c(Cl)c2)c(-c2ccncc2)s1',\n",
       " 'CHEMBL1568203': 'c1ncn(CCOc2ccc3c(c2)CCC3)n1',\n",
       " '(S)-NITRENDIPINE': 'CCOC(=O)C1=C(C)N=C(C)C(C(=O)OC)[C@@H]1c1cccc([N+](=O)[O-])c1',\n",
       " 'CEFORANIDE': 'NCc1ccccc1CC(=O)N[C@@H]1C(=O)N2C(C(=O)O)=C(CSc3nnnn3CC(=O)O)CS[C@H]12',\n",
       " 'ECLITASERTIB': 'CN1C(=O)[C@@H](NC(=O)c2n[nH]c(Cc3ccccc3)n2)COc2cccnc21',\n",
       " 'CHEMBL4226393': 'CC(=O)Nc1ccccc1-c1cccc2c1[nH]c1ccccc12',\n",
       " 'CHEMBL1399137': 'CN1CCN(c2ccc([N+](=O)[O-])c(Sc3ccccn3)c2)CC1',\n",
       " 'CHEMBL2131926': 'COc1cccc(-c2ccc3c(c2)O[C@H](CN(C)C(=O)C2CCOCC2)[C@H](C)CN([C@H](C)CO)S3(=O)=O)c1',\n",
       " 'NIRAPARIB': 'NC(=O)c1cccc2cn(-c3ccc([C@@H]4CCCNC4)cc3)nc12',\n",
       " 'METHYL AMINOLEVULINATE': 'COC(=O)CCC(=O)CN',\n",
       " 'CHEMBL4646585': 'O=C(NCc1ccc2c(c1)OCO2)c1cnn(-c2ccccc2)c1-n1cccc1',\n",
       " 'AVANBULIN': 'N#CCCNc1nonc1-c1nc2ccccc2n1CC(=O)c1ccc(N)cc1',\n",
       " 'ST50130413': 'O=C1N=C(Nc2ccccc2)/C(=C/c2ccco2)S1',\n",
       " 'SMR000219163': 'CCCCCCN1C(=O)/C(=C/c2c[nH]nc2-c2ccccc2)SC1=S',\n",
       " 'CHEMBL1383094': 'COc1cc(OC)cc(C(=O)Nc2nc3ccc(S(C)(=O)=O)cc3s2)c1',\n",
       " 'T0511-3349': 'O=C(CSc1cccc[n+]1[O-])C12CC3CC(CC(C3)C1)C2',\n",
       " 'CHEMBL1305213': 'COc1cc(NC(=S)Nc2ccc3c(c2)OCCO3)cc(OC)c1OC',\n",
       " 'CHEMBL1395069': 'Cc1nc2c(-c3ccc(F)cc3)c(C)nn2c(C)c1CCC(=O)NCc1cccc(Cl)c1',\n",
       " 'CHEMBL1382954': 'COc1ccc(Br)cc1CCC(=O)N=CC(=O)O',\n",
       " 'CHEMBL4794578': 'CCOc1nc(Nc2ccc(C(=O)N3CCOCC3)cc2OC)nc2[nH]ccc12',\n",
       " 'CHEMBL5000440': 'O=C(c1nnc(Cc2c(F)cccc2Cl)o1)N1CCCC1',\n",
       " 'CHEMBL1323447': 'COc1ccc(N2CCN(C(CNC(=O)C3CCCCC3)c3ccco3)CC2)cc1',\n",
       " 'CHEMBL3356579': 'CC1(C)CNC(=O)c2sc(N)nc2C1',\n",
       " 'CHEMBL1600173': 'CCOC(=O)c1c(NC(=O)c2cccs2)sc2c1CCN(C(=O)OCC)C2',\n",
       " 'CHEMBL1371261': 'COc1ccccc1C(=O)NCCCN1CCCC1=O',\n",
       " 'CHEMBL393883': 'O=C(Nc1ccc(OCC(=O)N2CCOCC2)cc1)c1ccccc1Cl',\n",
       " 'BRD-K49441594': 'CC(C)(C)[S@@+]([O-])N1Cc2cc(C(=O)NCCN3CCCC3)nc(-c3cccc(-c4ccc(C#N)cc4)c3)c2[C@H]1CCO',\n",
       " 'SMR000136000': 'COc1cc(C(c2c(C)[nH][nH]c2=O)c2c(C)[nH][nH]c2=O)ccc1OS(=O)(=O)c1ccccc1',\n",
       " 'ST50677328': 'O=C(NCCN1CCOCC1)c1cc(-c2cccc(O)c2)on1',\n",
       " 'CHEMBL3739747': 'O=c1oc2cc(O)ccc2cc1-c1ccc(Cl)cc1',\n",
       " 'CINTIRORGON': 'CC(C)(C[C@H]1CN(S(=O)(=O)c2cccc(C(F)(F)F)c2)c2cc(-c3cc(F)cc(OC(F)F)c3)ccc2O1)C(=O)O',\n",
       " 'RIZATRIPTAN': 'CN(C)CCc1c[nH]c2ccc(Cn3cncn3)cc12',\n",
       " 'N-[2-Chloro-5-(trifluoromethyl)phenyl]imidodicarbonimidic diamide': 'N=C(N)N=C(N)Nc1cc(C(F)(F)F)ccc1Cl',\n",
       " 'N-[[2-METHYL-4-HYDROXYCARBAMOYL]BUT-4-YL-N]-BENZYL-P-[PHENYL]-P-[METHYL]PHOSPHINAMID': 'CC(C)C[C@H](C(O)=NO)N(Cc1ccccc1)[P@](C)(=O)c1ccccc1',\n",
       " '4-Methyl-N-[5-(5-methyl-furan-2-ylmethylene)-4-oxo-thiazolidin-2-ylidene]-benzenesulfonamide': 'Cc1ccc(S(=O)(=O)N=C2NC(=O)/C(=C/c3ccc(C)o3)S2)cc1',\n",
       " 'methyl 4-bromo-N-[8-(hydroxyamino)-8-oxooctanoyl]-L-phenylalaninate': 'COC(=O)[C@H](Cc1ccc(Br)cc1)NC(=O)CCCCCCC(O)=NO',\n",
       " 'BUTAFOSFAN': 'CCCCNC(C)(C)[PH](=O)O',\n",
       " 'NSC643180': 'COc1cc(/C=C/C(=O)c2ccccc2)cc(OC)c1OC',\n",
       " 'EFAPROXIRAL': 'Cc1cc(C)cc(NC(=O)Cc2ccc(OC(C)(C)C(=O)O)cc2)c1',\n",
       " 'RG-7602': 'CCN1CCC(Oc2c(C#N)ncc3[nH]c4ncccc4c23)CC1',\n",
       " 'CODEINE': 'COc1ccc2c3c1O[C@H]1[C@@H](O)C=C[C@H]4[C@@H](C2)N(C)CC[C@@]341',\n",
       " 'K201 free base': 'COc1ccc2c(c1)CN(C(=O)CCN1CCC(Cc3ccccc3)CC1)CCS2',\n",
       " 'PROPETANDROL': 'CCC(=O)O[C@@H]1C=C2CC[C@@H]3[C@H](CC[C@@]4(C)[C@H]3CC[C@@]4(O)CC)[C@H]2CC1',\n",
       " 'CHEMBL1450380': 'Cc1ccc(CNc2oc(-c3cccs3)nc2C#N)cc1',\n",
       " 'MLS000689999': 'Cc1cccc(NC(=O)CN2C(=O)S/C(=C\\\\c3ccc(O)c([N+](=O)[O-])c3)C2=O)c1',\n",
       " 'CHEMBL1475461': 'CC1CCCC(NC(=O)COC(=O)c2cccs2)C1C',\n",
       " 'DIFUCOL HEXAMETHYL ETHER': 'COc1cc(OC)c(-c2c(OC)cc(OC)cc2OC)c(OC)c1',\n",
       " 'DIBUCAINE': 'CCCCOc1cc(C(=O)NCCN(CC)CC)c2ccccc2n1',\n",
       " 'BRIMONIDINE': 'Brc1c(NC2=NCCN2)ccc2nccnc12',\n",
       " 'GEMILUKAST': 'Cc1c(F)cccc1CCCCOc1ccc(C#Cc2ccc(F)c3c(CCCC(=O)O)c(C)n(CCCC(=O)O)c23)cc1',\n",
       " 'ERYTHROMYCIN PROPIONATE': 'CCC(=O)O[C@H]1[C@H](O[C@@H]2[C@@H](C)[C@H](O[C@H]3C[C@@](C)(OC)[C@@H](O)[C@H](C)O3)[C@@H](C)C(=O)O[C@H](CC)[C@@](C)(O)[C@H](O)[C@@H](C)C(=O)[C@H](C)C[C@@]2(C)O)O[C@H](C)C[C@@H]1N(C)C',\n",
       " 'CHEMBL1587196': 'COc1ccc(OC)c(S(=O)(=O)Nc2ccc(CC(=O)O)cc2)c1',\n",
       " '(4-BROMOPHENYL)[4-({(2E)-4-[CYCLOPROPYL(METHYL)AMINO]BUT-2-ENYL}OXY)PHENYL]METHANONE': 'CN(C/C=C/COc1ccc(C(=O)c2ccc(Br)cc2)cc1)C1CC1',\n",
       " 'AZD-1390': 'CC(C)n1c(=O)n(C)c2cnc3cc(F)c(-c4ccc(OCCCN5CCCCC5)nc4)cc3c21',\n",
       " 'SUMATRIPTAN': 'CNS(=O)(=O)Cc1ccc2[nH]cc(CCN(C)C)c2c1',\n",
       " 'Malate Like Intermediate': 'O=C(O)C[C@@H](O)C(=O)O',\n",
       " '28045-90-1': 'COc1ccc2c(C)c(Cl)c(=O)oc2c1',\n",
       " 'CHEMBL1587944': 'Cc1[nH]nc(SCC(=O)N2CCC(C)CC2)c1[N+](=O)[O-]',\n",
       " 'BAS 07856893': 'CCOc1ccc2nc(NC(=O)COC)sc2c1',\n",
       " 'FLUDEOXYGLUCOSE (ChEMBL CHEMBL1086863)': 'OC[C@H]1O[C@H](O)[C@H](F)[C@@H](O)[C@@H]1O',\n",
       " '1-Amino-4-benzamidoanthraquinone': 'Nc1ccc(NC(=O)c2ccccc2)c2c1C(=O)c1ccccc1C2=O',\n",
       " 'CHEMBL1484824': 'c1ccc(-c2nc(NC3CC3)nc(-n3ccnc3)n2)cc1',\n",
       " 'MLS001033418': 'Fc1cccc(Nc2ncnc3[nH]ncc23)c1',\n",
       " 'CHEMBL1301914': 'CCCOc1ccc(CSc2nc[nH]n2)cc1',\n",
       " 'DEFERASIROX': 'O=C(O)c1ccc(-n2nc(-c3ccccc3O)nc2-c2ccccc2O)cc1',\n",
       " 'SDI-118': 'O=C1C[C@H](c2cc(F)c(F)c(F)c2)CN1Cn1ncnc1Cl',\n",
       " 'BRYOSTATIN 1': 'CCC/C=C/C=C/C(=O)O[C@H]1/C(=C/C(=O)OC)C[C@H]2C[C@H]([C@@H](C)O)OC(=O)C[C@H](O)C[C@@H]3C[C@H](OC(C)=O)C(C)(C)[C@](O)(C[C@@H]4C/C(=C/C(=O)OC)C[C@H](/C=C/C(C)(C)[C@]1(O)O2)O4)O3',\n",
       " '4-((4-Ethylpiperazin-1-yl)methyl)-5,7-dimethyl-2H-chromen-2-one': 'CCN1CCN(Cc2cc(=O)oc3cc(C)cc(C)c23)CC1',\n",
       " 'CHEMBL1327014': 'CCOC(=O)N1CCN(c2cc(=O)n(C3CCCCC3)c(=O)[nH]2)CC1',\n",
       " 'AMINOBENZOIC ACID': 'Nc1ccc(C(=O)O)cc1',\n",
       " 'CHEMBL1446566': 'CCOC(=O)N1CCC(NC(=O)c2cc(C(=O)Nc3ccc(OCC)cc3)ccc2CO)CC1',\n",
       " 'CHEMBL1348749': 'COc1cccc(-c2csc3[nH]cnc(=O)c23)c1',\n",
       " 'SEMBRAGILINE': 'CC(=O)N[C@H]1CC(=O)N(c2ccc(OCc3cccc(F)c3)cc2)C1',\n",
       " 'CHEMBL4641247': 'Cc1noc(C)c1CSc1nc2ccccc2n1-c1ccccc1',\n",
       " 'CHEMBL4515934': 'O=C(OC1(C(F)(F)F)C(=O)Nc2c1ccc1ccccc21)c1cccs1',\n",
       " 'TRILACICLIB': 'CN1CCN(c2ccc(Nc3ncc4cc5n(c4n3)C3(CCCCC3)CNC5=O)nc2)CC1',\n",
       " 'ST50261602': 'CCN(CC)Cc1c(O)ccc2c(-c3ccccc3)cc(=O)oc12',\n",
       " 'CHEMBL1382720': 'CN(CCNC(=O)CCCOc1cc(=O)n(C)c2ccccc12)Cc1ccccc1',\n",
       " 'CHEMBL1316700': 'CN(C)c1ccc(CNC(=O)c2cc3ccccn3n2)cc1',\n",
       " 'Lutetium Lu-177': '[177Lu]',\n",
       " 'DM161': 'COc1ccc(COC[C@H](C)N2C[C@@H](C)[C@H](CN(C)S(=O)(=O)c3ccc(F)cc3)OCCCC[C@H](C)Oc3ccc(NC(=O)Nc4ccccc4)cc3C2=O)cc1',\n",
       " 'RUBIDIUM RB-82 (ChEMBL CHEMBL4297424)': '[82Rb]',\n",
       " 'ZINC00800729': 'Cc1ccc2nc(NC(=O)c3ccc(Cn4cc(Cl)cn4)o3)sc2c1',\n",
       " 'YTTRIUM Y-90': '[90Y]',\n",
       " 'CHEMBL1368936': 'CCOc1ccc2c(c1)C(C)=CC(C)(C)N2C(=O)Nc1ccccc1',\n",
       " 'FOSDAGROCORAT': 'Cc1ncccc1NC(=O)c1ccc2c(c1)CC[C@@H]1C[C@@](OP(=O)(O)O)(C(F)(F)F)CC[C@@]21Cc1ccccc1',\n",
       " 'CHEMBL4984341': 'CC(CCc1ccccc1)NC(=O)NC1CC(=O)N(c2cccc(F)c2)C1',\n",
       " 'CHEMBL1381806': 'Cc1cccc(NC(=O)C(C)N2CC=C(c3ccccc3)CC2)c1',\n",
       " 'CHEMBL3911017': 'Cc1cc(C)c(CN2CCc3c(Cl)cc(-c4c(C)noc4C)c(Cl)c3C2=O)c(=O)[nH]1',\n",
       " 'CHEMBL1498863': 'CC(=O)Oc1ccc(C(=O)Nc2ccc(S(=O)(=O)N3CCOCC3)cc2)cc1',\n",
       " 'VOGLIBOSE (ChEMBL CHEMBL476960)': 'OCC(CO)N[C@H]1C[C@](O)(CO)[C@@H](O)[C@H](O)[C@H]1O',\n",
       " 'CHEMBL1336959': 'Cc1ccc(-n2sc3ccccc3c2=O)cc1',\n",
       " 'ZIMELDINE': 'CN(C)C/C=C(/c1ccc(Br)cc1)c1cccnc1',\n",
       " 'CHEMBL1345956': 'CCn1c(C)c(C)c2cc(C(=O)NCCc3ccco3)ccc21',\n",
       " 'ESTETROL': 'C[C@]12CC[C@@H]3c4ccc(O)cc4CC[C@H]3[C@@H]1[C@@H](O)[C@@H](O)[C@@H]2O',\n",
       " 'SCH-442416 C-11': '[11CH3]Oc1ccc(CCCn2ncc3c2nc(N)n2nc(-c4ccco4)nc32)cc1',\n",
       " 'CLONIDINE': 'Clc1cccc(Cl)c1NC1=NCCN1',\n",
       " 'TAFLUPROST ACID': 'O=C(O)CCC/C=C\\\\C[C@@H]1[C@@H](/C=C/C(F)(F)COc2ccccc2)[C@H](O)C[C@@H]1O',\n",
       " 'PEFICITINIB': 'NC(=O)c1cnc2[nH]ccc2c1N[C@@H]1[C@@H]2CC3C[C@H]1C[C@@](O)(C3)C2',\n",
       " 'ESOXYBUTYNIN': 'CCN(CC)CC#CCOC(=O)[C@@](O)(c1ccccc1)C1CCCCC1',\n",
       " 'ST071009': 'CCCn1c(CCC(=O)O)ccc1-c1ccc(OC)cc1',\n",
       " 'MLS000325774': 'COc1cnc(-c2ccccn2)nc1Sc1c(Cl)cccc1Cl',\n",
       " 'CHEMBL1489191': 'COc1cccc(NC(=O)C2CC2(c2cccc(OC)c2)c2cccc(OC)c2)c1',\n",
       " 'CHEMBL1517784': 'COc1ccc(NC(=O)Nc2cn(CC(C)C)c(=O)c3ccccc23)c(OC)c1',\n",
       " 'ZINC02448184': 'Cc1onc(-c2ccccc2)c1C(=O)N=NC(=S)NC(=O)CCc1cccs1',\n",
       " 'Sinbaglustat': 'CCCCCN1C[C@H](O)[C@@H](O)[C@H](O)[C@@H]1CO',\n",
       " 'SMR000096478': 'CCOC(=O)N1CCN(C(=O)C2CCCN(c3nc4ccc(OCC)cc4s3)C2)CC1',\n",
       " '(+)-EHNA': 'CCCCCC[C@H]([C@H](C)O)n1cnc2c(N)ncnc21',\n",
       " 'VAMIFEPORT': 'O=C(NCc1ncccc1F)c1coc(CCNCCc2nc3ccccc3[nH]2)n1',\n",
       " 'CEFOTIAM': 'CN(C)CCn1nnnc1SCC1=C(C(=O)O)N2C(=O)[C@@H](NC(=O)Cc3csc(N)n3)[C@H]2SC1',\n",
       " 'CHEMBL1503223': 'Cc1oc(-c2ccc3c(c2)OCCO3)cc1C(=O)NCC(=O)O',\n",
       " 'CHEMBL1510623': 'COc1ccc(-c2cc(C(F)(F)F)c(C#N)c(SCC(=O)Nc3ccccc3C#N)n2)cc1',\n",
       " '80809-38-7': 'Nn1c(-c2ccco2)n[nH]c1=S',\n",
       " 'MLS001124247': 'COc1ccc(S(=O)(=O)N2CCN(C(=O)c3cc(-c4ccc(Br)cc4)[nH]n3)CC2)cc1OC',\n",
       " '1-[(2,6-difluorophenyl)sulfonyl]-4-(2,3-dihydro-1,4-benzodioxin-6-ylsulfonyl)piperazine': 'O=S(=O)(c1ccc2c(c1)OCCO2)N1CCN(S(=O)(=O)c2c(F)cccc2F)CC1',\n",
       " 'AC1OB46V': 'O=C(N=Nc1c(O)n(C2OC(=O)c3ccccc32)c2ccccc12)c1ccc(O)cc1',\n",
       " 'CHEMBL1573282': 'CCOc1ccc(CN2CCN(Cc3cnn(CC)c3C)CC2CCO)cc1',\n",
       " 'ST51020440': 'O=C(Nc1ccc(S(=O)(=O)N2CCCCC2)cc1)c1ccc(CN2CCc3ccccc3C2)cc1',\n",
       " '1-BENZYL-4-[(5,6-DIMETHOXY-1-INDANON-2-YL)METHYL]PIPERIDINE': 'COc1cc2c(cc1OC)C(=O)[C@H](CC1CCN(Cc3ccccc3)CC1)C2',\n",
       " 'CHEMBL3763563': 'COc1ccc(NC(=O)c2c(C)nc3sccn23)cc1',\n",
       " 'CHEMBL1573664': 'Cc1cc2ccccc2c(=O)n1CC(=O)NCC(=O)N(C)Cc1ccccc1',\n",
       " 'T0516-0994': 'CC(=O)n1cc(O)nc1SCC(=O)Nc1nc(-c2ccccc2)c(-c2ccccc2)s1',\n",
       " 'ST50185515': 'Cc1ccc(OCC(=O)NNC(=O)c2cc3ccccc3o2)cc1',\n",
       " 'CHEMBL1457564': 'O=C(NCCN1CCN(C(=O)C(c2ccccc2)c2ccccc2)CC1)C(=O)Nc1ccccc1',\n",
       " 'N-Cyclohexyl-2-(3-fluoro-N-(2-pyridin-4-ylacetyl)anilino)-2-(2-methylphenyl)acetamide': 'Cc1ccccc1C(C(=O)NC1CCCCC1)N(C(=O)Cc1ccncc1)c1cccc(F)c1',\n",
       " 'MLS000094684': 'CCCCCNC(=O)c1ccc2c(=O)n(CC3CCCO3)c(=O)[nH]c2c1',\n",
       " \"7,4'-dihydroxyflavone\": 'O=c1cc(-c2ccc(O)cc2)oc2cc(O)ccc12',\n",
       " 'CHEMBL4446892': 'Cc1nn(CC(F)(F)F)cc1Nc1ncc(Br)c(NCc2ccc(S(N)(=O)=O)cc2)n1',\n",
       " 'CHEMBL1387906': 'Cc1csc(NC(=O)COCC(=O)O)c1-c1nc2ccccc2s1',\n",
       " 'SIPATRIGINE': 'CN1CCN(c2ncc(-c3cc(Cl)cc(Cl)c3Cl)c(N)n2)CC1',\n",
       " 'CHEMBL1530933': 'O=C(NC1CCN(Cc2ccccc2)CC1)c1c(F)cccc1F',\n",
       " 'CHEMBL1450408': 'O=[N+]([O-])c1ccc(N2CCN(CCO)CC2)cc1Sc1nc2ccccc2[nH]1',\n",
       " 'MLS001018558': 'COc1ccc(-[n+]2c(-c3ccc(Cl)cc3)cn3c2CCc2ccccc2-3)cc1',\n",
       " 'CHEMBL302753': 'COC(c1ccccc1)(c1ccccc1)C(Oc1nc(C)cc(C)n1)C(=O)O',\n",
       " 'COMBRETASTATIN A-1': 'COc1ccc(/C=C\\\\c2cc(OC)c(OC)c(OC)c2)c(O)c1O',\n",
       " 'SMR000109721': 'CCSc1nnc(NC(=O)C2CC=CCC2C(=O)O)s1',\n",
       " 'CHEMBL1492723': 'COc1ccccc1Oc1ccc(S(=O)(=O)N2CCCC2)cc1',\n",
       " 'CHEMBL1337473': 'Cc1cccc2sc(NNC(=O)c3ccc4c(c3)OCCO4)nc12',\n",
       " 'CHEMBL3416558': 'CCC1CCCCN1Cc1nc2c(c(=O)n(C)c(=O)n2C)n1Cc1cccc(C)c1',\n",
       " 'ST50052593': 'Cc1nn(-c2ccc3ccccc3c2)c(=O)c2ccccc12',\n",
       " 'SR 144190': 'CN(C)C(=O)NC1(c2ccccc2)CCN(CC[C@@]2(c3ccc(F)c(F)c3)CN(C(=O)c3ccccc3)CCO2)CC1',\n",
       " 'FLUTICASONE FUROATE': 'C[C@@H]1C[C@H]2[C@@H]3C[C@H](F)C4=CC(=O)C=C[C@]4(C)[C@@]3(F)[C@@H](O)C[C@]2(C)[C@@]1(OC(=O)c1ccco1)C(=O)SCF',\n",
       " 'CHEMBL1510950': 'O=C1CC(=Nc2ccc(Cl)cc2)CC(c2ccccc2)C1',\n",
       " 'VABORBACTAM': 'O=C(O)C[C@@H]1CC[C@H](NC(=O)Cc2cccs2)B(O)O1',\n",
       " 'FLUNISOLIDE': 'CC1(C)O[C@@H]2C[C@H]3[C@@H]4C[C@H](F)C5=CC(=O)C=C[C@]5(C)[C@H]4[C@@H](O)C[C@]3(C)[C@]2(C(=O)CO)O1',\n",
       " 'DARGLITAZONE': 'Cc1oc(-c2ccccc2)nc1CCC(=O)c1ccc(Cc2sc(=O)[nH]c2O)cc1',\n",
       " 'CHEMBL1479046': 'CCOC(=O)Cc1csc(NC(=O)c2c(-c3c(F)cccc3Cl)noc2C)n1',\n",
       " '2-nitropropane': 'CC(C)[N+](=O)[O-]',\n",
       " 'CHEMBL1485806': 'Cc1ccc(-c2cc(NC(=O)c3ccccc3)on2)cc1',\n",
       " 'Triethylhexanoin': 'CCCCC(CC)C(=O)OCC(COC(=O)C(CC)CCCC)OC(=O)C(CC)CCCC',\n",
       " 'FENOFIBRATE': 'CC(C)OC(=O)C(C)(C)Oc1ccc(C(=O)c2ccc(Cl)cc2)cc1',\n",
       " 'CHEMBL1544751': 'CN(Cc1ccc(F)cc1)C(=O)COc1ccccc1-c1ccccc1',\n",
       " 'CHEMBL1534825': 'O=C(NCCc1ccccc1)C1CCN(S(=O)(=O)N2CCCC2)CC1',\n",
       " 'METHANESULFONIC ACID ETHYL ESTER': 'CCOS(C)(=O)=O',\n",
       " '9F-324S': 'O=C(O)COn1c(-c2ccccc2)nc2ccc(Cl)cc21',\n",
       " 'BASIMGLURANT': 'Cc1nc(C#Cc2ccnc(Cl)c2)c(C)n1-c1ccc(F)cc1',\n",
       " 'GSK-2636771': 'Cc1c(Cn2c(C)nc3c(C(=O)O)cc(N4CCOCC4)cc32)cccc1C(F)(F)F',\n",
       " 'CHEMBL1339599': 'CCc1c(C)[nH]c2c(-c3ccccc3OC)c(C)nn2c1=O',\n",
       " 'F2890-0049': 'CSc1ccccc1NC(=O)COc1ccc(Cl)cc1Cl',\n",
       " '1-(3-Phenoxypropyl)-1H-indole-3-carbonitrile': 'N#Cc1cn(CCCOc2ccccc2)c2ccccc12',\n",
       " 'CHEMBL1609329': 'COc1ccccc1CC(=O)Nc1cccc2c1CCCC2',\n",
       " 'T0520-8979': 'Cc1c(Cl)cnc(NC(=O)COC(=O)CCS(=O)(=O)c2ccccc2)c1Cl',\n",
       " 'CHEMBL1396801': 'COc1cccc(N2CCN(S(=O)(=O)c3cc4c(cc3C)N(C)CCO4)CC2)c1',\n",
       " 'ZUCLOMIPHENE': 'CCN(CC)CCOc1ccc(/C(=C(\\\\Cl)c2ccccc2)c2ccccc2)cc1',\n",
       " 'CHEMBL203669': 'O=C(COc1ccccc1)Nc1ccc(C(O)(C(F)(F)F)C(F)(F)F)cc1',\n",
       " 'CHEMBL209832': 'c1ccc(-n2cc(CN3CCN(c4ncccn4)CC3)cn2)cc1',\n",
       " 'L-Penicillamine': 'CC(C)(S)[C@H](N)C(=O)O',\n",
       " 'CHEMBL1439503': 'CCOC(=O)c1sc2nc3n(c(=O)c2c1C)CCC3',\n",
       " 'BAY-876': 'Cc1c(NC(=O)c2cc(C(N)=O)nc3cc(F)ccc23)c(C(F)(F)F)nn1Cc1ccc(C#N)cc1',\n",
       " 'SELETALISIB': '[O-][n+]1cccc(-c2nc3c(Cl)cccc3cc2[C@@H](Nc2ncnc3cccnc23)C(F)(F)F)c1',\n",
       " 'CHEMBL1392985': 'Cc1cc(S(=O)(=O)Nc2ccc(C(=O)NCC(C)(C)N3CCOCC3)cc2)ccc1F',\n",
       " 'CHEMBL1587170': 'OC1CCN(c2ncnc3[nH]cnc23)CC1',\n",
       " 'CHEMBL2021627': 'Oc1cccc(C2CCNCC2)c1',\n",
       " 'CHEMBL1587274': 'CCS(=O)(=O)N1CCN(c2ccc([N+](=O)[O-])c(N3CCOCC3)c2)CC1',\n",
       " 'CHEMBL1590509': 'COc1ccc(NC(=O)CN2C(=O)C(=O)c3ccccc32)c(OC)c1',\n",
       " 'CHEMBL4955065': 'COc1cccc2c(=O)c3c([nH]c12)CCN(CC(=O)NCc1ccccc1Cl)C3',\n",
       " 'AC1NK7FL': 'Cc1ccc(N2CC(C(=O)NCc3ccc(C)n3C)CC2=O)cc1',\n",
       " 'F1899-1024': 'CCc1ccc(-c2ccc(SCC(=O)NCC3CCCO3)nn2)cc1',\n",
       " 'PF-06263276': 'CCc1cc(O)c(F)cc1-c1ccc2c(-c3nc4c([nH]3)CCN(C(=O)c3cnc(N5CCCCC5)cn3)C4)[nH]nc2c1',\n",
       " 'CHEMBL1311620': 'Cc1nn(C)cc1S(=O)(=O)N1CCN(c2ccccc2F)CC1',\n",
       " 'DITHIAZANINE': 'CCN1C(=CC=CC=Cc2sc3ccccc3[n+]2CC)Sc2ccccc21',\n",
       " '3-Phenylpropylamine': 'NCCCc1ccccc1',\n",
       " 'CHEMBL1369109': 'Cc1nn(-c2cc(C(F)(F)F)ccc2Cl)c2[nH]c(C(F)(F)F)nc(=O)c12',\n",
       " 'SETMELANOTIDE': 'CC(=O)N[C@@H](CCCN=C(N)N)C(=O)N[C@H]1CSSC[C@@H](C(N)=O)NC(=O)[C@H](Cc2c[nH]c3ccccc23)NC(=O)[C@H](CCCN=C(N)N)NC(=O)[C@@H](Cc2ccccc2)NC(=O)[C@H](Cc2c[nH]cn2)NC(=O)[C@@H](C)NC1=O',\n",
       " 'DICUMAROL': 'O=c1c(Cc2c(O)oc3ccccc3c2=O)c(O)oc2ccccc12',\n",
       " 'LOFEXIDINE': 'CC(Oc1c(Cl)cccc1Cl)C1=NCCN1',\n",
       " 'CHEMBL1492462': 'O=C(NC(=S)Nc1ccccc1Cl)c1cncc(C#Cc2ccccc2)c1',\n",
       " 'CLOROPERONE': 'O=C(CCCN1CCC(C(=O)c2ccc(Cl)cc2)CC1)c1ccc(F)cc1',\n",
       " 'MLS001239361': 'CCc1ccc2nc(N(CCCN(C)C)C(=O)c3ccc(S(=O)(=O)N(C)C4CCCCC4)cc3)sc2c1',\n",
       " 'CHEMBL1191015': 'O=C(O)CCCCCCCn1ccnc1',\n",
       " 'ZINC03347562': 'CCc1nc2ccc(C(=O)Nc3ccc4c(c3)OCO4)cc2nc1CC',\n",
       " 'SMR000024607': 'CCN1C(=O)/C(=C/N(C)c2ccccc2)OC1=S',\n",
       " 'CHEMBL2360191': 'CNC[C@@H]1OCCCC[C@@H](C)Oc2ccc(NC(=O)Nc3ccc4c(c3)OCO4)cc2C(=O)N([C@H](C)CO)C[C@@H]1C',\n",
       " 'VANCOMYCIN': 'CN[C@H](CC(C)C)C(=O)N[C@H]1C(=O)N[C@@H](CC(N)=O)C(=O)N[C@H]2C(=O)N[C@H]3C(=O)N[C@H](C(=O)N[C@H](C(=O)O)c4cc(O)cc(O)c4-c4cc3ccc4O)[C@H](O)c3ccc(c(Cl)c3)Oc3cc2cc(c3O[C@@H]2O[C@H](CO)[C@@H](O)[C@H](O)[C@H]2O[C@H]2C[C@](C)(N)[C@H](O)[C@H](C)O2)Oc2ccc(cc2Cl)[C@H]1O',\n",
       " 'Phylloquinone': 'CC(C=Cc1c(C)c(O)c2ccccc2c1O)=CCCC(C)CCCC(C)CCCC(C)C',\n",
       " 'IOBENGUANE': 'N=C(N)NCc1cccc(I)c1',\n",
       " 'F5570-0324': 'O=C(Nc1ccc(OC(F)(F)F)cc1)c1ccc(S(=O)(=O)N2CCOCC2)o1',\n",
       " 'CHEMBL1617534': 'CNCc1ccccc1Sc1cccc2ccccc12',\n",
       " 'CHEMBL1541342': 'CCOc1ccc(OCC)c(NC(=O)Nc2ccc3c(c2)N(C)C(=O)CS3)c1',\n",
       " ...}"
      ]
     },
     "execution_count": 17,
     "metadata": {},
     "output_type": "execute_result"
    }
   ],
   "source": [
    "KBsmiles = {}\n",
    "multiple_parents = []\n",
    "for dic in KBcompounds:\n",
    "    for key, value in dic.items():\n",
    "        smiles_list = []\n",
    "        if key == \"name\":\n",
    "            name = value\n",
    "        if key == \"primaryForm\":\n",
    "            for k, v in value.items():\n",
    "                if len(v)>1:\n",
    "                    for i in v:\n",
    "                        for taut, smiles in i.items():\n",
    "                            if smiles not in smiles_list:\n",
    "                                smiles_list.append(smiles)\n",
    "# get list of compounds with multiple tautomer parent structures       \n",
    "        if len(smiles_list)>1:\n",
    "            temp_dic = {}\n",
    "            temp_dic[name]=smiles_list\n",
    "            multiple_parents.append(temp_dic)\n",
    "# retain only compound name and first tautomer parent smiles\n",
    "        if len(smiles_list):\n",
    "            KBsmiles[name] = smiles_list[0]\n",
    "\n",
    "print(len(KBsmiles))\n",
    "KBsmiles"
   ]
  },
  {
   "cell_type": "code",
   "execution_count": 18,
   "metadata": {},
   "outputs": [
    {
     "name": "stderr",
     "output_type": "stream",
     "text": [
      "Building compounds: 100%|██████████| 58824/58824 [00:23<00:00, 2460.15it/s]\n",
      "Calculating fingerprints: 100%|██████████| 58824/58824 [00:09<00:00, 5923.03it/s]\n"
     ]
    }
   ],
   "source": [
    "cs = CompoundSpace(KBsmiles)\n",
    "cs.calculate_fingerprints()"
   ]
  },
  {
   "cell_type": "code",
   "execution_count": 47,
   "metadata": {},
   "outputs": [
    {
     "name": "stdout",
     "output_type": "stream",
     "text": [
      "CompoundSpace:\n",
      "\t58824 valid compounds\n",
      "\t0 invalid compounds\n"
     ]
    }
   ],
   "source": [
    "KBsmiles[\"SULFINPYRAZONE\"]\n",
    "print(cs)"
   ]
  },
  {
   "cell_type": "code",
   "execution_count": 19,
   "metadata": {},
   "outputs": [
    {
     "name": "stdout",
     "output_type": "stream",
     "text": [
      "159\n"
     ]
    }
   ],
   "source": [
    "#get ID, name and structure for Dotmatics compound not mapping to KB\n",
    "# Open the CSV file\n",
    "with open(\"/Users/sonialiggi/Library/CloudStorage/GoogleDrive-sonia.liggi@healx.io/Shared drives/Internal Projects/Dotmatics/KB Mapping/NotMapping.csv\", \"r\") as csvfile:\n",
    "    # Create a CSV reader object\n",
    "    reader = csv.reader(csvfile)\n",
    "\n",
    "    # Skip the header row (optional)\n",
    "    next(reader)\n",
    "\n",
    "    # Create an empty dictionary\n",
    "    data_dict = {}\n",
    "\n",
    "    # Iterate over each row in the CSV file\n",
    "    for row in reader:\n",
    "        # Get the values from the columns\n",
    "        ID = row[0]\n",
    "        name = row[1]\n",
    "        smi = row[2]\n",
    "        data_dict[ID] = [name, smi]\n",
    "    \n",
    "# Print the dictionary\n",
    "print(len(data_dict))"
   ]
  },
  {
   "cell_type": "code",
   "execution_count": 27,
   "metadata": {},
   "outputs": [
    {
     "name": "stdout",
     "output_type": "stream",
     "text": [
      "['5,7-Dichloro-8-hydroxyquinoline beta-D-glucuronide', 'O[C@@H]1[C@@H](O)[C@@H](O[C@@H]([C@H]1O)C(=O)O)Oc1c(cc(c2cccnc12)Cl)Cl']\n"
     ]
    }
   ],
   "source": [
    "print(data_dict[\"HLX0000186\"])"
   ]
  },
  {
   "cell_type": "code",
   "execution_count": 9,
   "metadata": {},
   "outputs": [
    {
     "ename": "NameError",
     "evalue": "name 'cs' is not defined",
     "output_type": "error",
     "traceback": [
      "\u001b[0;31m---------------------------------------------------------------------------\u001b[0m",
      "\u001b[0;31mNameError\u001b[0m                                 Traceback (most recent call last)",
      "Cell \u001b[0;32mIn[9], line 1\u001b[0m\n\u001b[0;32m----> 1\u001b[0m pp \u001b[38;5;241m=\u001b[39m \u001b[43mcs\u001b[49m\u001b[38;5;241m.\u001b[39msearch(query\u001b[38;5;241m=\u001b[39mdata_dict[\u001b[38;5;124m'\u001b[39m\u001b[38;5;124mHLX0001904\u001b[39m\u001b[38;5;124m'\u001b[39m][\u001b[38;5;241m1\u001b[39m])\n\u001b[1;32m      2\u001b[0m filtered_matrix \u001b[38;5;241m=\u001b[39m pp\u001b[38;5;241m.\u001b[39mfilter(pp[\u001b[38;5;124m\"\u001b[39m\u001b[38;5;124mref\u001b[39m\u001b[38;5;124m\"\u001b[39m] \u001b[38;5;241m==\u001b[39m\u001b[38;5;241m0\u001b[39m)\n\u001b[1;32m      3\u001b[0m pp\n",
      "\u001b[0;31mNameError\u001b[0m: name 'cs' is not defined"
     ]
    }
   ],
   "source": [
    "\n",
    "pp = cs.search(query=data_dict['HLX0001904'][1])\n",
    "filtered_matrix = pp.filter(pp[\"ref\"] ==0)\n",
    "pp\n",
    "\"\"\"filtered_matrix =filtered_matrix.reset_index().rename(columns={\"index\": \"KB_name\", \"ref\": \"similarity_score\"})\n",
    "filtered_matrix[\"DotmaticsID\"] = \"HLX0001904\"\n",
    "filtered_matrix[\"Dotmatics_smiles\"] = data_dict[\"HLX0001904\"][1]\n",
    "filtered_matrix[\"KB_smiles\"] = filtered_matrix[\"KB_name\"].map(KBsmiles)\n",
    "filtered_matrix[\"Dotmatics_name\"] = data_dict[\"HLX0001904\"][0]\n",
    "filtered_matrix = filtered_matrix[[\"DotmaticsID\", \"Dotmatics_name\", \"Dotmatics_smiles\", \"KB_name\", \"KB_smiles\", \"similarity_score\"]]\n",
    "filtered_matrix\"\"\"\n"
   ]
  },
  {
   "cell_type": "code",
   "execution_count": 28,
   "metadata": {},
   "outputs": [
    {
     "name": "stdout",
     "output_type": "stream",
     "text": [
      "HLX0000169\n"
     ]
    },
    {
     "name": "stderr",
     "output_type": "stream",
     "text": [
      "Calculating similarities: 100%|██████████| 58824/58824 [00:00<00:00, 116296.19it/s]\n",
      "Building matrix: 100%|██████████| 1/1 [00:00<00:00,  6.73it/s]\n"
     ]
    },
    {
     "name": "stdout",
     "output_type": "stream",
     "text": [
      "HLX0000186\n"
     ]
    },
    {
     "name": "stderr",
     "output_type": "stream",
     "text": [
      "Calculating similarities: 100%|██████████| 58824/58824 [00:00<00:00, 108369.99it/s]\n",
      "Building matrix: 100%|██████████| 1/1 [00:00<00:00,  3.82it/s]\n"
     ]
    },
    {
     "name": "stdout",
     "output_type": "stream",
     "text": [
      "HLX0000191\n"
     ]
    },
    {
     "name": "stderr",
     "output_type": "stream",
     "text": [
      "Calculating similarities: 100%|██████████| 58824/58824 [00:00<00:00, 129877.59it/s]\n",
      "Building matrix: 100%|██████████| 1/1 [00:00<00:00,  7.10it/s]\n"
     ]
    },
    {
     "name": "stdout",
     "output_type": "stream",
     "text": [
      "HLX0000224\n"
     ]
    },
    {
     "name": "stderr",
     "output_type": "stream",
     "text": [
      "Calculating similarities: 100%|██████████| 58824/58824 [00:00<00:00, 114943.60it/s]\n",
      "Building matrix: 100%|██████████| 1/1 [00:00<00:00,  6.09it/s]\n"
     ]
    },
    {
     "name": "stdout",
     "output_type": "stream",
     "text": [
      "HLX0000242\n"
     ]
    },
    {
     "name": "stderr",
     "output_type": "stream",
     "text": [
      "Calculating similarities: 100%|██████████| 58824/58824 [00:00<00:00, 73461.59it/s] \n",
      "Building matrix: 100%|██████████| 1/1 [00:00<00:00,  6.84it/s]\n"
     ]
    },
    {
     "name": "stdout",
     "output_type": "stream",
     "text": [
      "HLX0000258\n"
     ]
    },
    {
     "name": "stderr",
     "output_type": "stream",
     "text": [
      "Calculating similarities: 100%|██████████| 58824/58824 [00:00<00:00, 124128.24it/s]\n",
      "Building matrix: 100%|██████████| 1/1 [00:00<00:00,  7.12it/s]\n"
     ]
    },
    {
     "name": "stdout",
     "output_type": "stream",
     "text": [
      "HLX0000260\n"
     ]
    },
    {
     "name": "stderr",
     "output_type": "stream",
     "text": [
      "Calculating similarities: 100%|██████████| 58824/58824 [00:00<00:00, 120609.18it/s]\n",
      "Building matrix: 100%|██████████| 1/1 [00:00<00:00,  6.23it/s]\n"
     ]
    },
    {
     "name": "stdout",
     "output_type": "stream",
     "text": [
      "HLX0000261\n"
     ]
    },
    {
     "name": "stderr",
     "output_type": "stream",
     "text": [
      "Calculating similarities: 100%|██████████| 58824/58824 [00:00<00:00, 66093.19it/s]\n",
      "Building matrix: 100%|██████████| 1/1 [00:00<00:00,  5.91it/s]\n"
     ]
    },
    {
     "name": "stdout",
     "output_type": "stream",
     "text": [
      "HLX0000265\n"
     ]
    },
    {
     "name": "stderr",
     "output_type": "stream",
     "text": [
      "Calculating similarities: 100%|██████████| 58824/58824 [00:00<00:00, 84607.34it/s]\n",
      "Building matrix: 100%|██████████| 1/1 [00:00<00:00,  5.70it/s]\n"
     ]
    },
    {
     "name": "stdout",
     "output_type": "stream",
     "text": [
      "HLX0000267\n"
     ]
    },
    {
     "name": "stderr",
     "output_type": "stream",
     "text": [
      "Calculating similarities: 100%|██████████| 58824/58824 [00:00<00:00, 76907.60it/s]\n",
      "Building matrix: 100%|██████████| 1/1 [00:00<00:00,  5.49it/s]\n"
     ]
    },
    {
     "name": "stdout",
     "output_type": "stream",
     "text": [
      "HLX0000269\n"
     ]
    },
    {
     "name": "stderr",
     "output_type": "stream",
     "text": [
      "Calculating similarities: 100%|██████████| 58824/58824 [00:00<00:00, 89264.53it/s] \n",
      "Building matrix: 100%|██████████| 1/1 [00:00<00:00,  6.46it/s]\n"
     ]
    },
    {
     "name": "stdout",
     "output_type": "stream",
     "text": [
      "HLX0000271\n"
     ]
    },
    {
     "name": "stderr",
     "output_type": "stream",
     "text": [
      "Calculating similarities: 100%|██████████| 58824/58824 [00:00<00:00, 131891.78it/s]\n",
      "Building matrix: 100%|██████████| 1/1 [00:00<00:00,  7.37it/s]\n"
     ]
    },
    {
     "name": "stdout",
     "output_type": "stream",
     "text": [
      "HLX0000274\n"
     ]
    },
    {
     "name": "stderr",
     "output_type": "stream",
     "text": [
      "Calculating similarities: 100%|██████████| 58824/58824 [00:00<00:00, 130596.89it/s]\n",
      "Building matrix: 100%|██████████| 1/1 [00:00<00:00,  7.50it/s]\n"
     ]
    },
    {
     "name": "stdout",
     "output_type": "stream",
     "text": [
      "HLX0000277\n"
     ]
    },
    {
     "name": "stderr",
     "output_type": "stream",
     "text": [
      "Calculating similarities: 100%|██████████| 58824/58824 [00:00<00:00, 129684.26it/s]\n",
      "Building matrix: 100%|██████████| 1/1 [00:00<00:00,  7.39it/s]\n"
     ]
    },
    {
     "name": "stdout",
     "output_type": "stream",
     "text": [
      "HLX0000301\n"
     ]
    },
    {
     "name": "stderr",
     "output_type": "stream",
     "text": [
      "Calculating similarities: 100%|██████████| 58824/58824 [00:00<00:00, 86880.12it/s] \n",
      "Building matrix: 100%|██████████| 1/1 [00:00<00:00,  7.50it/s]\n"
     ]
    },
    {
     "name": "stdout",
     "output_type": "stream",
     "text": [
      "HLX0000321\n"
     ]
    },
    {
     "name": "stderr",
     "output_type": "stream",
     "text": [
      "Calculating similarities: 100%|██████████| 58824/58824 [00:00<00:00, 129514.96it/s]\n",
      "Building matrix: 100%|██████████| 1/1 [00:00<00:00,  6.79it/s]\n"
     ]
    },
    {
     "name": "stdout",
     "output_type": "stream",
     "text": [
      "HLX0000415\n"
     ]
    },
    {
     "name": "stderr",
     "output_type": "stream",
     "text": [
      "Calculating similarities: 100%|██████████| 58824/58824 [00:00<00:00, 122459.67it/s]\n",
      "Building matrix: 100%|██████████| 1/1 [00:00<00:00,  5.89it/s]\n"
     ]
    },
    {
     "name": "stdout",
     "output_type": "stream",
     "text": [
      "HLX0000459\n"
     ]
    },
    {
     "name": "stderr",
     "output_type": "stream",
     "text": [
      "Calculating similarities: 100%|██████████| 58824/58824 [00:00<00:00, 127167.79it/s]\n",
      "Building matrix: 100%|██████████| 1/1 [00:00<00:00,  7.45it/s]\n"
     ]
    },
    {
     "name": "stdout",
     "output_type": "stream",
     "text": [
      "HLX0000543\n"
     ]
    },
    {
     "name": "stderr",
     "output_type": "stream",
     "text": [
      "Calculating similarities: 100%|██████████| 58824/58824 [00:00<00:00, 111464.58it/s]\n",
      "Building matrix: 100%|██████████| 1/1 [00:00<00:00,  7.89it/s]\n"
     ]
    },
    {
     "name": "stdout",
     "output_type": "stream",
     "text": [
      "HLX0000578\n"
     ]
    },
    {
     "name": "stderr",
     "output_type": "stream",
     "text": [
      "Calculating similarities: 100%|██████████| 58824/58824 [00:00<00:00, 137045.41it/s]\n",
      "Building matrix: 100%|██████████| 1/1 [00:00<00:00,  7.55it/s]\n"
     ]
    },
    {
     "name": "stdout",
     "output_type": "stream",
     "text": [
      "HLX0000585\n"
     ]
    },
    {
     "name": "stderr",
     "output_type": "stream",
     "text": [
      "Calculating similarities: 100%|██████████| 58824/58824 [00:00<00:00, 68405.81it/s]\n",
      "Building matrix: 100%|██████████| 1/1 [00:00<00:00,  5.36it/s]\n"
     ]
    },
    {
     "name": "stdout",
     "output_type": "stream",
     "text": [
      "HLX0000604\n"
     ]
    },
    {
     "name": "stderr",
     "output_type": "stream",
     "text": [
      "Calculating similarities: 100%|██████████| 58824/58824 [00:00<00:00, 107853.81it/s]\n",
      "Building matrix: 100%|██████████| 1/1 [00:00<00:00,  5.77it/s]\n"
     ]
    },
    {
     "name": "stdout",
     "output_type": "stream",
     "text": [
      "HLX0000962\n"
     ]
    },
    {
     "name": "stderr",
     "output_type": "stream",
     "text": [
      "Calculating similarities: 100%|██████████| 58824/58824 [00:00<00:00, 83956.67it/s]\n",
      "Building matrix: 100%|██████████| 1/1 [00:00<00:00,  6.00it/s]\n"
     ]
    },
    {
     "name": "stdout",
     "output_type": "stream",
     "text": [
      "HLX0001164\n"
     ]
    },
    {
     "name": "stderr",
     "output_type": "stream",
     "text": [
      "Calculating similarities: 100%|██████████| 58824/58824 [00:00<00:00, 133529.47it/s]\n",
      "Building matrix: 100%|██████████| 1/1 [00:00<00:00,  7.57it/s]\n"
     ]
    },
    {
     "name": "stdout",
     "output_type": "stream",
     "text": [
      "HLX0001166\n"
     ]
    },
    {
     "name": "stderr",
     "output_type": "stream",
     "text": [
      "Calculating similarities: 100%|██████████| 58824/58824 [00:00<00:00, 111012.76it/s]\n",
      "Building matrix: 100%|██████████| 1/1 [00:00<00:00,  7.38it/s]\n"
     ]
    },
    {
     "name": "stdout",
     "output_type": "stream",
     "text": [
      "HLX0001167\n"
     ]
    },
    {
     "name": "stderr",
     "output_type": "stream",
     "text": [
      "Calculating similarities: 100%|██████████| 58824/58824 [00:00<00:00, 89487.64it/s] \n",
      "Building matrix: 100%|██████████| 1/1 [00:00<00:00,  7.27it/s]\n"
     ]
    },
    {
     "name": "stdout",
     "output_type": "stream",
     "text": [
      "HLX0001169\n"
     ]
    },
    {
     "name": "stderr",
     "output_type": "stream",
     "text": [
      "Calculating similarities: 100%|██████████| 58824/58824 [00:00<00:00, 126052.90it/s]\n",
      "Building matrix: 100%|██████████| 1/1 [00:00<00:00,  7.17it/s]\n"
     ]
    },
    {
     "name": "stdout",
     "output_type": "stream",
     "text": [
      "HLX0001171\n"
     ]
    },
    {
     "name": "stderr",
     "output_type": "stream",
     "text": [
      "Calculating similarities: 100%|██████████| 58824/58824 [00:00<00:00, 130733.63it/s]\n",
      "Building matrix: 100%|██████████| 1/1 [00:00<00:00,  7.40it/s]\n"
     ]
    },
    {
     "name": "stdout",
     "output_type": "stream",
     "text": [
      "HLX0001177\n"
     ]
    },
    {
     "name": "stderr",
     "output_type": "stream",
     "text": [
      "Calculating similarities: 100%|██████████| 58824/58824 [00:00<00:00, 127760.78it/s]\n",
      "Building matrix: 100%|██████████| 1/1 [00:00<00:00,  6.33it/s]\n"
     ]
    },
    {
     "name": "stdout",
     "output_type": "stream",
     "text": [
      "HLX0001178\n"
     ]
    },
    {
     "name": "stderr",
     "output_type": "stream",
     "text": [
      "Calculating similarities: 100%|██████████| 58824/58824 [00:00<00:00, 126359.23it/s]\n",
      "Building matrix: 100%|██████████| 1/1 [00:00<00:00,  2.83it/s]\n"
     ]
    },
    {
     "name": "stdout",
     "output_type": "stream",
     "text": [
      "HLX0001179\n"
     ]
    },
    {
     "name": "stderr",
     "output_type": "stream",
     "text": [
      "Calculating similarities: 100%|██████████| 58824/58824 [00:00<00:00, 73846.90it/s] \n",
      "Building matrix: 100%|██████████| 1/1 [00:00<00:00,  4.94it/s]\n"
     ]
    },
    {
     "name": "stdout",
     "output_type": "stream",
     "text": [
      "HLX0001181\n"
     ]
    },
    {
     "name": "stderr",
     "output_type": "stream",
     "text": [
      "Calculating similarities: 100%|██████████| 58824/58824 [00:00<00:00, 129653.67it/s]\n",
      "Building matrix: 100%|██████████| 1/1 [00:00<00:00,  6.29it/s]\n"
     ]
    },
    {
     "name": "stdout",
     "output_type": "stream",
     "text": [
      "HLX0001182\n"
     ]
    },
    {
     "name": "stderr",
     "output_type": "stream",
     "text": [
      "Calculating similarities: 100%|██████████| 58824/58824 [00:00<00:00, 118530.33it/s]\n",
      "Building matrix: 100%|██████████| 1/1 [00:00<00:00,  6.06it/s]\n"
     ]
    },
    {
     "name": "stdout",
     "output_type": "stream",
     "text": [
      "HLX0001184\n"
     ]
    },
    {
     "name": "stderr",
     "output_type": "stream",
     "text": [
      "Calculating similarities: 100%|██████████| 58824/58824 [00:00<00:00, 95082.93it/s] \n",
      "Building matrix: 100%|██████████| 1/1 [00:00<00:00,  7.47it/s]\n"
     ]
    },
    {
     "name": "stdout",
     "output_type": "stream",
     "text": [
      "HLX0001189\n"
     ]
    },
    {
     "name": "stderr",
     "output_type": "stream",
     "text": [
      "Calculating similarities: 100%|██████████| 58824/58824 [00:00<00:00, 105973.15it/s]\n",
      "Building matrix: 100%|██████████| 1/1 [00:00<00:00,  7.28it/s]\n"
     ]
    },
    {
     "name": "stdout",
     "output_type": "stream",
     "text": [
      "HLX0001191\n"
     ]
    },
    {
     "name": "stderr",
     "output_type": "stream",
     "text": [
      "Calculating similarities: 100%|██████████| 58824/58824 [00:00<00:00, 131098.19it/s]\n",
      "Building matrix: 100%|██████████| 1/1 [00:00<00:00,  7.56it/s]\n"
     ]
    },
    {
     "name": "stdout",
     "output_type": "stream",
     "text": [
      "HLX0001192\n"
     ]
    },
    {
     "name": "stderr",
     "output_type": "stream",
     "text": [
      "Calculating similarities: 100%|██████████| 58824/58824 [00:00<00:00, 85623.94it/s] \n",
      "Building matrix: 100%|██████████| 1/1 [00:00<00:00,  6.70it/s]\n"
     ]
    },
    {
     "name": "stdout",
     "output_type": "stream",
     "text": [
      "HLX0001194\n"
     ]
    },
    {
     "name": "stderr",
     "output_type": "stream",
     "text": [
      "Calculating similarities: 100%|██████████| 58824/58824 [00:00<00:00, 77679.44it/s] \n",
      "Building matrix: 100%|██████████| 1/1 [00:00<00:00,  7.23it/s]\n"
     ]
    },
    {
     "name": "stdout",
     "output_type": "stream",
     "text": [
      "HLX0001196\n"
     ]
    },
    {
     "name": "stderr",
     "output_type": "stream",
     "text": [
      "Calculating similarities: 100%|██████████| 58824/58824 [00:00<00:00, 84161.96it/s] \n",
      "Building matrix: 100%|██████████| 1/1 [00:00<00:00,  4.00it/s]\n"
     ]
    },
    {
     "name": "stdout",
     "output_type": "stream",
     "text": [
      "HLX0001199\n"
     ]
    },
    {
     "name": "stderr",
     "output_type": "stream",
     "text": [
      "Calculating similarities: 100%|██████████| 58824/58824 [00:00<00:00, 127249.71it/s]\n",
      "Building matrix: 100%|██████████| 1/1 [00:00<00:00,  6.44it/s]\n"
     ]
    },
    {
     "name": "stdout",
     "output_type": "stream",
     "text": [
      "HLX0001200\n"
     ]
    },
    {
     "name": "stderr",
     "output_type": "stream",
     "text": [
      "Calculating similarities: 100%|██████████| 58824/58824 [00:00<00:00, 59206.06it/s] \n",
      "Building matrix: 100%|██████████| 1/1 [00:00<00:00,  5.11it/s]\n"
     ]
    },
    {
     "name": "stdout",
     "output_type": "stream",
     "text": [
      "HLX0001203\n"
     ]
    },
    {
     "name": "stderr",
     "output_type": "stream",
     "text": [
      "Calculating similarities: 100%|██████████| 58824/58824 [00:01<00:00, 31555.99it/s]\n",
      "Building matrix: 100%|██████████| 1/1 [00:00<00:00,  2.29it/s]\n"
     ]
    },
    {
     "name": "stdout",
     "output_type": "stream",
     "text": [
      "HLX0001204\n"
     ]
    },
    {
     "name": "stderr",
     "output_type": "stream",
     "text": [
      "Calculating similarities: 100%|██████████| 58824/58824 [00:00<00:00, 63435.51it/s]\n",
      "Building matrix: 100%|██████████| 1/1 [00:00<00:00,  2.35it/s]\n"
     ]
    },
    {
     "name": "stdout",
     "output_type": "stream",
     "text": [
      "HLX0001205\n"
     ]
    },
    {
     "name": "stderr",
     "output_type": "stream",
     "text": [
      "Calculating similarities: 100%|██████████| 58824/58824 [00:00<00:00, 67210.23it/s]\n",
      "Building matrix: 100%|██████████| 1/1 [00:00<00:00,  4.98it/s]\n"
     ]
    },
    {
     "name": "stdout",
     "output_type": "stream",
     "text": [
      "HLX0001206\n"
     ]
    },
    {
     "name": "stderr",
     "output_type": "stream",
     "text": [
      "Calculating similarities: 100%|██████████| 58824/58824 [00:01<00:00, 52287.49it/s]\n",
      "Building matrix: 100%|██████████| 1/1 [00:00<00:00,  5.14it/s]\n"
     ]
    },
    {
     "name": "stdout",
     "output_type": "stream",
     "text": [
      "HLX0001207\n"
     ]
    },
    {
     "name": "stderr",
     "output_type": "stream",
     "text": [
      "Calculating similarities: 100%|██████████| 58824/58824 [00:00<00:00, 127259.10it/s]\n",
      "Building matrix: 100%|██████████| 1/1 [00:00<00:00,  7.07it/s]\n"
     ]
    },
    {
     "name": "stdout",
     "output_type": "stream",
     "text": [
      "HLX0001208\n"
     ]
    },
    {
     "name": "stderr",
     "output_type": "stream",
     "text": [
      "Calculating similarities: 100%|██████████| 58824/58824 [00:00<00:00, 103438.62it/s]\n",
      "Building matrix: 100%|██████████| 1/1 [00:00<00:00,  6.62it/s]\n"
     ]
    },
    {
     "name": "stdout",
     "output_type": "stream",
     "text": [
      "HLX0001289\n"
     ]
    },
    {
     "name": "stderr",
     "output_type": "stream",
     "text": [
      "Calculating similarities: 100%|██████████| 58824/58824 [00:00<00:00, 82190.63it/s] \n",
      "Building matrix: 100%|██████████| 1/1 [00:00<00:00,  7.52it/s]\n"
     ]
    },
    {
     "name": "stdout",
     "output_type": "stream",
     "text": [
      "HLX0001317\n"
     ]
    },
    {
     "name": "stderr",
     "output_type": "stream",
     "text": [
      "Calculating similarities: 100%|██████████| 58824/58824 [00:00<00:00, 111222.69it/s]\n",
      "Building matrix: 100%|██████████| 1/1 [00:00<00:00,  7.23it/s]\n"
     ]
    },
    {
     "name": "stdout",
     "output_type": "stream",
     "text": [
      "HLX0001323\n"
     ]
    },
    {
     "name": "stderr",
     "output_type": "stream",
     "text": [
      "Calculating similarities: 100%|██████████| 58824/58824 [00:00<00:00, 119569.24it/s]\n",
      "Building matrix: 100%|██████████| 1/1 [00:00<00:00,  4.96it/s]\n"
     ]
    },
    {
     "name": "stdout",
     "output_type": "stream",
     "text": [
      "HLX0001354\n"
     ]
    },
    {
     "name": "stderr",
     "output_type": "stream",
     "text": [
      "Calculating similarities: 100%|██████████| 58824/58824 [00:00<00:00, 59138.03it/s] \n",
      "Building matrix: 100%|██████████| 1/1 [00:00<00:00,  2.85it/s]\n"
     ]
    },
    {
     "name": "stdout",
     "output_type": "stream",
     "text": [
      "HLX0001375\n"
     ]
    },
    {
     "name": "stderr",
     "output_type": "stream",
     "text": [
      "Calculating similarities: 100%|██████████| 58824/58824 [00:01<00:00, 50141.97it/s]\n",
      "Building matrix: 100%|██████████| 1/1 [00:00<00:00,  2.48it/s]\n"
     ]
    },
    {
     "name": "stdout",
     "output_type": "stream",
     "text": [
      "HLX0001386\n"
     ]
    },
    {
     "name": "stderr",
     "output_type": "stream",
     "text": [
      "Calculating similarities: 100%|██████████| 58824/58824 [00:00<00:00, 71562.31it/s]\n",
      "Building matrix: 100%|██████████| 1/1 [00:00<00:00,  7.63it/s]\n"
     ]
    },
    {
     "name": "stdout",
     "output_type": "stream",
     "text": [
      "HLX0001387\n"
     ]
    },
    {
     "name": "stderr",
     "output_type": "stream",
     "text": [
      "Calculating similarities: 100%|██████████| 58824/58824 [00:00<00:00, 132872.27it/s]\n",
      "Building matrix: 100%|██████████| 1/1 [00:00<00:00,  7.47it/s]\n"
     ]
    },
    {
     "name": "stdout",
     "output_type": "stream",
     "text": [
      "HLX0001400\n"
     ]
    },
    {
     "name": "stderr",
     "output_type": "stream",
     "text": [
      "Calculating similarities: 100%|██████████| 58824/58824 [00:00<00:00, 88371.00it/s] \n",
      "Building matrix: 100%|██████████| 1/1 [00:00<00:00,  4.63it/s]\n"
     ]
    },
    {
     "name": "stdout",
     "output_type": "stream",
     "text": [
      "HLX0001415\n"
     ]
    },
    {
     "name": "stderr",
     "output_type": "stream",
     "text": [
      "Calculating similarities: 100%|██████████| 58824/58824 [00:00<00:00, 106372.15it/s]\n",
      "Building matrix: 100%|██████████| 1/1 [00:00<00:00,  5.90it/s]\n"
     ]
    },
    {
     "name": "stdout",
     "output_type": "stream",
     "text": [
      "HLX0001420\n"
     ]
    },
    {
     "name": "stderr",
     "output_type": "stream",
     "text": [
      "Calculating similarities: 100%|██████████| 58824/58824 [00:00<00:00, 94476.02it/s] \n",
      "Building matrix: 100%|██████████| 1/1 [00:00<00:00,  5.79it/s]\n"
     ]
    },
    {
     "name": "stdout",
     "output_type": "stream",
     "text": [
      "HLX0001432\n"
     ]
    },
    {
     "name": "stderr",
     "output_type": "stream",
     "text": [
      "Calculating similarities: 100%|██████████| 58824/58824 [00:00<00:00, 126486.39it/s]\n",
      "Building matrix: 100%|██████████| 1/1 [00:00<00:00,  6.90it/s]\n"
     ]
    },
    {
     "name": "stdout",
     "output_type": "stream",
     "text": [
      "HLX0001442\n"
     ]
    },
    {
     "name": "stderr",
     "output_type": "stream",
     "text": [
      "Calculating similarities: 100%|██████████| 58824/58824 [00:00<00:00, 69933.84it/s]\n",
      "Building matrix: 100%|██████████| 1/1 [00:00<00:00,  6.73it/s]\n"
     ]
    },
    {
     "name": "stdout",
     "output_type": "stream",
     "text": [
      "HLX0001469\n"
     ]
    },
    {
     "name": "stderr",
     "output_type": "stream",
     "text": [
      "Calculating similarities: 100%|██████████| 58824/58824 [00:00<00:00, 135763.73it/s]\n",
      "Building matrix: 100%|██████████| 1/1 [00:00<00:00,  7.83it/s]\n"
     ]
    },
    {
     "name": "stdout",
     "output_type": "stream",
     "text": [
      "HLX0001470\n"
     ]
    },
    {
     "name": "stderr",
     "output_type": "stream",
     "text": [
      "Calculating similarities: 100%|██████████| 58824/58824 [00:00<00:00, 133637.74it/s]\n",
      "Building matrix: 100%|██████████| 1/1 [00:00<00:00,  7.73it/s]\n"
     ]
    },
    {
     "name": "stdout",
     "output_type": "stream",
     "text": [
      "HLX0001499\n"
     ]
    },
    {
     "name": "stderr",
     "output_type": "stream",
     "text": [
      "Calculating similarities: 100%|██████████| 58824/58824 [00:00<00:00, 128645.64it/s]\n",
      "Building matrix: 100%|██████████| 1/1 [00:00<00:00,  7.60it/s]\n"
     ]
    },
    {
     "name": "stdout",
     "output_type": "stream",
     "text": [
      "HLX0001509\n"
     ]
    },
    {
     "name": "stderr",
     "output_type": "stream",
     "text": [
      "Calculating similarities: 100%|██████████| 58824/58824 [00:00<00:00, 131420.38it/s]\n",
      "Building matrix: 100%|██████████| 1/1 [00:00<00:00,  6.81it/s]\n"
     ]
    },
    {
     "name": "stdout",
     "output_type": "stream",
     "text": [
      "HLX0001513\n"
     ]
    },
    {
     "name": "stderr",
     "output_type": "stream",
     "text": [
      "Calculating similarities: 100%|██████████| 58824/58824 [00:00<00:00, 80917.14it/s]\n",
      "Building matrix: 100%|██████████| 1/1 [00:00<00:00,  7.43it/s]\n"
     ]
    },
    {
     "name": "stdout",
     "output_type": "stream",
     "text": [
      "HLX0001514\n"
     ]
    },
    {
     "name": "stderr",
     "output_type": "stream",
     "text": [
      "Calculating similarities: 100%|██████████| 58824/58824 [00:00<00:00, 128284.64it/s]\n",
      "Building matrix: 100%|██████████| 1/1 [00:00<00:00,  7.08it/s]\n"
     ]
    },
    {
     "name": "stdout",
     "output_type": "stream",
     "text": [
      "HLX0001534\n"
     ]
    },
    {
     "name": "stderr",
     "output_type": "stream",
     "text": [
      "Calculating similarities: 100%|██████████| 58824/58824 [00:00<00:00, 126954.74it/s]\n",
      "Building matrix: 100%|██████████| 1/1 [00:00<00:00,  7.68it/s]\n"
     ]
    },
    {
     "name": "stdout",
     "output_type": "stream",
     "text": [
      "HLX0001540\n"
     ]
    },
    {
     "name": "stderr",
     "output_type": "stream",
     "text": [
      "Calculating similarities: 100%|██████████| 58824/58824 [00:00<00:00, 129098.32it/s]\n",
      "Building matrix: 100%|██████████| 1/1 [00:00<00:00,  3.93it/s]\n"
     ]
    },
    {
     "name": "stdout",
     "output_type": "stream",
     "text": [
      "HLX0001541\n"
     ]
    },
    {
     "name": "stderr",
     "output_type": "stream",
     "text": [
      "Calculating similarities: 100%|██████████| 58824/58824 [00:01<00:00, 52494.77it/s]\n",
      "Building matrix: 100%|██████████| 1/1 [00:00<00:00,  2.00it/s]\n"
     ]
    },
    {
     "name": "stdout",
     "output_type": "stream",
     "text": [
      "HLX0001547\n"
     ]
    },
    {
     "name": "stderr",
     "output_type": "stream",
     "text": [
      "Calculating similarities: 100%|██████████| 58824/58824 [00:01<00:00, 57346.58it/s]\n",
      "Building matrix: 100%|██████████| 1/1 [00:00<00:00,  4.15it/s]\n"
     ]
    },
    {
     "name": "stdout",
     "output_type": "stream",
     "text": [
      "HLX0001588\n"
     ]
    },
    {
     "name": "stderr",
     "output_type": "stream",
     "text": [
      "Calculating similarities: 100%|██████████| 58824/58824 [00:01<00:00, 55551.41it/s]\n",
      "Building matrix: 100%|██████████| 1/1 [00:00<00:00,  5.46it/s]\n"
     ]
    },
    {
     "name": "stdout",
     "output_type": "stream",
     "text": [
      "HLX0001592\n"
     ]
    },
    {
     "name": "stderr",
     "output_type": "stream",
     "text": [
      "Calculating similarities: 100%|██████████| 58824/58824 [00:00<00:00, 91634.03it/s]\n",
      "Building matrix: 100%|██████████| 1/1 [00:00<00:00,  4.14it/s]\n"
     ]
    },
    {
     "name": "stdout",
     "output_type": "stream",
     "text": [
      "HLX0001602\n"
     ]
    },
    {
     "name": "stderr",
     "output_type": "stream",
     "text": [
      "Calculating similarities: 100%|██████████| 58824/58824 [00:00<00:00, 119058.14it/s]\n",
      "Building matrix: 100%|██████████| 1/1 [00:00<00:00,  7.56it/s]\n"
     ]
    },
    {
     "name": "stdout",
     "output_type": "stream",
     "text": [
      "HLX0001603\n"
     ]
    },
    {
     "name": "stderr",
     "output_type": "stream",
     "text": [
      "Calculating similarities: 100%|██████████| 58824/58824 [00:00<00:00, 82916.80it/s] \n",
      "Building matrix: 100%|██████████| 1/1 [00:00<00:00,  7.01it/s]\n"
     ]
    },
    {
     "name": "stdout",
     "output_type": "stream",
     "text": [
      "HLX0001608\n"
     ]
    },
    {
     "name": "stderr",
     "output_type": "stream",
     "text": [
      "Calculating similarities: 100%|██████████| 58824/58824 [00:00<00:00, 121815.09it/s]\n",
      "Building matrix: 100%|██████████| 1/1 [00:00<00:00,  5.72it/s]\n"
     ]
    },
    {
     "name": "stdout",
     "output_type": "stream",
     "text": [
      "HLX0001609\n"
     ]
    },
    {
     "name": "stderr",
     "output_type": "stream",
     "text": [
      "Calculating similarities: 100%|██████████| 58824/58824 [00:00<00:00, 92173.59it/s] \n",
      "Building matrix: 100%|██████████| 1/1 [00:00<00:00,  6.19it/s]\n"
     ]
    },
    {
     "name": "stdout",
     "output_type": "stream",
     "text": [
      "HLX0001636\n"
     ]
    },
    {
     "name": "stderr",
     "output_type": "stream",
     "text": [
      "Calculating similarities: 100%|██████████| 58824/58824 [00:00<00:00, 123977.80it/s]\n",
      "Building matrix: 100%|██████████| 1/1 [00:00<00:00,  6.24it/s]\n"
     ]
    },
    {
     "name": "stdout",
     "output_type": "stream",
     "text": [
      "HLX0001649\n"
     ]
    },
    {
     "name": "stderr",
     "output_type": "stream",
     "text": [
      "Calculating similarities: 100%|██████████| 58824/58824 [00:00<00:00, 115748.36it/s]\n",
      "Building matrix: 100%|██████████| 1/1 [00:00<00:00,  7.21it/s]\n"
     ]
    },
    {
     "name": "stdout",
     "output_type": "stream",
     "text": [
      "HLX0001675\n"
     ]
    },
    {
     "name": "stderr",
     "output_type": "stream",
     "text": [
      "Calculating similarities: 100%|██████████| 58824/58824 [00:00<00:00, 120609.42it/s]\n",
      "Building matrix: 100%|██████████| 1/1 [00:00<00:00,  3.79it/s]\n"
     ]
    },
    {
     "name": "stdout",
     "output_type": "stream",
     "text": [
      "HLX0001681\n"
     ]
    },
    {
     "name": "stderr",
     "output_type": "stream",
     "text": [
      "Calculating similarities: 100%|██████████| 58824/58824 [00:00<00:00, 72991.70it/s]\n",
      "Building matrix: 100%|██████████| 1/1 [00:00<00:00,  6.13it/s]\n"
     ]
    },
    {
     "name": "stdout",
     "output_type": "stream",
     "text": [
      "HLX0001692\n"
     ]
    },
    {
     "name": "stderr",
     "output_type": "stream",
     "text": [
      "Calculating similarities: 100%|██████████| 58824/58824 [00:00<00:00, 96234.47it/s] \n",
      "Building matrix: 100%|██████████| 1/1 [00:00<00:00,  6.30it/s]\n"
     ]
    },
    {
     "name": "stdout",
     "output_type": "stream",
     "text": [
      "HLX0001693\n"
     ]
    },
    {
     "name": "stderr",
     "output_type": "stream",
     "text": [
      "Calculating similarities: 100%|██████████| 58824/58824 [00:00<00:00, 120086.72it/s]\n",
      "Building matrix: 100%|██████████| 1/1 [00:00<00:00,  7.30it/s]\n"
     ]
    },
    {
     "name": "stdout",
     "output_type": "stream",
     "text": [
      "HLX0001727\n"
     ]
    },
    {
     "name": "stderr",
     "output_type": "stream",
     "text": [
      "Calculating similarities: 100%|██████████| 58824/58824 [00:00<00:00, 127231.27it/s]\n",
      "Building matrix: 100%|██████████| 1/1 [00:00<00:00,  6.34it/s]\n"
     ]
    },
    {
     "name": "stdout",
     "output_type": "stream",
     "text": [
      "HLX0001734\n"
     ]
    },
    {
     "name": "stderr",
     "output_type": "stream",
     "text": [
      "Calculating similarities: 100%|██████████| 58824/58824 [00:00<00:00, 89199.44it/s] \n",
      "Building matrix: 100%|██████████| 1/1 [00:00<00:00,  5.28it/s]\n"
     ]
    },
    {
     "name": "stdout",
     "output_type": "stream",
     "text": [
      "HLX0001759\n"
     ]
    },
    {
     "name": "stderr",
     "output_type": "stream",
     "text": [
      "Calculating similarities: 100%|██████████| 58824/58824 [00:00<00:00, 75150.51it/s]\n",
      "Building matrix: 100%|██████████| 1/1 [00:00<00:00,  7.28it/s]\n"
     ]
    },
    {
     "name": "stdout",
     "output_type": "stream",
     "text": [
      "HLX0001780\n"
     ]
    },
    {
     "name": "stderr",
     "output_type": "stream",
     "text": [
      "Calculating similarities: 100%|██████████| 58824/58824 [00:00<00:00, 133147.05it/s]\n",
      "Building matrix: 100%|██████████| 1/1 [00:00<00:00,  7.91it/s]\n"
     ]
    },
    {
     "name": "stdout",
     "output_type": "stream",
     "text": [
      "HLX0001783\n"
     ]
    },
    {
     "name": "stderr",
     "output_type": "stream",
     "text": [
      "Calculating similarities: 100%|██████████| 58824/58824 [00:00<00:00, 134480.65it/s]\n",
      "Building matrix: 100%|██████████| 1/1 [00:00<00:00,  7.72it/s]\n"
     ]
    },
    {
     "name": "stdout",
     "output_type": "stream",
     "text": [
      "HLX0001786\n"
     ]
    },
    {
     "name": "stderr",
     "output_type": "stream",
     "text": [
      "Calculating similarities: 100%|██████████| 58824/58824 [00:00<00:00, 134004.57it/s]\n",
      "Building matrix: 100%|██████████| 1/1 [00:00<00:00,  7.76it/s]\n"
     ]
    },
    {
     "name": "stdout",
     "output_type": "stream",
     "text": [
      "HLX0001789\n"
     ]
    },
    {
     "name": "stderr",
     "output_type": "stream",
     "text": [
      "Calculating similarities: 100%|██████████| 58824/58824 [00:00<00:00, 131328.19it/s]\n",
      "Building matrix: 100%|██████████| 1/1 [00:00<00:00,  6.88it/s]\n"
     ]
    },
    {
     "name": "stdout",
     "output_type": "stream",
     "text": [
      "HLX0001795\n"
     ]
    },
    {
     "name": "stderr",
     "output_type": "stream",
     "text": [
      "Calculating similarities: 100%|██████████| 58824/58824 [00:00<00:00, 86138.65it/s] \n",
      "Building matrix: 100%|██████████| 1/1 [00:00<00:00,  7.05it/s]\n"
     ]
    },
    {
     "name": "stdout",
     "output_type": "stream",
     "text": [
      "HLX0001796\n"
     ]
    },
    {
     "name": "stderr",
     "output_type": "stream",
     "text": [
      "Calculating similarities: 100%|██████████| 58824/58824 [00:00<00:00, 133904.50it/s]\n",
      "Building matrix: 100%|██████████| 1/1 [00:00<00:00,  7.66it/s]\n"
     ]
    },
    {
     "name": "stdout",
     "output_type": "stream",
     "text": [
      "HLX0001799\n"
     ]
    },
    {
     "name": "stderr",
     "output_type": "stream",
     "text": [
      "Calculating similarities: 100%|██████████| 58824/58824 [00:00<00:00, 135171.97it/s]\n",
      "Building matrix: 100%|██████████| 1/1 [00:00<00:00,  7.58it/s]\n"
     ]
    },
    {
     "name": "stdout",
     "output_type": "stream",
     "text": [
      "HLX0001800\n"
     ]
    },
    {
     "name": "stderr",
     "output_type": "stream",
     "text": [
      "Calculating similarities: 100%|██████████| 58824/58824 [00:00<00:00, 106476.50it/s]\n",
      "Building matrix: 100%|██████████| 1/1 [00:00<00:00,  7.68it/s]\n"
     ]
    },
    {
     "name": "stdout",
     "output_type": "stream",
     "text": [
      "HLX0001801\n"
     ]
    },
    {
     "name": "stderr",
     "output_type": "stream",
     "text": [
      "Calculating similarities: 100%|██████████| 58824/58824 [00:00<00:00, 139505.07it/s]\n",
      "Building matrix: 100%|██████████| 1/1 [00:00<00:00,  8.05it/s]\n"
     ]
    },
    {
     "name": "stdout",
     "output_type": "stream",
     "text": [
      "HLX0001803\n"
     ]
    },
    {
     "name": "stderr",
     "output_type": "stream",
     "text": [
      "Calculating similarities: 100%|██████████| 58824/58824 [00:00<00:00, 87530.79it/s] \n",
      "Building matrix: 100%|██████████| 1/1 [00:00<00:00,  7.71it/s]\n"
     ]
    },
    {
     "name": "stdout",
     "output_type": "stream",
     "text": [
      "HLX0001805\n"
     ]
    },
    {
     "name": "stderr",
     "output_type": "stream",
     "text": [
      "Calculating similarities: 100%|██████████| 58824/58824 [00:00<00:00, 135460.21it/s]\n",
      "Building matrix: 100%|██████████| 1/1 [00:00<00:00,  6.86it/s]\n"
     ]
    },
    {
     "name": "stdout",
     "output_type": "stream",
     "text": [
      "HLX0001817\n"
     ]
    },
    {
     "name": "stderr",
     "output_type": "stream",
     "text": [
      "Calculating similarities: 100%|██████████| 58824/58824 [00:00<00:00, 134534.48it/s]\n",
      "Building matrix: 100%|██████████| 1/1 [00:00<00:00,  7.69it/s]\n"
     ]
    },
    {
     "name": "stdout",
     "output_type": "stream",
     "text": [
      "HLX0001818\n"
     ]
    },
    {
     "name": "stderr",
     "output_type": "stream",
     "text": [
      "Calculating similarities: 100%|██████████| 58824/58824 [00:00<00:00, 135988.82it/s]\n",
      "Building matrix: 100%|██████████| 1/1 [00:00<00:00,  7.65it/s]\n"
     ]
    },
    {
     "name": "stdout",
     "output_type": "stream",
     "text": [
      "HLX0001826\n"
     ]
    },
    {
     "name": "stderr",
     "output_type": "stream",
     "text": [
      "Calculating similarities: 100%|██████████| 58824/58824 [00:00<00:00, 135938.47it/s]\n",
      "Building matrix: 100%|██████████| 1/1 [00:00<00:00,  7.56it/s]\n"
     ]
    },
    {
     "name": "stdout",
     "output_type": "stream",
     "text": [
      "HLX0001827\n"
     ]
    },
    {
     "name": "stderr",
     "output_type": "stream",
     "text": [
      "Calculating similarities: 100%|██████████| 58824/58824 [00:00<00:00, 133743.14it/s]\n",
      "Building matrix: 100%|██████████| 1/1 [00:00<00:00,  7.52it/s]\n"
     ]
    },
    {
     "name": "stdout",
     "output_type": "stream",
     "text": [
      "HLX0001830\n"
     ]
    },
    {
     "name": "stderr",
     "output_type": "stream",
     "text": [
      "Calculating similarities: 100%|██████████| 58824/58824 [00:00<00:00, 72858.34it/s] \n",
      "Building matrix: 100%|██████████| 1/1 [00:00<00:00,  6.40it/s]\n"
     ]
    },
    {
     "name": "stdout",
     "output_type": "stream",
     "text": [
      "HLX0001846\n"
     ]
    },
    {
     "name": "stderr",
     "output_type": "stream",
     "text": [
      "Calculating similarities: 100%|██████████| 58824/58824 [00:00<00:00, 124135.30it/s]\n",
      "Building matrix: 100%|██████████| 1/1 [00:00<00:00,  6.66it/s]\n"
     ]
    },
    {
     "name": "stdout",
     "output_type": "stream",
     "text": [
      "HLX0001858\n"
     ]
    },
    {
     "name": "stderr",
     "output_type": "stream",
     "text": [
      "Calculating similarities: 100%|██████████| 58824/58824 [00:00<00:00, 136109.98it/s]\n",
      "Building matrix: 100%|██████████| 1/1 [00:00<00:00,  7.97it/s]\n"
     ]
    },
    {
     "name": "stdout",
     "output_type": "stream",
     "text": [
      "HLX0001864\n"
     ]
    },
    {
     "name": "stderr",
     "output_type": "stream",
     "text": [
      "Calculating similarities: 100%|██████████| 58824/58824 [00:00<00:00, 137204.62it/s]\n",
      "Building matrix: 100%|██████████| 1/1 [00:00<00:00,  7.62it/s]\n"
     ]
    },
    {
     "name": "stdout",
     "output_type": "stream",
     "text": [
      "HLX0001871\n"
     ]
    },
    {
     "name": "stderr",
     "output_type": "stream",
     "text": [
      "Calculating similarities: 100%|██████████| 58824/58824 [00:00<00:00, 129830.23it/s]\n",
      "Building matrix: 100%|██████████| 1/1 [00:00<00:00,  3.14it/s]\n"
     ]
    },
    {
     "name": "stdout",
     "output_type": "stream",
     "text": [
      "HLX0001873\n"
     ]
    },
    {
     "name": "stderr",
     "output_type": "stream",
     "text": [
      "Calculating similarities: 100%|██████████| 58824/58824 [00:00<00:00, 119326.47it/s]\n",
      "Building matrix: 100%|██████████| 1/1 [00:00<00:00,  3.24it/s]\n"
     ]
    },
    {
     "name": "stdout",
     "output_type": "stream",
     "text": [
      "HLX0001888\n"
     ]
    },
    {
     "name": "stderr",
     "output_type": "stream",
     "text": [
      "Calculating similarities: 100%|██████████| 58824/58824 [00:00<00:00, 80819.07it/s]\n",
      "Building matrix: 100%|██████████| 1/1 [00:00<00:00,  6.84it/s]\n"
     ]
    },
    {
     "name": "stdout",
     "output_type": "stream",
     "text": [
      "HLX0001900\n"
     ]
    },
    {
     "name": "stderr",
     "output_type": "stream",
     "text": [
      "Calculating similarities: 100%|██████████| 58824/58824 [00:00<00:00, 127686.99it/s]\n",
      "Building matrix: 100%|██████████| 1/1 [00:00<00:00,  6.78it/s]\n"
     ]
    },
    {
     "name": "stdout",
     "output_type": "stream",
     "text": [
      "HLX0001901\n"
     ]
    },
    {
     "name": "stderr",
     "output_type": "stream",
     "text": [
      "Calculating similarities: 100%|██████████| 58824/58824 [00:00<00:00, 126617.83it/s]\n",
      "Building matrix: 100%|██████████| 1/1 [00:00<00:00,  6.37it/s]\n"
     ]
    },
    {
     "name": "stdout",
     "output_type": "stream",
     "text": [
      "HLX0001904\n"
     ]
    },
    {
     "name": "stderr",
     "output_type": "stream",
     "text": [
      "Calculating similarities: 100%|██████████| 58824/58824 [00:00<00:00, 91209.88it/s] \n",
      "Building matrix: 100%|██████████| 1/1 [00:00<00:00,  6.60it/s]\n"
     ]
    },
    {
     "name": "stdout",
     "output_type": "stream",
     "text": [
      "HLX0001910\n"
     ]
    },
    {
     "name": "stderr",
     "output_type": "stream",
     "text": [
      "Calculating similarities: 100%|██████████| 58824/58824 [00:00<00:00, 118621.22it/s]\n",
      "Building matrix: 100%|██████████| 1/1 [00:00<00:00,  6.63it/s]\n"
     ]
    },
    {
     "name": "stdout",
     "output_type": "stream",
     "text": [
      "HLX0001916\n"
     ]
    },
    {
     "name": "stderr",
     "output_type": "stream",
     "text": [
      "Calculating similarities: 100%|██████████| 58824/58824 [00:00<00:00, 82287.20it/s] \n",
      "Building matrix: 100%|██████████| 1/1 [00:00<00:00,  7.26it/s]\n"
     ]
    },
    {
     "name": "stdout",
     "output_type": "stream",
     "text": [
      "HLX0001924\n"
     ]
    },
    {
     "name": "stderr",
     "output_type": "stream",
     "text": [
      "Calculating similarities: 100%|██████████| 58824/58824 [00:00<00:00, 124811.68it/s]\n",
      "Building matrix: 100%|██████████| 1/1 [00:00<00:00,  7.23it/s]\n"
     ]
    },
    {
     "name": "stdout",
     "output_type": "stream",
     "text": [
      "HLX0001926\n"
     ]
    },
    {
     "name": "stderr",
     "output_type": "stream",
     "text": [
      "Calculating similarities: 100%|██████████| 58824/58824 [00:00<00:00, 130636.38it/s]\n",
      "Building matrix: 100%|██████████| 1/1 [00:00<00:00,  7.51it/s]\n"
     ]
    },
    {
     "name": "stdout",
     "output_type": "stream",
     "text": [
      "HLX0001928\n"
     ]
    },
    {
     "name": "stderr",
     "output_type": "stream",
     "text": [
      "Calculating similarities: 100%|██████████| 58824/58824 [00:00<00:00, 128936.67it/s]\n",
      "Building matrix: 100%|██████████| 1/1 [00:00<00:00,  3.85it/s]\n"
     ]
    },
    {
     "name": "stdout",
     "output_type": "stream",
     "text": [
      "HLX0001929\n"
     ]
    },
    {
     "name": "stderr",
     "output_type": "stream",
     "text": [
      "Calculating similarities: 100%|██████████| 58824/58824 [00:00<00:00, 107417.35it/s]\n",
      "Building matrix: 100%|██████████| 1/1 [00:00<00:00,  5.89it/s]\n"
     ]
    },
    {
     "name": "stdout",
     "output_type": "stream",
     "text": [
      "HLX0001935\n"
     ]
    },
    {
     "name": "stderr",
     "output_type": "stream",
     "text": [
      "Calculating similarities: 100%|██████████| 58824/58824 [00:00<00:00, 73460.73it/s] \n",
      "Building matrix: 100%|██████████| 1/1 [00:00<00:00,  5.73it/s]\n"
     ]
    },
    {
     "name": "stdout",
     "output_type": "stream",
     "text": [
      "HLX0001941\n"
     ]
    },
    {
     "name": "stderr",
     "output_type": "stream",
     "text": [
      "Calculating similarities: 100%|██████████| 58824/58824 [00:00<00:00, 87532.71it/s] \n",
      "Building matrix: 100%|██████████| 1/1 [00:00<00:00,  6.06it/s]\n"
     ]
    },
    {
     "name": "stdout",
     "output_type": "stream",
     "text": [
      "HLX0001946\n"
     ]
    },
    {
     "name": "stderr",
     "output_type": "stream",
     "text": [
      "Calculating similarities: 100%|██████████| 58824/58824 [00:00<00:00, 112104.24it/s]\n",
      "Building matrix: 100%|██████████| 1/1 [00:00<00:00,  5.52it/s]\n"
     ]
    },
    {
     "name": "stdout",
     "output_type": "stream",
     "text": [
      "HLX0001948\n"
     ]
    },
    {
     "name": "stderr",
     "output_type": "stream",
     "text": [
      "Calculating similarities: 100%|██████████| 58824/58824 [00:00<00:00, 107665.08it/s]\n",
      "Building matrix: 100%|██████████| 1/1 [00:00<00:00,  5.57it/s]\n"
     ]
    },
    {
     "name": "stdout",
     "output_type": "stream",
     "text": [
      "HLX0001949\n"
     ]
    },
    {
     "name": "stderr",
     "output_type": "stream",
     "text": [
      "Calculating similarities: 100%|██████████| 58824/58824 [00:00<00:00, 112311.17it/s]\n",
      "Building matrix: 100%|██████████| 1/1 [00:00<00:00,  6.64it/s]\n"
     ]
    },
    {
     "name": "stdout",
     "output_type": "stream",
     "text": [
      "HLX0001953\n"
     ]
    },
    {
     "name": "stderr",
     "output_type": "stream",
     "text": [
      "Calculating similarities: 100%|██████████| 58824/58824 [00:00<00:00, 118033.99it/s]\n",
      "Building matrix: 100%|██████████| 1/1 [00:00<00:00,  4.67it/s]\n"
     ]
    },
    {
     "name": "stdout",
     "output_type": "stream",
     "text": [
      "HLX0001966\n"
     ]
    },
    {
     "name": "stderr",
     "output_type": "stream",
     "text": [
      "Calculating similarities: 100%|██████████| 58824/58824 [00:00<00:00, 85444.75it/s]\n",
      "Building matrix: 100%|██████████| 1/1 [00:00<00:00,  7.41it/s]\n"
     ]
    },
    {
     "name": "stdout",
     "output_type": "stream",
     "text": [
      "HLX0001977\n"
     ]
    },
    {
     "name": "stderr",
     "output_type": "stream",
     "text": [
      "Calculating similarities: 100%|██████████| 58824/58824 [00:00<00:00, 124339.68it/s]\n",
      "Building matrix: 100%|██████████| 1/1 [00:00<00:00,  7.22it/s]\n"
     ]
    },
    {
     "name": "stdout",
     "output_type": "stream",
     "text": [
      "HLX0001985\n"
     ]
    },
    {
     "name": "stderr",
     "output_type": "stream",
     "text": [
      "Calculating similarities: 100%|██████████| 58824/58824 [00:00<00:00, 124088.73it/s]\n",
      "Building matrix: 100%|██████████| 1/1 [00:00<00:00,  7.23it/s]\n"
     ]
    },
    {
     "name": "stdout",
     "output_type": "stream",
     "text": [
      "HLX0001987\n"
     ]
    },
    {
     "name": "stderr",
     "output_type": "stream",
     "text": [
      "Calculating similarities: 100%|██████████| 58824/58824 [00:00<00:00, 122689.79it/s]\n",
      "Building matrix: 100%|██████████| 1/1 [00:00<00:00,  6.76it/s]\n"
     ]
    },
    {
     "name": "stdout",
     "output_type": "stream",
     "text": [
      "HLX0001997\n"
     ]
    },
    {
     "name": "stderr",
     "output_type": "stream",
     "text": [
      "Calculating similarities: 100%|██████████| 58824/58824 [00:00<00:00, 130473.27it/s]\n",
      "Building matrix: 100%|██████████| 1/1 [00:00<00:00,  7.36it/s]\n"
     ]
    },
    {
     "name": "stdout",
     "output_type": "stream",
     "text": [
      "HLX0002009\n"
     ]
    },
    {
     "name": "stderr",
     "output_type": "stream",
     "text": [
      "Calculating similarities: 100%|██████████| 58824/58824 [00:00<00:00, 88768.43it/s] \n",
      "Building matrix: 100%|██████████| 1/1 [00:00<00:00,  7.69it/s]\n"
     ]
    },
    {
     "name": "stdout",
     "output_type": "stream",
     "text": [
      "HLX0002015\n"
     ]
    },
    {
     "name": "stderr",
     "output_type": "stream",
     "text": [
      "Calculating similarities: 100%|██████████| 58824/58824 [00:00<00:00, 127880.77it/s]\n",
      "Building matrix: 100%|██████████| 1/1 [00:00<00:00,  7.34it/s]\n"
     ]
    },
    {
     "name": "stdout",
     "output_type": "stream",
     "text": [
      "HLX0002017\n"
     ]
    },
    {
     "name": "stderr",
     "output_type": "stream",
     "text": [
      "Calculating similarities: 100%|██████████| 58824/58824 [00:00<00:00, 126246.34it/s]\n",
      "Building matrix: 100%|██████████| 1/1 [00:00<00:00,  7.29it/s]\n"
     ]
    },
    {
     "name": "stdout",
     "output_type": "stream",
     "text": [
      "HLX0002018\n"
     ]
    },
    {
     "name": "stderr",
     "output_type": "stream",
     "text": [
      "Calculating similarities: 100%|██████████| 58824/58824 [00:00<00:00, 129842.87it/s]\n",
      "Building matrix: 100%|██████████| 1/1 [00:00<00:00,  7.27it/s]\n"
     ]
    },
    {
     "name": "stdout",
     "output_type": "stream",
     "text": [
      "HLX0002025\n"
     ]
    },
    {
     "name": "stderr",
     "output_type": "stream",
     "text": [
      "Calculating similarities: 100%|██████████| 58824/58824 [00:00<00:00, 129342.71it/s]\n",
      "Building matrix: 100%|██████████| 1/1 [00:00<00:00,  7.36it/s]\n"
     ]
    },
    {
     "name": "stdout",
     "output_type": "stream",
     "text": [
      "HLX0002033\n"
     ]
    },
    {
     "name": "stderr",
     "output_type": "stream",
     "text": [
      "Calculating similarities: 100%|██████████| 58824/58824 [00:00<00:00, 84672.35it/s]\n",
      "Building matrix: 100%|██████████| 1/1 [00:00<00:00,  7.62it/s]\n"
     ]
    },
    {
     "name": "stdout",
     "output_type": "stream",
     "text": [
      "HLX0002037\n"
     ]
    },
    {
     "name": "stderr",
     "output_type": "stream",
     "text": [
      "Calculating similarities: 100%|██████████| 58824/58824 [00:00<00:00, 129986.53it/s]\n",
      "Building matrix: 100%|██████████| 1/1 [00:00<00:00,  7.35it/s]\n"
     ]
    },
    {
     "name": "stdout",
     "output_type": "stream",
     "text": [
      "HLX0002038\n"
     ]
    },
    {
     "name": "stderr",
     "output_type": "stream",
     "text": [
      "Calculating similarities: 100%|██████████| 58824/58824 [00:00<00:00, 131682.22it/s]\n",
      "Building matrix: 100%|██████████| 1/1 [00:00<00:00,  7.45it/s]\n"
     ]
    },
    {
     "name": "stdout",
     "output_type": "stream",
     "text": [
      "HLX0002047\n"
     ]
    },
    {
     "name": "stderr",
     "output_type": "stream",
     "text": [
      "Calculating similarities: 100%|██████████| 58824/58824 [00:00<00:00, 130903.64it/s]\n",
      "Building matrix: 100%|██████████| 1/1 [00:00<00:00,  7.35it/s]\n"
     ]
    },
    {
     "name": "stdout",
     "output_type": "stream",
     "text": [
      "HLX0002052\n"
     ]
    },
    {
     "name": "stderr",
     "output_type": "stream",
     "text": [
      "Calculating similarities: 100%|██████████| 58824/58824 [00:00<00:00, 123384.96it/s]\n",
      "Building matrix: 100%|██████████| 1/1 [00:00<00:00,  7.60it/s]\n"
     ]
    },
    {
     "name": "stdout",
     "output_type": "stream",
     "text": [
      "HLX0002054\n"
     ]
    },
    {
     "name": "stderr",
     "output_type": "stream",
     "text": [
      "Calculating similarities: 100%|██████████| 58824/58824 [00:00<00:00, 85437.15it/s] \n",
      "Building matrix: 100%|██████████| 1/1 [00:00<00:00,  7.49it/s]\n"
     ]
    },
    {
     "name": "stdout",
     "output_type": "stream",
     "text": [
      "HLX0002067\n"
     ]
    },
    {
     "name": "stderr",
     "output_type": "stream",
     "text": [
      "Calculating similarities: 100%|██████████| 58824/58824 [00:00<00:00, 130958.95it/s]\n",
      "Building matrix: 100%|██████████| 1/1 [00:00<00:00,  7.45it/s]\n"
     ]
    },
    {
     "name": "stdout",
     "output_type": "stream",
     "text": [
      "HLX0002078\n"
     ]
    },
    {
     "name": "stderr",
     "output_type": "stream",
     "text": [
      "Calculating similarities: 100%|██████████| 58824/58824 [00:00<00:00, 86508.82it/s] \n",
      "Building matrix: 100%|██████████| 1/1 [00:00<00:00,  6.34it/s]\n"
     ]
    },
    {
     "name": "stdout",
     "output_type": "stream",
     "text": [
      "HLX0002089\n"
     ]
    },
    {
     "name": "stderr",
     "output_type": "stream",
     "text": [
      "Calculating similarities: 100%|██████████| 58824/58824 [00:00<00:00, 131332.03it/s]\n",
      "Building matrix: 100%|██████████| 1/1 [00:00<00:00,  7.36it/s]\n"
     ]
    },
    {
     "name": "stdout",
     "output_type": "stream",
     "text": [
      "HLX0002095\n"
     ]
    },
    {
     "name": "stderr",
     "output_type": "stream",
     "text": [
      "Calculating similarities: 100%|██████████| 58824/58824 [00:00<00:00, 61370.88it/s]\n",
      "Building matrix: 100%|██████████| 1/1 [00:00<00:00,  5.35it/s]\n"
     ]
    },
    {
     "name": "stdout",
     "output_type": "stream",
     "text": [
      "HLX0002098\n"
     ]
    },
    {
     "name": "stderr",
     "output_type": "stream",
     "text": [
      "Calculating similarities: 100%|██████████| 58824/58824 [00:00<00:00, 73201.68it/s]\n",
      "Building matrix: 100%|██████████| 1/1 [00:00<00:00,  5.76it/s]\n"
     ]
    },
    {
     "name": "stdout",
     "output_type": "stream",
     "text": [
      "HLX0002110\n"
     ]
    },
    {
     "name": "stderr",
     "output_type": "stream",
     "text": [
      "Calculating similarities: 100%|██████████| 58824/58824 [00:00<00:00, 130012.69it/s]\n",
      "Building matrix: 100%|██████████| 1/1 [00:00<00:00,  7.35it/s]\n"
     ]
    },
    {
     "name": "stdout",
     "output_type": "stream",
     "text": [
      "HLX0002111\n"
     ]
    },
    {
     "name": "stderr",
     "output_type": "stream",
     "text": [
      "Calculating similarities: 100%|██████████| 58824/58824 [00:00<00:00, 132574.83it/s]\n",
      "Building matrix: 100%|██████████| 1/1 [00:00<00:00,  7.95it/s]\n"
     ]
    },
    {
     "name": "stdout",
     "output_type": "stream",
     "text": [
      "HLX0002112\n"
     ]
    },
    {
     "name": "stderr",
     "output_type": "stream",
     "text": [
      "Calculating similarities: 100%|██████████| 58824/58824 [00:00<00:00, 133887.50it/s]\n",
      "Building matrix: 100%|██████████| 1/1 [00:00<00:00,  7.73it/s]\n"
     ]
    },
    {
     "name": "stdout",
     "output_type": "stream",
     "text": [
      "HLX0002119\n"
     ]
    },
    {
     "name": "stderr",
     "output_type": "stream",
     "text": [
      "Calculating similarities: 100%|██████████| 58824/58824 [00:00<00:00, 132055.49it/s]\n",
      "Building matrix: 100%|██████████| 1/1 [00:00<00:00,  7.55it/s]\n"
     ]
    },
    {
     "name": "stdout",
     "output_type": "stream",
     "text": [
      "HLX0002121\n"
     ]
    },
    {
     "name": "stderr",
     "output_type": "stream",
     "text": [
      "Calculating similarities: 100%|██████████| 58824/58824 [00:00<00:00, 89187.03it/s] \n",
      "Building matrix: 100%|██████████| 1/1 [00:00<00:00,  7.57it/s]\n"
     ]
    },
    {
     "name": "stdout",
     "output_type": "stream",
     "text": [
      "HLX0002126\n"
     ]
    },
    {
     "name": "stderr",
     "output_type": "stream",
     "text": [
      "Calculating similarities: 100%|██████████| 58824/58824 [00:00<00:00, 132937.64it/s]\n",
      "Building matrix: 100%|██████████| 1/1 [00:00<00:00,  7.25it/s]\n"
     ]
    },
    {
     "name": "stdout",
     "output_type": "stream",
     "text": [
      "HLX0002133\n"
     ]
    },
    {
     "name": "stderr",
     "output_type": "stream",
     "text": [
      "Calculating similarities: 100%|██████████| 58824/58824 [00:00<00:00, 131958.30it/s]\n",
      "Building matrix: 100%|██████████| 1/1 [00:00<00:00,  7.56it/s]\n"
     ]
    },
    {
     "name": "stdout",
     "output_type": "stream",
     "text": [
      "HLX0002136\n"
     ]
    },
    {
     "name": "stderr",
     "output_type": "stream",
     "text": [
      "Calculating similarities: 100%|██████████| 58824/58824 [00:00<00:00, 102604.02it/s]\n",
      "Building matrix: 100%|██████████| 1/1 [00:00<00:00,  7.26it/s]\n"
     ]
    },
    {
     "name": "stdout",
     "output_type": "stream",
     "text": [
      "HLX0002242\n"
     ]
    },
    {
     "name": "stderr",
     "output_type": "stream",
     "text": [
      "Calculating similarities: 100%|██████████| 58824/58824 [00:00<00:00, 116121.91it/s]\n",
      "Building matrix: 100%|██████████| 1/1 [00:00<00:00,  7.52it/s]\n"
     ]
    },
    {
     "name": "stdout",
     "output_type": "stream",
     "text": [
      "HLX0002265\n"
     ]
    },
    {
     "name": "stderr",
     "output_type": "stream",
     "text": [
      "Calculating similarities: 100%|██████████| 58824/58824 [00:00<00:00, 86874.83it/s] \n",
      "Building matrix: 100%|██████████| 1/1 [00:00<00:00,  7.32it/s]\n"
     ]
    },
    {
     "name": "stdout",
     "output_type": "stream",
     "text": [
      "HLX0002279\n"
     ]
    },
    {
     "name": "stderr",
     "output_type": "stream",
     "text": [
      "Calculating similarities: 100%|██████████| 58824/58824 [00:00<00:00, 137430.61it/s]\n",
      "Building matrix: 100%|██████████| 1/1 [00:00<00:00,  8.06it/s]\n"
     ]
    },
    {
     "name": "stdout",
     "output_type": "stream",
     "text": [
      "HLX0002379\n"
     ]
    },
    {
     "name": "stderr",
     "output_type": "stream",
     "text": [
      "Calculating similarities: 100%|██████████| 58824/58824 [00:00<00:00, 135067.63it/s]\n",
      "Building matrix: 100%|██████████| 1/1 [00:00<00:00,  7.38it/s]\n"
     ]
    },
    {
     "name": "stdout",
     "output_type": "stream",
     "text": [
      "HLX0002380\n"
     ]
    },
    {
     "name": "stderr",
     "output_type": "stream",
     "text": [
      "Calculating similarities: 100%|██████████| 58824/58824 [00:00<00:00, 132572.48it/s]\n",
      "Building matrix: 100%|██████████| 1/1 [00:00<00:00,  7.54it/s]\n"
     ]
    },
    {
     "name": "stdout",
     "output_type": "stream",
     "text": [
      "HLX0002440\n"
     ]
    },
    {
     "name": "stderr",
     "output_type": "stream",
     "text": [
      "Calculating similarities: 100%|██████████| 58824/58824 [00:00<00:00, 130796.63it/s]\n",
      "Building matrix: 100%|██████████| 1/1 [00:00<00:00,  7.50it/s]\n"
     ]
    },
    {
     "name": "stdout",
     "output_type": "stream",
     "text": [
      "HLX0002442\n"
     ]
    },
    {
     "name": "stderr",
     "output_type": "stream",
     "text": [
      "Calculating similarities: 100%|██████████| 58824/58824 [00:00<00:00, 131035.38it/s]\n",
      "Building matrix: 100%|██████████| 1/1 [00:00<00:00,  7.20it/s]\n"
     ]
    },
    {
     "name": "stdout",
     "output_type": "stream",
     "text": [
      "HLX0002443\n"
     ]
    },
    {
     "name": "stderr",
     "output_type": "stream",
     "text": [
      "Calculating similarities: 100%|██████████| 58824/58824 [00:00<00:00, 72101.91it/s] \n",
      "Building matrix: 100%|██████████| 1/1 [00:00<00:00,  7.28it/s]\n"
     ]
    },
    {
     "name": "stdout",
     "output_type": "stream",
     "text": [
      "HLX0002444\n"
     ]
    },
    {
     "name": "stderr",
     "output_type": "stream",
     "text": [
      "Calculating similarities: 100%|██████████| 58824/58824 [00:00<00:00, 130030.51it/s]\n",
      "Building matrix: 100%|██████████| 1/1 [00:00<00:00,  7.48it/s]\n"
     ]
    }
   ],
   "source": [
    "#run similarity search\n",
    "dataframes = []\n",
    "c = 1\n",
    "for id, llist in data_dict.items():\n",
    "    query_smiles = llist[1]\n",
    "    sim_matrix = cs.search(query=query_smiles)\n",
    "    filtered_matrix = sim_matrix[sim_matrix[\"ref\"] == sim_matrix[\"ref\"].max()]\n",
    "    filtered_matrix = filtered_matrix.reset_index().rename(columns={\"index\": \"KB_name\", \"ref\": \"similarity_score\"})\n",
    "    filtered_matrix[\"DotmaticsID\"] = id\n",
    "    filtered_matrix[\"index\"] = c\n",
    "    filtered_matrix[\"Dotmatics_smiles\"] = llist[1]\n",
    "    filtered_matrix[\"KB_smiles\"] = filtered_matrix[\"KB_name\"].map(KBsmiles)\n",
    "    filtered_matrix[\"Dotmatics_name\"] = data_dict[id][0]\n",
    "    filtered_matrix = filtered_matrix[[\"index\", \"DotmaticsID\", \"Dotmatics_name\", \"Dotmatics_smiles\", \"KB_name\", \"KB_smiles\", \"similarity_score\"]]\n",
    "    dataframes.append(filtered_matrix)\n",
    "    c +=1\n",
    "result_df = pd.concat(dataframes, ignore_index=True)\n"
   ]
  },
  {
   "cell_type": "code",
   "execution_count": 29,
   "metadata": {},
   "outputs": [
    {
     "data": {
      "text/html": [
       "<div>\n",
       "<style scoped>\n",
       "    .dataframe tbody tr th:only-of-type {\n",
       "        vertical-align: middle;\n",
       "    }\n",
       "\n",
       "    .dataframe tbody tr th {\n",
       "        vertical-align: top;\n",
       "    }\n",
       "\n",
       "    .dataframe thead th {\n",
       "        text-align: right;\n",
       "    }\n",
       "</style>\n",
       "<table border=\"1\" class=\"dataframe\">\n",
       "  <thead>\n",
       "    <tr style=\"text-align: right;\">\n",
       "      <th></th>\n",
       "      <th>index</th>\n",
       "      <th>DotmaticsID</th>\n",
       "      <th>Dotmatics_name</th>\n",
       "      <th>Dotmatics_smiles</th>\n",
       "      <th>KB_name</th>\n",
       "      <th>KB_smiles</th>\n",
       "      <th>similarity_score</th>\n",
       "    </tr>\n",
       "  </thead>\n",
       "  <tbody>\n",
       "    <tr>\n",
       "      <th>0</th>\n",
       "      <td>1</td>\n",
       "      <td>HLX0000169</td>\n",
       "      <td>Peficitinib</td>\n",
       "      <td>NC(=O)c1cnc2[nH]ccc2c1NC1[C@@H]2CC3C[C@H]1CC(O...</td>\n",
       "      <td>PEFICITINIB</td>\n",
       "      <td>NC(=O)c1cnc2[nH]ccc2c1N[C@@H]1[C@@H]2CC3C[C@H]...</td>\n",
       "      <td>1.000000</td>\n",
       "    </tr>\n",
       "    <tr>\n",
       "      <th>1</th>\n",
       "      <td>1</td>\n",
       "      <td>HLX0000169</td>\n",
       "      <td>Peficitinib</td>\n",
       "      <td>NC(=O)c1cnc2[nH]ccc2c1NC1[C@@H]2CC3C[C@H]1CC(O...</td>\n",
       "      <td>CHEMBL4238926</td>\n",
       "      <td>NC(=O)c1cnc2[nH]ccc2c1NC1C2CC3CC1CC(O)(C3)C2</td>\n",
       "      <td>1.000000</td>\n",
       "    </tr>\n",
       "    <tr>\n",
       "      <th>2</th>\n",
       "      <td>2</td>\n",
       "      <td>HLX0000186</td>\n",
       "      <td>5,7-Dichloro-8-hydroxyquinoline beta-D-glucuro...</td>\n",
       "      <td>O[C@@H]1[C@@H](O)[C@@H](O[C@@H]([C@H]1O)C(=O)O...</td>\n",
       "      <td>CHEMBL1528425</td>\n",
       "      <td>O=C(Oc1c(Cl)cc(Cl)c2cccnc12)c1ccco1</td>\n",
       "      <td>0.491228</td>\n",
       "    </tr>\n",
       "    <tr>\n",
       "      <th>3</th>\n",
       "      <td>3</td>\n",
       "      <td>HLX0000191</td>\n",
       "      <td>5-Chloroquinoline</td>\n",
       "      <td>Clc1cccc2ncccc12</td>\n",
       "      <td>CLOXYQUIN</td>\n",
       "      <td>Oc1ccc(Cl)c2cccnc12</td>\n",
       "      <td>0.468750</td>\n",
       "    </tr>\n",
       "    <tr>\n",
       "      <th>4</th>\n",
       "      <td>4</td>\n",
       "      <td>HLX0000224</td>\n",
       "      <td>Dothiepin-d3</td>\n",
       "      <td>[2H]c1cc2c(c(c1[2H])[2H])/C(=C/CCN(C)C)c1ccccc...</td>\n",
       "      <td>DOTHIEPIN (ChEMBL CHEMBL1492500)</td>\n",
       "      <td>CN(C)CC/C=C1\\c2ccccc2CSc2ccccc21</td>\n",
       "      <td>0.755556</td>\n",
       "    </tr>\n",
       "    <tr>\n",
       "      <th>...</th>\n",
       "      <td>...</td>\n",
       "      <td>...</td>\n",
       "      <td>...</td>\n",
       "      <td>...</td>\n",
       "      <td>...</td>\n",
       "      <td>...</td>\n",
       "      <td>...</td>\n",
       "    </tr>\n",
       "    <tr>\n",
       "      <th>235</th>\n",
       "      <td>156</td>\n",
       "      <td>HLX0002440</td>\n",
       "      <td>Oligomycin A + Antimycin A Combination</td>\n",
       "      <td>CCCCCC[C@@H]1[C@@H](OC(=O)CC(C)C)[C@H](C)OC(=O...</td>\n",
       "      <td>Oligomycin A (LINCS LSM-43272)</td>\n",
       "      <td>CCC1/C=C/C=C/C[C@H](C)[C@@H](O)[C@](C)(O)C(=O)...</td>\n",
       "      <td>0.609023</td>\n",
       "    </tr>\n",
       "    <tr>\n",
       "      <th>236</th>\n",
       "      <td>156</td>\n",
       "      <td>HLX0002440</td>\n",
       "      <td>Oligomycin A + Antimycin A Combination</td>\n",
       "      <td>CCCCCC[C@@H]1[C@@H](OC(=O)CC(C)C)[C@H](C)OC(=O...</td>\n",
       "      <td>Oligomycin-A (LINCS LSM-43347)</td>\n",
       "      <td>CC[C@@H]1/C=C/C=C/C[C@H](C)[C@@H](O)[C@](C)(O)...</td>\n",
       "      <td>0.609023</td>\n",
       "    </tr>\n",
       "    <tr>\n",
       "      <th>237</th>\n",
       "      <td>157</td>\n",
       "      <td>HLX0002442</td>\n",
       "      <td></td>\n",
       "      <td>[3H]c1cc(c2cccnc2c1O)[N+](=O)[O-]</td>\n",
       "      <td>NITROXOLINE</td>\n",
       "      <td>O=[N+]([O-])c1ccc(O)c2ncccc12</td>\n",
       "      <td>0.771429</td>\n",
       "    </tr>\n",
       "    <tr>\n",
       "      <th>238</th>\n",
       "      <td>158</td>\n",
       "      <td>HLX0002443</td>\n",
       "      <td>Nitroxoline sulfate triethylamine</td>\n",
       "      <td>[O-]S(=O)(=O)Oc1ccc(c2cccnc12)N(=O)=O</td>\n",
       "      <td>NITROXOLINE</td>\n",
       "      <td>O=[N+]([O-])c1ccc(O)c2ncccc12</td>\n",
       "      <td>0.571429</td>\n",
       "    </tr>\n",
       "    <tr>\n",
       "      <th>239</th>\n",
       "      <td>159</td>\n",
       "      <td>HLX0002444</td>\n",
       "      <td>Nitroxoline beta-glucuronide</td>\n",
       "      <td>O[C@@H]1[C@@H](O)[C@@H](O[C@@H]([C@H]1O)C(=O)O...</td>\n",
       "      <td>NITROXOLINE</td>\n",
       "      <td>O=[N+]([O-])c1ccc(O)c2ncccc12</td>\n",
       "      <td>0.471698</td>\n",
       "    </tr>\n",
       "  </tbody>\n",
       "</table>\n",
       "<p>240 rows × 7 columns</p>\n",
       "</div>"
      ],
      "text/plain": [
       "     index DotmaticsID                                     Dotmatics_name  \\\n",
       "0        1  HLX0000169                                        Peficitinib   \n",
       "1        1  HLX0000169                                        Peficitinib   \n",
       "2        2  HLX0000186  5,7-Dichloro-8-hydroxyquinoline beta-D-glucuro...   \n",
       "3        3  HLX0000191                                  5-Chloroquinoline   \n",
       "4        4  HLX0000224                                       Dothiepin-d3   \n",
       "..     ...         ...                                                ...   \n",
       "235    156  HLX0002440             Oligomycin A + Antimycin A Combination   \n",
       "236    156  HLX0002440             Oligomycin A + Antimycin A Combination   \n",
       "237    157  HLX0002442                                                      \n",
       "238    158  HLX0002443                  Nitroxoline sulfate triethylamine   \n",
       "239    159  HLX0002444                       Nitroxoline beta-glucuronide   \n",
       "\n",
       "                                      Dotmatics_smiles  \\\n",
       "0    NC(=O)c1cnc2[nH]ccc2c1NC1[C@@H]2CC3C[C@H]1CC(O...   \n",
       "1    NC(=O)c1cnc2[nH]ccc2c1NC1[C@@H]2CC3C[C@H]1CC(O...   \n",
       "2    O[C@@H]1[C@@H](O)[C@@H](O[C@@H]([C@H]1O)C(=O)O...   \n",
       "3                                     Clc1cccc2ncccc12   \n",
       "4    [2H]c1cc2c(c(c1[2H])[2H])/C(=C/CCN(C)C)c1ccccc...   \n",
       "..                                                 ...   \n",
       "235  CCCCCC[C@@H]1[C@@H](OC(=O)CC(C)C)[C@H](C)OC(=O...   \n",
       "236  CCCCCC[C@@H]1[C@@H](OC(=O)CC(C)C)[C@H](C)OC(=O...   \n",
       "237                  [3H]c1cc(c2cccnc2c1O)[N+](=O)[O-]   \n",
       "238              [O-]S(=O)(=O)Oc1ccc(c2cccnc12)N(=O)=O   \n",
       "239  O[C@@H]1[C@@H](O)[C@@H](O[C@@H]([C@H]1O)C(=O)O...   \n",
       "\n",
       "                              KB_name  \\\n",
       "0                         PEFICITINIB   \n",
       "1                       CHEMBL4238926   \n",
       "2                       CHEMBL1528425   \n",
       "3                           CLOXYQUIN   \n",
       "4    DOTHIEPIN (ChEMBL CHEMBL1492500)   \n",
       "..                                ...   \n",
       "235    Oligomycin A (LINCS LSM-43272)   \n",
       "236    Oligomycin-A (LINCS LSM-43347)   \n",
       "237                       NITROXOLINE   \n",
       "238                       NITROXOLINE   \n",
       "239                       NITROXOLINE   \n",
       "\n",
       "                                             KB_smiles  similarity_score  \n",
       "0    NC(=O)c1cnc2[nH]ccc2c1N[C@@H]1[C@@H]2CC3C[C@H]...          1.000000  \n",
       "1         NC(=O)c1cnc2[nH]ccc2c1NC1C2CC3CC1CC(O)(C3)C2          1.000000  \n",
       "2                  O=C(Oc1c(Cl)cc(Cl)c2cccnc12)c1ccco1          0.491228  \n",
       "3                                  Oc1ccc(Cl)c2cccnc12          0.468750  \n",
       "4                     CN(C)CC/C=C1\\c2ccccc2CSc2ccccc21          0.755556  \n",
       "..                                                 ...               ...  \n",
       "235  CCC1/C=C/C=C/C[C@H](C)[C@@H](O)[C@](C)(O)C(=O)...          0.609023  \n",
       "236  CC[C@@H]1/C=C/C=C/C[C@H](C)[C@@H](O)[C@](C)(O)...          0.609023  \n",
       "237                      O=[N+]([O-])c1ccc(O)c2ncccc12          0.771429  \n",
       "238                      O=[N+]([O-])c1ccc(O)c2ncccc12          0.571429  \n",
       "239                      O=[N+]([O-])c1ccc(O)c2ncccc12          0.471698  \n",
       "\n",
       "[240 rows x 7 columns]"
      ]
     },
     "execution_count": 29,
     "metadata": {},
     "output_type": "execute_result"
    }
   ],
   "source": [
    "result_df"
   ]
  },
  {
   "cell_type": "code",
   "execution_count": 30,
   "metadata": {},
   "outputs": [],
   "source": [
    "result_df.to_csv(\"/Users/sonialiggi/Library/CloudStorage/GoogleDrive-sonia.liggi@healx.io/Shared drives/Internal Projects/Dotmatics/KB Mapping/NotMapping_KBsimilarity.csv\", index = False)\n"
   ]
  },
  {
   "cell_type": "code",
   "execution_count": null,
   "metadata": {},
   "outputs": [],
   "source": []
  }
 ],
 "metadata": {
  "kernelspec": {
   "display_name": "Dotmatics2KB",
   "language": "python",
   "name": "python3"
  },
  "language_info": {
   "codemirror_mode": {
    "name": "ipython",
    "version": 3
   },
   "file_extension": ".py",
   "mimetype": "text/x-python",
   "name": "python",
   "nbconvert_exporter": "python",
   "pygments_lexer": "ipython3",
   "version": "3.9.11"
  }
 },
 "nbformat": 4,
 "nbformat_minor": 2
}
